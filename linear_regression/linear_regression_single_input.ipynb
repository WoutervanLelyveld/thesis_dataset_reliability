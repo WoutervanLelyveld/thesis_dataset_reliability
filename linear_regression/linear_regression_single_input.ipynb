{
 "cells": [
  {
   "cell_type": "code",
   "execution_count": 1,
   "id": "8003df86",
   "metadata": {},
   "outputs": [],
   "source": [
    "import pandas as pd\n",
    "import matplotlib.pyplot as plt\n",
    "from matplotlib import pyplot\n",
    "%matplotlib inline\n",
    "\n",
    "import numpy as np\n",
    "import seaborn as sns\n",
    "\n",
    "import tensorflow as tf\n",
    "from tensorflow import keras\n",
    "from tensorflow.keras import layers  # TF model"
   ]
  },
  {
   "cell_type": "code",
   "execution_count": 2,
   "id": "c12d1e95",
   "metadata": {},
   "outputs": [],
   "source": [
    "%store -r train_features\n",
    "%store -r test_features\n",
    "\n",
    "%store -r train_labels\n",
    "%store -r test_labels"
   ]
  },
  {
   "cell_type": "markdown",
   "id": "455b40e3",
   "metadata": {},
   "source": [
    "The tf.keras.layers.Normalization adding a feature normalization into the model.\n",
    "\n",
    "Create the layer"
   ]
  },
  {
   "cell_type": "code",
   "execution_count": 3,
   "id": "d92bdcc6",
   "metadata": {
    "scrolled": false
   },
   "outputs": [],
   "source": [
    "normalizer = tf.keras.layers.Normalization(axis=-1)"
   ]
  },
  {
   "cell_type": "markdown",
   "id": "d4a4ef9f",
   "metadata": {},
   "source": [
    "Fit the state of the preprocessing layer to the data"
   ]
  },
  {
   "cell_type": "code",
   "execution_count": 4,
   "id": "8d9b5708",
   "metadata": {},
   "outputs": [
    {
     "name": "stderr",
     "output_type": "stream",
     "text": [
      "2022-06-16 15:58:01.033013: W tensorflow/stream_executor/platform/default/dso_loader.cc:64] Could not load dynamic library 'libcuda.so.1'; dlerror: libcuda.so.1: cannot open shared object file: No such file or directory; LD_LIBRARY_PATH: /sw/arch/Debian10/EB_production/2021/software/Qhull/2020.2-GCCcore-10.3.0/lib:/sw/arch/Debian10/EB_production/2021/software/SciPy-bundle/2021.05-foss-2021a/lib/python3.9/site-packages/numpy/core/lib:/sw/arch/Debian10/EB_production/2021/software/PyTorch/1.10.0-foss-2021a-CUDA-11.3.1/lib/python3.9/site-packages/torch/lib:/sw/arch/Debian10/EB_production/2021/software/magma/2.6.1-foss-2021a-CUDA-11.3.1/lib:/sw/arch/Debian10/EB_production/2021/software/FFmpeg/4.3.2-GCCcore-10.3.0/lib:/sw/arch/Debian10/EB_production/2021/software/FriBidi/1.0.10-GCCcore-10.3.0/lib:/sw/arch/Debian10/EB_production/2021/software/x265/3.5-GCCcore-10.3.0/lib:/sw/arch/Debian10/EB_production/2021/software/LAME/3.100-GCCcore-10.3.0/lib:/sw/arch/Debian10/EB_production/2021/software/x264/20210414-GCCcore-10.3.0/lib:/sw/arch/Debian10/EB_production/2021/software/MPFR/4.1.0-GCCcore-10.3.0/lib:/sw/arch/Debian10/EB_production/2021/software/libyaml/0.2.5-GCCcore-10.3.0/lib:/sw/arch/Debian10/EB_production/2021/software/snappy/1.1.8-GCCcore-10.3.0/lib:/sw/arch/Debian10/EB_production/2021/software/protobuf/3.17.3-GCCcore-10.3.0/lib:/sw/arch/Debian10/EB_production/2021/software/nsync/1.24.0-GCCcore-10.3.0/lib:/sw/arch/Debian10/EB_production/2021/software/LMDB/0.9.28-GCCcore-10.3.0/lib:/sw/arch/Debian10/EB_production/2021/software/JsonCpp/1.9.4-GCCcore-10.3.0/lib:/sw/arch/Debian10/EB_production/2021/software/giflib/5.2.1-GCCcore-10.3.0/lib:/sw/arch/Debian10/EB_production/2021/software/flatbuffers/2.0.0-GCCcore-10.3.0/lib:/sw/arch/Debian10/EB_production/2021/software/double-conversion/3.1.5-GCCcore-10.3.0/lib:/sw/arch/Debian10/EB_production/2021/software/NCCL/2.10.3-GCCcore-10.3.0-CUDA-11.3.1/lib:/sw/arch/Debian10/EB_production/2021/software/GDRCopy/2.2-GCCcore-10.3.0/lib:/sw/arch/Debian10/EB_production/2021/software/cuDNN/8.2.1.32-CUDA-11.3.1/lib:/sw/arch/Debian10/EB_production/2021/software/CUDA/11.3.1/nvvm/lib64:/sw/arch/Debian10/EB_production/2021/software/CUDA/11.3.1/extras/CUPTI/lib64:/sw/arch/Debian10/EB_production/2021/software/CUDA/11.3.1/lib:/sw/arch/Debian10/EB_production/2021/software/R/4.1.0-foss-2021a/lib/R/lib:/sw/arch/Debian10/EB_production/2021/software/libgit2/1.1.0-GCCcore-10.3.0/lib:/sw/arch/Debian10/EB_production/2021/software/GDAL/3.3.0-foss-2021a/lib:/sw/arch/Debian10/EB_production/2021/software/HDF/4.2.15-GCCcore-10.3.0/lib:/sw/arch/Debian10/EB_production/2021/software/libtirpc/1.3.2-GCCcore-10.3.0/lib:/sw/arch/Debian10/EB_production/2021/software/libgeotiff/1.6.0-GCCcore-10.3.0/lib:/sw/arch/Debian10/EB_production/2021/software/PROJ/8.0.1-GCCcore-10.3.0/lib:/sw/arch/Debian10/EB_production/2021/software/PCRE/8.44-GCCcore-10.3.0/lib:/sw/arch/Debian10/EB_production/2021/software/GEOS/3.9.1-GCC-10.3.0/lib:/sw/arch/Debian10/EB_production/2021/software/netCDF/4.8.0-gompi-2021a/lib:/sw/arch/Debian10/EB_production/2021/software/GLPK/5.0-GCCcore-10.3.0/lib:/sw/arch/Debian10/EB_production/2021/software/ImageMagick/7.0.11-14-GCCcore-10.3.0/lib:/sw/arch/Debian10/EB_production/2021/software/LittleCMS/2.12-GCCcore-10.3.0/lib:/sw/arch/Debian10/EB_production/2021/software/JasPer/2.0.28-GCCcore-10.3.0/lib:/sw/arch/Debian10/EB_production/2021/software/Ghostscript/9.54.0-GCCcore-10.3.0/lib:/sw/arch/Debian10/EB_production/2021/software/GSL/2.7-GCC-10.3.0/lib:/sw/arch/Debian10/EB_production/2021/software/UDUNITS/2.2.28-GCCcore-10.3.0/lib:/sw/arch/Debian10/EB_production/2021/software/HDF5/1.10.7-gompi-2021a/lib:/sw/arch/Debian10/EB_production/2021/software/Szip/2.1.1-GCCcore-10.3.0/lib:/sw/arch/Debian10/EB_production/2021/software/ICU/69.1-GCCcore-10.3.0/lib:/sw/arch/Debian10/EB_production/2021/software/libsndfile/1.0.31-GCCcore-10.3.0/lib:/sw/arch/Debian10/EB_production/2021/software/libvorbis/1.3.7-GCCcore-10.3.0/lib:/sw/arch/Debian10/EB_production/2021/software/FLAC/1.3.3-GCCcore-10.3.0/lib:/sw/arch/Debian10/EB_production/2021/software/libogg/1.3.4-GCCcore-10.3.0/lib:/sw/arch/Debian10/EB_production/2021/software/NLopt/2.7.0-GCCcore-10.3.0/lib:/sw/arch/Debian10/EB_production/2021/software/cURL/7.76.0-GCCcore-10.3.0/lib:/sw/arch/Debian10/EB_production/2021/software/Tk/8.6.11-GCCcore-10.3.0/lib:/sw/arch/Debian10/EB_production/2021/software/Java/11.0.2/lib:/sw/arch/Debian10/EB_production/2021/software/LibTIFF/4.2.0-GCCcore-10.3.0/lib:/sw/arch/Debian10/EB_production/2021/software/libjpeg-turbo/2.0.6-GCCcore-10.3.0/lib:/sw/arch/Debian10/EB_production/2021/software/cairo/1.16.0-GCCcore-10.3.0/lib:/sw/arch/Debian10/EB_production/2021/software/GLib/2.68.2-GCCcore-10.3.0/lib:/sw/arch/Debian10/EB_production/2021/software/PCRE2/10.36-GCCcore-10.3.0/lib:/sw/arch/Debian10/EB_production/2021/software/gettext/0.21-GCCcore-10.3.0/lib:/sw/arch/Debian10/EB_production/2021/software/pixman/0.40.0-GCCcore-10.3.0/lib:/sw/arch/Debian10/EB_production/2021/software/libGLU/9.0.1-GCCcore-10.3.0/lib:/sw/arch/Debian10/EB_production/2021/software/Mesa/21.1.1-GCCcore-10.3.0/lib:/sw/arch/Debian10/EB_production/2021/software/LLVM/11.1.0-GCCcore-10.3.0/lib:/sw/arch/Debian10/EB_production/2021/software/libunwind/1.4.0-GCCcore-10.3.0/lib:/sw/arch/Debian10/EB_production/2021/software/libglvnd/1.3.3-GCCcore-10.3.0/lib:/sw/arch/Debian10/EB_production/2021/software/libdrm/2.4.106-GCCcore-10.3.0/lib:/sw/arch/Debian10/EB_production/2021/software/zstd/1.4.9-GCCcore-10.3.0/lib:/sw/arch/Debian10/EB_production/2021/software/lz4/1.9.3-GCCcore-10.3.0/lib:/sw/arch/Debian10/EB_production/2021/software/X11/20210518-GCCcore-10.3.0/lib:/sw/arch/Debian10/EB_production/2021/software/fontconfig/2.13.93-GCCcore-10.3.0/lib:/sw/arch/Debian10/EB_production/2021/software/freetype/2.10.4-GCCcore-10.3.0/lib:/sw/arch/Debian10/EB_production/2021/software/libpng/1.6.37-GCCcore-10.3.0/lib:/sw/arch/Debian10/EB_production/2021/software/expat/2.2.9-GCCcore-10.3.0/lib:/sw/arch/Debian10/EB_production/2021/software/ScaLAPACK/2.1.0-gompi-2021a-fb/lib:/sw/arch/Debian10/EB_production/2021/software/FFTW/3.3.9-gompi-2021a/lib:/sw/arch/Debian10/EB_production/2021/software/FlexiBLAS/3.0.4-GCC-10.3.0/lib:/sw/arch/Debian10/EB_production/2021/software/OpenBLAS/0.3.15-GCC-10.3.0/lib:/sw/arch/Debian10/EB_production/2021/software/OpenMPI/4.1.1-GCC-10.3.0/lib:/sw/arch/Debian10/EB_production/2021/software/libfabric/1.12.1-GCCcore-10.3.0/lib:/sw/arch/Debian10/EB_production/2021/software/UCX/1.10.0-GCCcore-10.3.0/lib:/sw/arch/Debian10/EB_production/2021/software/libevent/2.1.12-GCCcore-10.3.0/lib:/sw/arch/Debian10/EB_production/2021/software/hwloc/2.4.1-GCCcore-10.3.0/lib:/sw/arch/Debian10/EB_production/2021/software/libpciaccess/0.16-GCCcore-10.3.0/lib:/sw/arch/Debian10/EB_production/2021/software/libxml2/2.9.10-GCCcore-10.3.0/lib:/sw/arch/Debian10/EB_production/2021/software/numactl/2.0.14-GCCcore-10.3.0/lib:/sw/arch/Debian10/EB_production/2021/software/nodejs/14.17.0-GCCcore-10.3.0/lib:/sw/arch/Debian10/EB_production/2021/software/ZeroMQ/4.3.4-GCCcore-10.3.0/lib:/sw/arch/Debian10/EB_production/2021/software/util-linux/2.36-GCCcore-10.3.0/lib:/sw/arch/Debian10/EB_production/2021/software/libsodium/1.0.18-GCCcore-10.3.0/lib:/sw/arch/Debian10/EB_production/2021/software/OpenPGM/5.2.122-GCCcore-10.3.0/lib:/sw/arch/Debian10/EB_production/2021/software/Python/3.9.5-GCCcore-10.3.0/lib:/sw/arch/Debian10/EB_production/2021/software/OpenSSL/1.1/lib:/sw/arch/Debian10/EB_production/2021/software/libffi/3.3-GCCcore-10.3.0/lib64:/sw/arch/Debian10/EB_production/2021/software/GMP/6.2.1-GCCcore-10.3.0/lib:/sw/arch/Debian10/EB_production/2021/software/XZ/5.2.5-GCCcore-10.3.0/lib:/sw/arch/Debian10/EB_production/2021/software/SQLite/3.35.4-GCCcore-10.3.0/lib:/sw/arch/Debian10/EB_production/2021/software/Tcl/8.6.11-GCCcore-10.3.0/lib:/sw/arch/Debian10/EB_production/2021/software/libreadline/8.1-GCCcore-10.3.0/lib:/sw/arch/Debian10/EB_production/2021/software/ncurses/6.2-GCCcore-10.3.0/lib:/sw/arch/Debian10/EB_production/2021/software/bzip2/1.0.8-GCCcore-10.3.0/lib:/sw/arch/Debian10/EB_production/2021/software/binutils/2.36.1-GCCcore-10.3.0/lib:/sw/arch/Debian10/EB_production/2021/software/zlib/1.2.11-GCCcore-10.3.0/lib:/sw/arch/Debian10/EB_production/2021/software/GCCcore/10.3.0/lib64\n",
      "2022-06-16 15:58:01.033050: W tensorflow/stream_executor/cuda/cuda_driver.cc:269] failed call to cuInit: UNKNOWN ERROR (303)\n",
      "2022-06-16 15:58:01.033069: I tensorflow/stream_executor/cuda/cuda_diagnostics.cc:156] kernel driver does not appear to be running on this host (r10n10.lisa.surfsara.nl): /proc/driver/nvidia/version does not exist\n",
      "2022-06-16 15:58:01.047750: I tensorflow/core/common_runtime/process_util.cc:146] Creating new thread pool with default inter op setting: 2. Tune using inter_op_parallelism_threads for best performance.\n",
      "2022-06-16 15:58:01.105238: I tensorflow/compiler/mlir/mlir_graph_optimization_pass.cc:185] None of the MLIR Optimization Passes are enabled (registered 2)\n"
     ]
    }
   ],
   "source": [
    "normalizer.adapt(np.array(train_features))"
   ]
  },
  {
   "cell_type": "markdown",
   "id": "1efe5c80",
   "metadata": {},
   "source": [
    "Calculating the mean and variance, and storing them in the layer:"
   ]
  },
  {
   "cell_type": "code",
   "execution_count": 5,
   "id": "c714d17b",
   "metadata": {
    "scrolled": true
   },
   "outputs": [
    {
     "name": "stdout",
     "output_type": "stream",
     "text": [
      "[[4.5719843e+00 8.5137823e+02 7.1319043e+02 5.0751388e-01 5.8288473e-01\n",
      "  2.7596102e+04 2.2877213e+04]]\n",
      "First example: [[   0 1373 1144    1    1  167 3748]]\n",
      "\n",
      "Normalized: [[-0.09  1.05  0.31  0.99  0.85 -0.37 -0.18]]\n"
     ]
    }
   ],
   "source": [
    "print(normalizer.mean.numpy())\n",
    "\n",
    "first = np.array(train_features[:1])\n",
    "\n",
    "with np.printoptions(precision=2, suppress=True):\n",
    "    print('First example:', first)\n",
    "    print()\n",
    "    print('Normalized:', normalizer(first).numpy())"
   ]
  },
  {
   "cell_type": "markdown",
   "id": "c4fc83b6",
   "metadata": {},
   "source": [
    "# 1. LINEAR REGRESSION (single input)"
   ]
  },
  {
   "cell_type": "code",
   "execution_count": 11,
   "id": "6cc78f8d",
   "metadata": {
    "scrolled": false
   },
   "outputs": [
    {
     "name": "stdout",
     "output_type": "stream",
     "text": [
      "Model: \"sequential\"\n",
      "_________________________________________________________________\n",
      "Layer (type)                 Output Shape              Param #   \n",
      "=================================================================\n",
      "normalization_2 (Normalizati (None, 1)                 3         \n",
      "_________________________________________________________________\n",
      "dense (Dense)                (None, 1)                 2         \n",
      "=================================================================\n",
      "Total params: 5\n",
      "Trainable params: 2\n",
      "Non-trainable params: 3\n",
      "_________________________________________________________________\n"
     ]
    }
   ],
   "source": [
    "totalviews = np.array(train_features['TotalViews'])\n",
    "totalviews_normalizer = layers.Normalization(input_shape=[1, ], axis=None)\n",
    "totalviews_normalizer.adapt(totalviews)\n",
    "\n",
    "totalviews_model = tf.keras.Sequential([\n",
    "    totalviews_normalizer,\n",
    "    layers.Dense(units=1)\n",
    "])\n",
    "\n",
    "totalviews_model.summary()"
   ]
  },
  {
   "cell_type": "markdown",
   "id": "a68bc2b6",
   "metadata": {},
   "source": [
    "For Mean Absolute Error"
   ]
  },
  {
   "cell_type": "code",
   "execution_count": null,
   "id": "0dda0521",
   "metadata": {
    "scrolled": false
   },
   "outputs": [],
   "source": [
    "totalviews_model.predict(totalviews[:10])\n",
    "\n",
    "totalviews_model.compile(\n",
    "    optimizer=tf.optimizers.Adam(learning_rate=0.1),\n",
    "    loss=tf.keras.losses.MeanAbsoluteError())\n",
    "\n",
    "history = totalviews_model.fit(\n",
    "    train_features['TotalViews'],\n",
    "    train_labels,\n",
    "    epochs=100,\n",
    "    # Suppress logging.\n",
    "    verbose=0,\n",
    "    # Calculate validation results on 20% of the training data.\n",
    "    validation_split=0.2)\n",
    "\n",
    "hist = pd.DataFrame(history.history)\n",
    "hist['epoch'] = history.epoch\n",
    "hist.tail()"
   ]
  },
  {
   "cell_type": "markdown",
   "id": "d82e061d",
   "metadata": {},
   "source": [
    "For Mean Squared Error"
   ]
  },
  {
   "cell_type": "code",
   "execution_count": 339,
   "id": "fa1f5e8b",
   "metadata": {},
   "outputs": [
    {
     "data": {
      "text/html": [
       "<div>\n",
       "<style scoped>\n",
       "    .dataframe tbody tr th:only-of-type {\n",
       "        vertical-align: middle;\n",
       "    }\n",
       "\n",
       "    .dataframe tbody tr th {\n",
       "        vertical-align: top;\n",
       "    }\n",
       "\n",
       "    .dataframe thead th {\n",
       "        text-align: right;\n",
       "    }\n",
       "</style>\n",
       "<table border=\"1\" class=\"dataframe\">\n",
       "  <thead>\n",
       "    <tr style=\"text-align: right;\">\n",
       "      <th></th>\n",
       "      <th>loss</th>\n",
       "      <th>val_loss</th>\n",
       "      <th>epoch</th>\n",
       "    </tr>\n",
       "  </thead>\n",
       "  <tbody>\n",
       "    <tr>\n",
       "      <th>95</th>\n",
       "      <td>21356.267578</td>\n",
       "      <td>24979.335938</td>\n",
       "      <td>95</td>\n",
       "    </tr>\n",
       "    <tr>\n",
       "      <th>96</th>\n",
       "      <td>21360.800781</td>\n",
       "      <td>24978.410156</td>\n",
       "      <td>96</td>\n",
       "    </tr>\n",
       "    <tr>\n",
       "      <th>97</th>\n",
       "      <td>21356.554688</td>\n",
       "      <td>24978.166016</td>\n",
       "      <td>97</td>\n",
       "    </tr>\n",
       "    <tr>\n",
       "      <th>98</th>\n",
       "      <td>21370.371094</td>\n",
       "      <td>24977.312500</td>\n",
       "      <td>98</td>\n",
       "    </tr>\n",
       "    <tr>\n",
       "      <th>99</th>\n",
       "      <td>21352.304688</td>\n",
       "      <td>24966.128906</td>\n",
       "      <td>99</td>\n",
       "    </tr>\n",
       "  </tbody>\n",
       "</table>\n",
       "</div>"
      ],
      "text/plain": [
       "            loss      val_loss  epoch\n",
       "95  21356.267578  24979.335938     95\n",
       "96  21360.800781  24978.410156     96\n",
       "97  21356.554688  24978.166016     97\n",
       "98  21370.371094  24977.312500     98\n",
       "99  21352.304688  24966.128906     99"
      ]
     },
     "execution_count": 339,
     "metadata": {},
     "output_type": "execute_result"
    }
   ],
   "source": [
    "totalviews_model.predict(totalviews[:10])\n",
    "\n",
    "totalviews_model.compile(\n",
    "    optimizer=tf.optimizers.Adam(learning_rate=0.1),\n",
    "    loss=tf.keras.losses.MeanSquaredError())\n",
    "\n",
    "history = totalviews_model.fit(\n",
    "    train_features['TotalViews'],\n",
    "    train_labels,\n",
    "    epochs=100,\n",
    "    # Suppress logging.\n",
    "    verbose=0,\n",
    "    # Calculate validation results on 20% of the training data.\n",
    "    validation_split=0.2)\n",
    "\n",
    "hist = pd.DataFrame(history.history)\n",
    "hist['epoch'] = history.epoch\n",
    "hist.tail()"
   ]
  },
  {
   "cell_type": "code",
   "execution_count": null,
   "id": "b3dd53c5",
   "metadata": {
    "scrolled": false
   },
   "outputs": [],
   "source": [
    "def plot_loss(history):\n",
    "    plt.plot(history.history['loss'], label='loss')\n",
    "    plt.plot(history.history['val_loss'], label='val_loss')\n",
    "    # plt.ylim([0, 10])\n",
    "    plt.xlabel('Epoch')\n",
    "    plt.ylabel('Error [TotalViews]')\n",
    "    plt.legend()\n",
    "    plt.grid(True)"
   ]
  },
  {
   "cell_type": "markdown",
   "id": "2cd6161c",
   "metadata": {},
   "source": [
    "Mean Absolute Error"
   ]
  },
  {
   "cell_type": "code",
   "execution_count": null,
   "id": "f8b2f642",
   "metadata": {
    "scrolled": false
   },
   "outputs": [],
   "source": [
    "plot_loss(history)\n",
    "plt.show()"
   ]
  },
  {
   "cell_type": "markdown",
   "id": "c03b40f3",
   "metadata": {},
   "source": [
    "Mean Squared Error Loss"
   ]
  },
  {
   "cell_type": "code",
   "execution_count": 342,
   "id": "7fd81339",
   "metadata": {},
   "outputs": [
    {
     "data": {
      "image/png": "[encoded data removed]",
      "text/plain": [
       "<Figure size 432x288 with 1 Axes>"
      ]
     },
     "metadata": {
      "needs_background": "light"
     },
     "output_type": "display_data"
    }
   ],
   "source": [
    "plot_loss(history)\n",
    "plt.show()"
   ]
  },
  {
   "cell_type": "code",
   "execution_count": 85,
   "id": "88df510e",
   "metadata": {
    "scrolled": false
   },
   "outputs": [],
   "source": [
    "test_results = {}\n",
    "\n",
    "test_results['totalviews_model'] = totalviews_model.evaluate(\n",
    "    test_features['TotalViews'],\n",
    "    test_labels, verbose=0)\n",
    "\n",
    "x = tf.linspace(0.0, 5000000, 5000001)\n",
    "y = totalviews_model.predict(x)\n",
    "\n",
    "%store test_results"
   ]
  },
  {
   "cell_type": "code",
   "execution_count": 343,
   "id": "52a1aec9",
   "metadata": {},
   "outputs": [],
   "source": [
    "test_results_MSE = {}\n",
    "\n",
    "test_results_MSE['totalviews_model'] = totalviews_model.evaluate(\n",
    "    test_features['TotalViews'],\n",
    "    test_labels, verbose=0)\n",
    "\n",
    "x = tf.linspace(0.0, 5000000, 5000001)\n",
    "y = totalviews_model.predict(x)\n",
    "\n",
    "%store test_results_MSE"
   ]
  },
  {
   "cell_type": "code",
   "execution_count": 88,
   "id": "28b4361b",
   "metadata": {
    "scrolled": false
   },
   "outputs": [],
   "source": [
    "def plot_totalviews(x, y):\n",
    "    plt.scatter(train_features['TotalViews'], train_labels, label='Data')\n",
    "    plt.plot(x, y, color='k', label='Predictions')\n",
    "    plt.xlabel('TotalViews')\n",
    "    plt.ylabel('TotalVotes')\n",
    "    plt.legend()"
   ]
  },
  {
   "cell_type": "code",
   "execution_count": 74,
   "id": "38f28e1f",
   "metadata": {
    "scrolled": true
   },
   "outputs": [
    {
     "data": {
      "image/png": "[encoded data removed]",
      "text/plain": [
       "<Figure size 432x288 with 1 Axes>"
      ]
     },
     "metadata": {
      "needs_background": "light"
     },
     "output_type": "display_data"
    }
   ],
   "source": [
    "plot_totalviews(x, y)\n",
    "plt.show()"
   ]
  },
  {
   "cell_type": "code",
   "execution_count": null,
   "id": "2815ac68",
   "metadata": {},
   "outputs": [],
   "source": []
  }
 ],
 "metadata": {
  "kernelspec": {
   "display_name": "Python 3 (ipykernel)",
   "language": "python",
   "name": "python3"
  },
  "language_info": {
   "codemirror_mode": {
    "name": "ipython",
    "version": 3
   },
   "file_extension": ".py",
   "mimetype": "text/x-python",
   "name": "python",
   "nbconvert_exporter": "python",
   "pygments_lexer": "ipython3",
   "version": "3.9.5"
  }
 },
 "nbformat": 4,
 "nbformat_minor": 5
}
