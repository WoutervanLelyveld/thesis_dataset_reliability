{
 "cells": [
  {
   "cell_type": "markdown",
   "id": "b0d3b6e9",
   "metadata": {},
   "source": [
    "IMPORTS"
   ]
  },
  {
   "cell_type": "code",
   "execution_count": 1,
   "id": "d938a148",
   "metadata": {
    "scrolled": false
   },
   "outputs": [],
   "source": [
    "import kaggle\n",
    "import re\n",
    "import pandas as pd\n",
    "import matplotlib.pyplot as plt\n",
    "from matplotlib import pyplot\n",
    "%matplotlib inline\n",
    "import seaborn as sns\n",
    "\n",
    "import numpy as np\n",
    "from datetime import datetime"
   ]
  },
  {
   "cell_type": "markdown",
   "id": "b7489168",
   "metadata": {},
   "source": [
    "Create Kaggle API connection"
   ]
  },
  {
   "cell_type": "code",
   "execution_count": 2,
   "id": "09e60d0e",
   "metadata": {
    "scrolled": true
   },
   "outputs": [],
   "source": [
    "kaggle = kaggle.KaggleApi()\n",
    "kaggle.authenticate()"
   ]
  },
  {
   "cell_type": "markdown",
   "id": "4da16ff9",
   "metadata": {},
   "source": [
    "If you want to get other files from any dataset, specify below"
   ]
  },
  {
   "cell_type": "code",
   "execution_count": 3,
   "id": "0bbc8fb2",
   "metadata": {},
   "outputs": [],
   "source": [
    "dataset_location = 'kaggle/meta-kaggle' #directory on Kaggle for dataset\n",
    "meta_kaggle_dataset = kaggle.dataset_view(dataset_location)"
   ]
  },
  {
   "cell_type": "markdown",
   "id": "cd0ebb87",
   "metadata": {},
   "source": [
    "And download the files by using below command"
   ]
  },
  {
   "cell_type": "code",
   "execution_count": 4,
   "id": "8d5296ae",
   "metadata": {},
   "outputs": [],
   "source": [
    "# kaggle.dataset_download_cli(dataset_location, file_name='Datasets.csv',unzip=True)\n",
    "# kaggle.dataset_download_cli(dataset_location, file_name='DatasetVersions.csv', unzip=True)\n",
    "# kaggle.dataset_download_cli(dataset_location, file_name='Users.csv', unzip=True)"
   ]
  },
  {
   "cell_type": "markdown",
   "id": "286ff69a",
   "metadata": {},
   "source": [
    "Read files from the directory"
   ]
  },
  {
   "cell_type": "code",
   "execution_count": 5,
   "id": "14af8c1e",
   "metadata": {
    "scrolled": false
   },
   "outputs": [],
   "source": [
    "kaggle_datasets_data = pd.read_csv('Datasets.csv')\n",
    "kaggle_users_data = pd.read_csv('Users.csv')\n",
    "kaggle_datasets_versions_data = pd.read_csv('DatasetVersions.csv')"
   ]
  },
  {
   "cell_type": "markdown",
   "id": "713c8522",
   "metadata": {},
   "source": [
    "Merge the files into a dataframe"
   ]
  },
  {
   "cell_type": "code",
   "execution_count": 6,
   "id": "b44592c8",
   "metadata": {
    "scrolled": false
   },
   "outputs": [],
   "source": [
    "kaggle_datasets_users_data = pd.merge(kaggle_datasets_data, kaggle_users_data, how='left', left_on=['CreatorUserId'],\n",
    "                                      right_on=['Id'])\n",
    "kaggle_datasets_versions_users_data = pd.merge(kaggle_datasets_users_data, kaggle_datasets_versions_data, how='left',\n",
    "                                               left_on=['Id_x'], right_on=['DatasetId'])"
   ]
  },
  {
   "cell_type": "markdown",
   "id": "888b7bdb",
   "metadata": {},
   "source": [
    "Make the location of the datasets searchable for the API (to retrieve Usability Rating)"
   ]
  },
  {
   "cell_type": "code",
   "execution_count": 7,
   "id": "0aa86326",
   "metadata": {
    "scrolled": false
   },
   "outputs": [],
   "source": [
    "kaggle_datasets_versions_users_data['Kaggle_Location'] = kaggle_datasets_versions_users_data['UserName'] + \"/\" + \\\n",
    "                                                         kaggle_datasets_versions_users_data['Slug']"
   ]
  },
  {
   "cell_type": "code",
   "execution_count": 8,
   "id": "76609396",
   "metadata": {
    "scrolled": false
   },
   "outputs": [
    {
     "data": {
      "text/html": [
       "<div>\n",
       "<style scoped>\n",
       "    .dataframe tbody tr th:only-of-type {\n",
       "        vertical-align: middle;\n",
       "    }\n",
       "\n",
       "    .dataframe tbody tr th {\n",
       "        vertical-align: top;\n",
       "    }\n",
       "\n",
       "    .dataframe thead th {\n",
       "        text-align: right;\n",
       "    }\n",
       "</style>\n",
       "<table border=\"1\" class=\"dataframe\">\n",
       "  <thead>\n",
       "    <tr style=\"text-align: right;\">\n",
       "      <th></th>\n",
       "      <th>Id_x</th>\n",
       "      <th>CreatorUserId_x</th>\n",
       "      <th>OwnerUserId</th>\n",
       "      <th>OwnerOrganizationId</th>\n",
       "      <th>CurrentDatasetVersionId</th>\n",
       "      <th>CurrentDatasourceVersionId</th>\n",
       "      <th>ForumId</th>\n",
       "      <th>Type</th>\n",
       "      <th>CreationDate_x</th>\n",
       "      <th>LastActivityDate</th>\n",
       "      <th>...</th>\n",
       "      <th>CreationDate_y</th>\n",
       "      <th>VersionNumber</th>\n",
       "      <th>Title</th>\n",
       "      <th>Slug</th>\n",
       "      <th>Subtitle</th>\n",
       "      <th>Description</th>\n",
       "      <th>VersionNotes</th>\n",
       "      <th>TotalCompressedBytes</th>\n",
       "      <th>TotalUncompressedBytes</th>\n",
       "      <th>Kaggle_Location</th>\n",
       "    </tr>\n",
       "  </thead>\n",
       "  <tbody>\n",
       "    <tr>\n",
       "      <th>613036</th>\n",
       "      <td>2270044</td>\n",
       "      <td>5382272</td>\n",
       "      <td>5382272.0</td>\n",
       "      <td>NaN</td>\n",
       "      <td>3809034.0</td>\n",
       "      <td>3863761.0</td>\n",
       "      <td>2296548</td>\n",
       "      <td>2</td>\n",
       "      <td>06/15/2022 18:34:26</td>\n",
       "      <td>06/15/2022</td>\n",
       "      <td>...</td>\n",
       "      <td>06/15/2022 18:35:23</td>\n",
       "      <td>2.0</td>\n",
       "      <td>full_raw_dataset</td>\n",
       "      <td>full-raw-dataset</td>\n",
       "      <td>NaN</td>\n",
       "      <td>NaN</td>\n",
       "      <td>Data Update 2022/06/15</td>\n",
       "      <td>0.0</td>\n",
       "      <td>0.0</td>\n",
       "      <td>rahulshelke98/full-raw-dataset</td>\n",
       "    </tr>\n",
       "    <tr>\n",
       "      <th>613037</th>\n",
       "      <td>2270044</td>\n",
       "      <td>5382272</td>\n",
       "      <td>5382272.0</td>\n",
       "      <td>NaN</td>\n",
       "      <td>3809034.0</td>\n",
       "      <td>3863761.0</td>\n",
       "      <td>2296548</td>\n",
       "      <td>2</td>\n",
       "      <td>06/15/2022 18:34:26</td>\n",
       "      <td>06/15/2022</td>\n",
       "      <td>...</td>\n",
       "      <td>06/15/2022 18:42:25</td>\n",
       "      <td>3.0</td>\n",
       "      <td>full_raw_dataset</td>\n",
       "      <td>full-raw-dataset</td>\n",
       "      <td>NaN</td>\n",
       "      <td>NaN</td>\n",
       "      <td>Data Update 2022/06/15</td>\n",
       "      <td>0.0</td>\n",
       "      <td>0.0</td>\n",
       "      <td>rahulshelke98/full-raw-dataset</td>\n",
       "    </tr>\n",
       "    <tr>\n",
       "      <th>613038</th>\n",
       "      <td>2270048</td>\n",
       "      <td>8064850</td>\n",
       "      <td>8064850.0</td>\n",
       "      <td>NaN</td>\n",
       "      <td>3809014.0</td>\n",
       "      <td>3863741.0</td>\n",
       "      <td>2296553</td>\n",
       "      <td>2</td>\n",
       "      <td>06/15/2022 18:36:14</td>\n",
       "      <td>06/15/2022</td>\n",
       "      <td>...</td>\n",
       "      <td>06/15/2022 18:36:14</td>\n",
       "      <td>1.0</td>\n",
       "      <td>Ethereum Pricing (2020-2022)</td>\n",
       "      <td>ethereum-pricing-20202022</td>\n",
       "      <td>Historical Data for Ethereum (2 years)</td>\n",
       "      <td>Ethereum is a decentralized blockchain platfor...</td>\n",
       "      <td>Initial release</td>\n",
       "      <td>0.0</td>\n",
       "      <td>0.0</td>\n",
       "      <td>harshsingh2209/ethereum-pricing-20202022</td>\n",
       "    </tr>\n",
       "    <tr>\n",
       "      <th>613039</th>\n",
       "      <td>2270272</td>\n",
       "      <td>10165404</td>\n",
       "      <td>10165404.0</td>\n",
       "      <td>NaN</td>\n",
       "      <td>3809564.0</td>\n",
       "      <td>3864292.0</td>\n",
       "      <td>2296779</td>\n",
       "      <td>2</td>\n",
       "      <td>06/15/2022 21:16:42</td>\n",
       "      <td>06/15/2022</td>\n",
       "      <td>...</td>\n",
       "      <td>06/15/2022 21:16:42</td>\n",
       "      <td>1.0</td>\n",
       "      <td>Average IQ by Country</td>\n",
       "      <td>average-iq-by-country</td>\n",
       "      <td>NaN</td>\n",
       "      <td>Source: \\nhttps://worldpopulationreview.com/co...</td>\n",
       "      <td>Initial release</td>\n",
       "      <td>0.0</td>\n",
       "      <td>0.0</td>\n",
       "      <td>weavrk/average-iq-by-country</td>\n",
       "    </tr>\n",
       "    <tr>\n",
       "      <th>613040</th>\n",
       "      <td>2270411</td>\n",
       "      <td>6210092</td>\n",
       "      <td>6210092.0</td>\n",
       "      <td>NaN</td>\n",
       "      <td>3809991.0</td>\n",
       "      <td>3864722.0</td>\n",
       "      <td>2296919</td>\n",
       "      <td>2</td>\n",
       "      <td>06/15/2022 23:41:07</td>\n",
       "      <td>06/15/2022</td>\n",
       "      <td>...</td>\n",
       "      <td>06/15/2022 23:41:07</td>\n",
       "      <td>1.0</td>\n",
       "      <td>uspppm-037-models</td>\n",
       "      <td>uspppm-037-models</td>\n",
       "      <td>NaN</td>\n",
       "      <td>NaN</td>\n",
       "      <td>Initial release</td>\n",
       "      <td>0.0</td>\n",
       "      <td>0.0</td>\n",
       "      <td>uplus26e7/uspppm-037-models</td>\n",
       "    </tr>\n",
       "  </tbody>\n",
       "</table>\n",
       "<p>5 rows × 34 columns</p>\n",
       "</div>"
      ],
      "text/plain": [
       "           Id_x  CreatorUserId_x  OwnerUserId  OwnerOrganizationId  \\\n",
       "613036  2270044          5382272    5382272.0                  NaN   \n",
       "613037  2270044          5382272    5382272.0                  NaN   \n",
       "613038  2270048          8064850    8064850.0                  NaN   \n",
       "613039  2270272         10165404   10165404.0                  NaN   \n",
       "613040  2270411          6210092    6210092.0                  NaN   \n",
       "\n",
       "        CurrentDatasetVersionId  CurrentDatasourceVersionId  ForumId  Type  \\\n",
       "613036                3809034.0                   3863761.0  2296548     2   \n",
       "613037                3809034.0                   3863761.0  2296548     2   \n",
       "613038                3809014.0                   3863741.0  2296553     2   \n",
       "613039                3809564.0                   3864292.0  2296779     2   \n",
       "613040                3809991.0                   3864722.0  2296919     2   \n",
       "\n",
       "             CreationDate_x LastActivityDate  ...       CreationDate_y  \\\n",
       "613036  06/15/2022 18:34:26       06/15/2022  ...  06/15/2022 18:35:23   \n",
       "613037  06/15/2022 18:34:26       06/15/2022  ...  06/15/2022 18:42:25   \n",
       "613038  06/15/2022 18:36:14       06/15/2022  ...  06/15/2022 18:36:14   \n",
       "613039  06/15/2022 21:16:42       06/15/2022  ...  06/15/2022 21:16:42   \n",
       "613040  06/15/2022 23:41:07       06/15/2022  ...  06/15/2022 23:41:07   \n",
       "\n",
       "        VersionNumber                         Title  \\\n",
       "613036            2.0              full_raw_dataset   \n",
       "613037            3.0              full_raw_dataset   \n",
       "613038            1.0  Ethereum Pricing (2020-2022)   \n",
       "613039            1.0         Average IQ by Country   \n",
       "613040            1.0             uspppm-037-models   \n",
       "\n",
       "                             Slug                                Subtitle  \\\n",
       "613036           full-raw-dataset                                     NaN   \n",
       "613037           full-raw-dataset                                     NaN   \n",
       "613038  ethereum-pricing-20202022  Historical Data for Ethereum (2 years)   \n",
       "613039      average-iq-by-country                                     NaN   \n",
       "613040          uspppm-037-models                                     NaN   \n",
       "\n",
       "                                              Description  \\\n",
       "613036                                                NaN   \n",
       "613037                                                NaN   \n",
       "613038  Ethereum is a decentralized blockchain platfor...   \n",
       "613039  Source: \\nhttps://worldpopulationreview.com/co...   \n",
       "613040                                                NaN   \n",
       "\n",
       "                  VersionNotes TotalCompressedBytes  TotalUncompressedBytes  \\\n",
       "613036  Data Update 2022/06/15                  0.0                     0.0   \n",
       "613037  Data Update 2022/06/15                  0.0                     0.0   \n",
       "613038         Initial release                  0.0                     0.0   \n",
       "613039         Initial release                  0.0                     0.0   \n",
       "613040         Initial release                  0.0                     0.0   \n",
       "\n",
       "                                 Kaggle_Location  \n",
       "613036            rahulshelke98/full-raw-dataset  \n",
       "613037            rahulshelke98/full-raw-dataset  \n",
       "613038  harshsingh2209/ethereum-pricing-20202022  \n",
       "613039              weavrk/average-iq-by-country  \n",
       "613040               uplus26e7/uspppm-037-models  \n",
       "\n",
       "[5 rows x 34 columns]"
      ]
     },
     "execution_count": 8,
     "metadata": {},
     "output_type": "execute_result"
    }
   ],
   "source": [
    "kaggle_datasets_versions_users_data.tail()"
   ]
  },
  {
   "cell_type": "code",
   "execution_count": 9,
   "id": "d8558c97",
   "metadata": {},
   "outputs": [
    {
     "data": {
      "text/plain": [
       "<AxesSubplot:>"
      ]
     },
     "execution_count": 9,
     "metadata": {},
     "output_type": "execute_result"
    },
    {
     "data": {
      "image/png": "[encoded data removed]",
      "text/plain": [
       "<Figure size 432x288 with 1 Axes>"
      ]
     },
     "metadata": {
      "needs_background": "light"
     },
     "output_type": "display_data"
    }
   ],
   "source": [
    "kaggle_datasets_versions_users_data['TotalVotes'].plot()"
   ]
  },
  {
   "cell_type": "code",
   "execution_count": 10,
   "id": "fbe00433",
   "metadata": {},
   "outputs": [
    {
     "data": {
      "text/plain": [
       "16514"
      ]
     },
     "execution_count": 10,
     "metadata": {},
     "output_type": "execute_result"
    }
   ],
   "source": [
    "kaggle_datasets_versions_users_data['TotalVotes'].max()"
   ]
  },
  {
   "cell_type": "markdown",
   "id": "d5732c6d",
   "metadata": {},
   "source": [
    "Make the Date tables actual datetime values (where strings before) and convert to only date values as then they can be substracted."
   ]
  },
  {
   "cell_type": "code",
   "execution_count": 11,
   "id": "dd7b6af3",
   "metadata": {
    "scrolled": false
   },
   "outputs": [],
   "source": [
    "kaggle_datasets_versions_users_data['LastActivityDate'] = kaggle_datasets_versions_users_data[\n",
    "    'LastActivityDate'].astype('datetime64[ns]')\n",
    "kaggle_datasets_versions_users_data['CreationDate'] = kaggle_datasets_versions_users_data['CreationDate_x'].astype(\n",
    "    'datetime64[ns]')\n",
    "kaggle_datasets_versions_users_data['LastActivityDate'] = kaggle_datasets_versions_users_data[\n",
    "    'LastActivityDate'].dt.date\n",
    "kaggle_datasets_versions_users_data['CreationDate'] = kaggle_datasets_versions_users_data['CreationDate'].dt.date"
   ]
  },
  {
   "cell_type": "markdown",
   "id": "fa30cba7",
   "metadata": {},
   "source": [
    "Attempt on retrieving the difference between last activity and creation date plus transform to only days value"
   ]
  },
  {
   "cell_type": "code",
   "execution_count": 12,
   "id": "f888d286",
   "metadata": {
    "scrolled": false
   },
   "outputs": [],
   "source": [
    "kaggle_datasets_versions_users_data['Diff_LastActivityDate_CreationDate'] = kaggle_datasets_versions_users_data[\n",
    "                                                                                'LastActivityDate'] - \\\n",
    "                                                                            kaggle_datasets_versions_users_data[\n",
    "                                                                                'CreationDate']\n",
    "kaggle_datasets_versions_users_data['Diff_LastActivityDate_CreationDate'] = kaggle_datasets_versions_users_data[\n",
    "    'Diff_LastActivityDate_CreationDate'].dt.days"
   ]
  },
  {
   "cell_type": "markdown",
   "id": "ac40d228",
   "metadata": {},
   "source": [
    "Checking what the highest amount of days is to determine what would be decent division for the categories"
   ]
  },
  {
   "cell_type": "code",
   "execution_count": 13,
   "id": "3a6735a5",
   "metadata": {
    "scrolled": false
   },
   "outputs": [
    {
     "data": {
      "text/plain": [
       "<AxesSubplot:>"
      ]
     },
     "execution_count": 13,
     "metadata": {},
     "output_type": "execute_result"
    },
    {
     "data": {
      "image/png": "[encoded data removed]",
      "text/plain": [
       "<Figure size 432x288 with 1 Axes>"
      ]
     },
     "metadata": {
      "needs_background": "light"
     },
     "output_type": "display_data"
    }
   ],
   "source": [
    "kaggle_datasets_versions_users_data['Diff_LastActivityDate_CreationDate'].plot()"
   ]
  },
  {
   "cell_type": "code",
   "execution_count": 14,
   "id": "799b11ff",
   "metadata": {
    "scrolled": false
   },
   "outputs": [
    {
     "data": {
      "text/plain": [
       "count    613041.000000\n",
       "mean          4.598601\n",
       "std          50.182719\n",
       "min           0.000000\n",
       "25%           0.000000\n",
       "50%           0.000000\n",
       "75%           0.000000\n",
       "max         933.000000\n",
       "Name: Diff_LastActivityDate_CreationDate, dtype: float64"
      ]
     },
     "execution_count": 14,
     "metadata": {},
     "output_type": "execute_result"
    }
   ],
   "source": [
    "kaggle_datasets_versions_users_data['Diff_LastActivityDate_CreationDate'].describe()"
   ]
  },
  {
   "cell_type": "code",
   "execution_count": 15,
   "id": "1317f004",
   "metadata": {
    "scrolled": false
   },
   "outputs": [
    {
     "data": {
      "text/plain": [
       "0"
      ]
     },
     "execution_count": 15,
     "metadata": {},
     "output_type": "execute_result"
    }
   ],
   "source": [
    "kaggle_datasets_versions_users_data['Diff_LastActivityDate_CreationDate'].min()"
   ]
  },
  {
   "cell_type": "markdown",
   "id": "233820ff",
   "metadata": {},
   "source": [
    "Setting labels for the categories and labelling on the data. Needs the 0 days as \"updated\" well as it doesnt keep the 0 values with this formula\n",
    "Therefore, the first bin value is -0.1 as it the states the 0 as also updated.\n",
    "labels = ['updated', 'used_to_update','long_no_update','never']"
   ]
  },
  {
   "cell_type": "code",
   "execution_count": 16,
   "id": "81e0aa36",
   "metadata": {
    "scrolled": false
   },
   "outputs": [
    {
     "name": "stdout",
     "output_type": "stream",
     "text": [
      "[-0.1, 1, 312, 623, 933]\n"
     ]
    }
   ],
   "source": [
    "labels = [1, 2, 3, 4]\n",
    "never = kaggle_datasets_versions_users_data['Diff_LastActivityDate_CreationDate'].max()  # 933\n",
    "long_no_update = 1 + (kaggle_datasets_versions_users_data['Diff_LastActivityDate_CreationDate'].max() * 2 // 3)  # 623\n",
    "used_to_update = 1 + (kaggle_datasets_versions_users_data['Diff_LastActivityDate_CreationDate'].max() * 1 // 3)  # 312\n",
    "bins = [-0.1, 1, used_to_update, long_no_update, never]\n",
    "\n",
    "print(bins)"
   ]
  },
  {
   "cell_type": "code",
   "execution_count": 17,
   "id": "af3e91bd",
   "metadata": {
    "scrolled": true
   },
   "outputs": [
    {
     "data": {
      "text/html": [
       "<div>\n",
       "<style scoped>\n",
       "    .dataframe tbody tr th:only-of-type {\n",
       "        vertical-align: middle;\n",
       "    }\n",
       "\n",
       "    .dataframe tbody tr th {\n",
       "        vertical-align: top;\n",
       "    }\n",
       "\n",
       "    .dataframe thead th {\n",
       "        text-align: right;\n",
       "    }\n",
       "</style>\n",
       "<table border=\"1\" class=\"dataframe\">\n",
       "  <thead>\n",
       "    <tr style=\"text-align: right;\">\n",
       "      <th></th>\n",
       "      <th>Id_x</th>\n",
       "      <th>CreatorUserId_x</th>\n",
       "      <th>OwnerUserId</th>\n",
       "      <th>OwnerOrganizationId</th>\n",
       "      <th>CurrentDatasetVersionId</th>\n",
       "      <th>CurrentDatasourceVersionId</th>\n",
       "      <th>ForumId</th>\n",
       "      <th>Type</th>\n",
       "      <th>CreationDate_x</th>\n",
       "      <th>LastActivityDate</th>\n",
       "      <th>...</th>\n",
       "      <th>Title</th>\n",
       "      <th>Slug</th>\n",
       "      <th>Subtitle</th>\n",
       "      <th>Description</th>\n",
       "      <th>VersionNotes</th>\n",
       "      <th>TotalCompressedBytes</th>\n",
       "      <th>TotalUncompressedBytes</th>\n",
       "      <th>Kaggle_Location</th>\n",
       "      <th>CreationDate</th>\n",
       "      <th>Diff_LastActivityDate_CreationDate</th>\n",
       "    </tr>\n",
       "  </thead>\n",
       "  <tbody>\n",
       "    <tr>\n",
       "      <th>0</th>\n",
       "      <td>6</td>\n",
       "      <td>1</td>\n",
       "      <td>NaN</td>\n",
       "      <td>12.0</td>\n",
       "      <td>2158.0</td>\n",
       "      <td>2158.0</td>\n",
       "      <td>762</td>\n",
       "      <td>2</td>\n",
       "      <td>07/18/2015 00:51:12</td>\n",
       "      <td>2018-02-05</td>\n",
       "      <td>...</td>\n",
       "      <td>2013 American Community Survey</td>\n",
       "      <td>2013-american-community-survey</td>\n",
       "      <td>Find insights in the 2013 American Community S...</td>\n",
       "      <td>The [American Community Survey](http://www.cen...</td>\n",
       "      <td>Re-uploading the files so they appear in file ...</td>\n",
       "      <td>4.203827e+09</td>\n",
       "      <td>4.203827e+09</td>\n",
       "      <td>kaggleteam/2013-american-community-survey</td>\n",
       "      <td>2015-07-18</td>\n",
       "      <td>933</td>\n",
       "    </tr>\n",
       "    <tr>\n",
       "      <th>1</th>\n",
       "      <td>6</td>\n",
       "      <td>1</td>\n",
       "      <td>NaN</td>\n",
       "      <td>12.0</td>\n",
       "      <td>2158.0</td>\n",
       "      <td>2158.0</td>\n",
       "      <td>762</td>\n",
       "      <td>2</td>\n",
       "      <td>07/18/2015 00:51:12</td>\n",
       "      <td>2018-02-05</td>\n",
       "      <td>...</td>\n",
       "      <td>2013 American Community Survey</td>\n",
       "      <td>2013-american-community-survey</td>\n",
       "      <td>Find insights in the 2013 American Community S...</td>\n",
       "      <td>The [American Community Survey](http://www.cen...</td>\n",
       "      <td>Initial Release</td>\n",
       "      <td>NaN</td>\n",
       "      <td>NaN</td>\n",
       "      <td>kaggleteam/2013-american-community-survey</td>\n",
       "      <td>2015-07-18</td>\n",
       "      <td>933</td>\n",
       "    </tr>\n",
       "    <tr>\n",
       "      <th>2</th>\n",
       "      <td>23</td>\n",
       "      <td>514856</td>\n",
       "      <td>NaN</td>\n",
       "      <td>4.0</td>\n",
       "      <td>2151.0</td>\n",
       "      <td>2151.0</td>\n",
       "      <td>1035</td>\n",
       "      <td>2</td>\n",
       "      <td>01/28/2016 06:30:59</td>\n",
       "      <td>2018-02-06</td>\n",
       "      <td>...</td>\n",
       "      <td>World Development Indicators</td>\n",
       "      <td>world-development-indicators</td>\n",
       "      <td>Explore country development indicators from ar...</td>\n",
       "      <td>The World Development Indicators from the Worl...</td>\n",
       "      <td>Re-uploading the files so they appear in file ...</td>\n",
       "      <td>2.042308e+09</td>\n",
       "      <td>2.042308e+09</td>\n",
       "      <td>NaN</td>\n",
       "      <td>2016-01-28</td>\n",
       "      <td>740</td>\n",
       "    </tr>\n",
       "    <tr>\n",
       "      <th>3</th>\n",
       "      <td>23</td>\n",
       "      <td>514856</td>\n",
       "      <td>NaN</td>\n",
       "      <td>4.0</td>\n",
       "      <td>2151.0</td>\n",
       "      <td>2151.0</td>\n",
       "      <td>1035</td>\n",
       "      <td>2</td>\n",
       "      <td>01/28/2016 06:30:59</td>\n",
       "      <td>2018-02-06</td>\n",
       "      <td>...</td>\n",
       "      <td>World Development Indicators</td>\n",
       "      <td>world-development-indicators</td>\n",
       "      <td>Explore country development indicators from ar...</td>\n",
       "      <td>The World Development Indicators from the Worl...</td>\n",
       "      <td>Initial release</td>\n",
       "      <td>NaN</td>\n",
       "      <td>NaN</td>\n",
       "      <td>NaN</td>\n",
       "      <td>2016-01-28</td>\n",
       "      <td>740</td>\n",
       "    </tr>\n",
       "    <tr>\n",
       "      <th>4</th>\n",
       "      <td>24</td>\n",
       "      <td>993</td>\n",
       "      <td>993.0</td>\n",
       "      <td>NaN</td>\n",
       "      <td>792987.0</td>\n",
       "      <td>814776.0</td>\n",
       "      <td>1078</td>\n",
       "      <td>2</td>\n",
       "      <td>02/19/2016 06:37:00</td>\n",
       "      <td>2018-02-06</td>\n",
       "      <td>...</td>\n",
       "      <td>2016 US Election</td>\n",
       "      <td>2016-us-election</td>\n",
       "      <td>Explore data related to the 2016 US Election</td>\n",
       "      <td>This contains data relevant for the 2016 US Pr...</td>\n",
       "      <td>Initial release</td>\n",
       "      <td>NaN</td>\n",
       "      <td>NaN</td>\n",
       "      <td>benhamner/2016-us-election</td>\n",
       "      <td>2016-02-19</td>\n",
       "      <td>718</td>\n",
       "    </tr>\n",
       "  </tbody>\n",
       "</table>\n",
       "<p>5 rows × 36 columns</p>\n",
       "</div>"
      ],
      "text/plain": [
       "   Id_x  CreatorUserId_x  OwnerUserId  OwnerOrganizationId  \\\n",
       "0     6                1          NaN                 12.0   \n",
       "1     6                1          NaN                 12.0   \n",
       "2    23           514856          NaN                  4.0   \n",
       "3    23           514856          NaN                  4.0   \n",
       "4    24              993        993.0                  NaN   \n",
       "\n",
       "   CurrentDatasetVersionId  CurrentDatasourceVersionId  ForumId  Type  \\\n",
       "0                   2158.0                      2158.0      762     2   \n",
       "1                   2158.0                      2158.0      762     2   \n",
       "2                   2151.0                      2151.0     1035     2   \n",
       "3                   2151.0                      2151.0     1035     2   \n",
       "4                 792987.0                    814776.0     1078     2   \n",
       "\n",
       "        CreationDate_x LastActivityDate  ...                           Title  \\\n",
       "0  07/18/2015 00:51:12       2018-02-05  ...  2013 American Community Survey   \n",
       "1  07/18/2015 00:51:12       2018-02-05  ...  2013 American Community Survey   \n",
       "2  01/28/2016 06:30:59       2018-02-06  ...    World Development Indicators   \n",
       "3  01/28/2016 06:30:59       2018-02-06  ...    World Development Indicators   \n",
       "4  02/19/2016 06:37:00       2018-02-06  ...                2016 US Election   \n",
       "\n",
       "                             Slug  \\\n",
       "0  2013-american-community-survey   \n",
       "1  2013-american-community-survey   \n",
       "2    world-development-indicators   \n",
       "3    world-development-indicators   \n",
       "4                2016-us-election   \n",
       "\n",
       "                                            Subtitle  \\\n",
       "0  Find insights in the 2013 American Community S...   \n",
       "1  Find insights in the 2013 American Community S...   \n",
       "2  Explore country development indicators from ar...   \n",
       "3  Explore country development indicators from ar...   \n",
       "4       Explore data related to the 2016 US Election   \n",
       "\n",
       "                                         Description  \\\n",
       "0  The [American Community Survey](http://www.cen...   \n",
       "1  The [American Community Survey](http://www.cen...   \n",
       "2  The World Development Indicators from the Worl...   \n",
       "3  The World Development Indicators from the Worl...   \n",
       "4  This contains data relevant for the 2016 US Pr...   \n",
       "\n",
       "                                        VersionNotes TotalCompressedBytes  \\\n",
       "0  Re-uploading the files so they appear in file ...         4.203827e+09   \n",
       "1                                    Initial Release                  NaN   \n",
       "2  Re-uploading the files so they appear in file ...         2.042308e+09   \n",
       "3                                    Initial release                  NaN   \n",
       "4                                    Initial release                  NaN   \n",
       "\n",
       "  TotalUncompressedBytes                            Kaggle_Location  \\\n",
       "0           4.203827e+09  kaggleteam/2013-american-community-survey   \n",
       "1                    NaN  kaggleteam/2013-american-community-survey   \n",
       "2           2.042308e+09                                        NaN   \n",
       "3                    NaN                                        NaN   \n",
       "4                    NaN                 benhamner/2016-us-election   \n",
       "\n",
       "   CreationDate  Diff_LastActivityDate_CreationDate  \n",
       "0    2015-07-18                                 933  \n",
       "1    2015-07-18                                 933  \n",
       "2    2016-01-28                                 740  \n",
       "3    2016-01-28                                 740  \n",
       "4    2016-02-19                                 718  \n",
       "\n",
       "[5 rows x 36 columns]"
      ]
     },
     "execution_count": 17,
     "metadata": {},
     "output_type": "execute_result"
    }
   ],
   "source": [
    "kaggle_datasets_versions_users_data.head()"
   ]
  },
  {
   "cell_type": "markdown",
   "id": "5a83e664",
   "metadata": {},
   "source": [
    "Divide the different bins labels into the column"
   ]
  },
  {
   "cell_type": "code",
   "execution_count": 18,
   "id": "394a758b",
   "metadata": {
    "scrolled": false
   },
   "outputs": [],
   "source": [
    "kaggle_datasets_versions_users_data['ActivityStatus_LastActivity_CreationDate'] = pd.cut(\n",
    "    kaggle_datasets_versions_users_data['Diff_LastActivityDate_CreationDate'], bins=bins, labels=labels)\n",
    "\n",
    "kaggle_datasets_versions_users_data['ActivityStatus_LastActivity_CreationDate'] = kaggle_datasets_versions_users_data[\n",
    "    'ActivityStatus_LastActivity_CreationDate'].astype('int')"
   ]
  },
  {
   "cell_type": "markdown",
   "id": "a3f6d3d9",
   "metadata": {},
   "source": [
    "create timestamp variable and convert to category"
   ]
  },
  {
   "cell_type": "code",
   "execution_count": 19,
   "id": "b8f19137",
   "metadata": {
    "scrolled": false
   },
   "outputs": [],
   "source": [
    "#NOTES\n",
    "#timestamp = pd.Timestamp(datetime.datetime(2021, 10, 10))\n",
    "#today = timestamp.today().date()"
   ]
  },
  {
   "cell_type": "code",
   "execution_count": 20,
   "id": "16f4ea1e",
   "metadata": {
    "scrolled": false
   },
   "outputs": [
    {
     "name": "stdout",
     "output_type": "stream",
     "text": [
      "2022-06-16\n"
     ]
    }
   ],
   "source": [
    "todaydate = datetime.now().date()\n",
    "print(todaydate)"
   ]
  },
  {
   "cell_type": "code",
   "execution_count": 21,
   "id": "dd90fac5",
   "metadata": {
    "scrolled": false
   },
   "outputs": [],
   "source": [
    "kaggle_datasets_versions_users_data['Diff_LastActivityDate_Today'] = todaydate - kaggle_datasets_versions_users_data[\n",
    "    'LastActivityDate']"
   ]
  },
  {
   "cell_type": "code",
   "execution_count": 22,
   "id": "58c666af",
   "metadata": {
    "scrolled": false
   },
   "outputs": [],
   "source": [
    "kaggle_datasets_versions_users_data['Diff_LastActivityDate_Today'] = kaggle_datasets_versions_users_data[\n",
    "    'Diff_LastActivityDate_Today'].dt.days"
   ]
  },
  {
   "cell_type": "code",
   "execution_count": 23,
   "id": "1661dff0",
   "metadata": {
    "scrolled": false
   },
   "outputs": [
    {
     "data": {
      "text/plain": [
       "0         1592\n",
       "1         1592\n",
       "2         1591\n",
       "3         1591\n",
       "4         1591\n",
       "          ... \n",
       "613036       1\n",
       "613037       1\n",
       "613038       1\n",
       "613039       1\n",
       "613040       1\n",
       "Name: Diff_LastActivityDate_Today, Length: 613041, dtype: int64"
      ]
     },
     "execution_count": 23,
     "metadata": {},
     "output_type": "execute_result"
    }
   ],
   "source": [
    "kaggle_datasets_versions_users_data['Diff_LastActivityDate_Today']"
   ]
  },
  {
   "cell_type": "code",
   "execution_count": 24,
   "id": "e70a1c9c",
   "metadata": {
    "scrolled": false
   },
   "outputs": [],
   "source": [
    "#NOTES\n",
    "# kaggle_datasets_versions_users_data['Diff_LastActivityDate_Today'] = kaggle_datasets_versions_users_data['Diff_LastActivityDate_Today'].astype('category')"
   ]
  },
  {
   "cell_type": "markdown",
   "id": "f3c87a3d",
   "metadata": {},
   "source": [
    "Checking which is the highest activity date to determine what would be decent division for the categories"
   ]
  },
  {
   "cell_type": "code",
   "execution_count": 25,
   "id": "f554e028",
   "metadata": {
    "scrolled": true
   },
   "outputs": [
    {
     "data": {
      "text/plain": [
       "<AxesSubplot:>"
      ]
     },
     "execution_count": 25,
     "metadata": {},
     "output_type": "execute_result"
    },
    {
     "data": {
      "image/png": "[encoded data removed]",
      "text/plain": [
       "<Figure size 432x288 with 1 Axes>"
      ]
     },
     "metadata": {
      "needs_background": "light"
     },
     "output_type": "display_data"
    }
   ],
   "source": [
    "kaggle_datasets_versions_users_data['Diff_LastActivityDate_Today'].plot()"
   ]
  },
  {
   "cell_type": "code",
   "execution_count": 26,
   "id": "a413db59",
   "metadata": {
    "scrolled": false
   },
   "outputs": [
    {
     "data": {
      "text/plain": [
       "count    613041.000000\n",
       "mean        851.316933\n",
       "std         496.440946\n",
       "min           1.000000\n",
       "25%         389.000000\n",
       "50%         804.000000\n",
       "75%        1359.000000\n",
       "max        1818.000000\n",
       "Name: Diff_LastActivityDate_Today, dtype: float64"
      ]
     },
     "execution_count": 26,
     "metadata": {},
     "output_type": "execute_result"
    }
   ],
   "source": [
    "kaggle_datasets_versions_users_data['Diff_LastActivityDate_Today'].describe()"
   ]
  },
  {
   "cell_type": "code",
   "execution_count": 27,
   "id": "0c2d1fff",
   "metadata": {
    "scrolled": false
   },
   "outputs": [
    {
     "data": {
      "text/plain": [
       "1818"
      ]
     },
     "execution_count": 27,
     "metadata": {},
     "output_type": "execute_result"
    }
   ],
   "source": [
    "kaggle_datasets_versions_users_data['Diff_LastActivityDate_Today'].max()"
   ]
  },
  {
   "cell_type": "markdown",
   "id": "9519c6b8",
   "metadata": {},
   "source": [
    "Setting labels for the categories and labelling on the data.\n",
    "labels = ['recent', 'middle', 'long']"
   ]
  },
  {
   "cell_type": "code",
   "execution_count": 28,
   "id": "b02aab24",
   "metadata": {
    "scrolled": false
   },
   "outputs": [],
   "source": [
    "labels = [1, 2, 3]\n",
    "kaggle_datasets_versions_users_data['LastActivity'] = pd.cut(\n",
    "    kaggle_datasets_versions_users_data['Diff_LastActivityDate_Today'], 3, labels=labels)\n",
    "\n",
    "kaggle_datasets_versions_users_data['LastActivity'] = kaggle_datasets_versions_users_data['LastActivity'].astype('int')\n"
   ]
  },
  {
   "cell_type": "markdown",
   "id": "ec4b8619",
   "metadata": {},
   "source": [
    "Developing the boolean values for the description, i.e., description yes (1), or no (0)"
   ]
  },
  {
   "cell_type": "code",
   "execution_count": 29,
   "id": "aab7c77b",
   "metadata": {
    "scrolled": false
   },
   "outputs": [],
   "source": [
    "kaggle_datasets_versions_users_data.loc[\n",
    "    kaggle_datasets_versions_users_data['Description'].isnull(), 'Bool_Description'] = 0\n",
    "kaggle_datasets_versions_users_data.loc[\n",
    "    kaggle_datasets_versions_users_data['Description'].notnull(), 'Bool_Description'] = 1\n",
    "\n",
    "kaggle_datasets_versions_users_data['Bool_Description'] = kaggle_datasets_versions_users_data[\n",
    "    'Bool_Description'].astype('int')"
   ]
  },
  {
   "cell_type": "code",
   "execution_count": 30,
   "id": "25398130",
   "metadata": {
    "scrolled": false
   },
   "outputs": [],
   "source": [
    "# NOTES\n",
    "#for i in kaggle_datasets_versions_users_data['Description']:\n",
    "#    print(i.length())\n",
    "\n",
    "# del kaggle_datasets_versions_users_data['Bool_Description']\n",
    "# del kaggle_datasets_versions_users_data['Bool_Subtitle']"
   ]
  },
  {
   "cell_type": "markdown",
   "id": "4171902b",
   "metadata": {},
   "source": [
    "Developing the boolean values for the subtitle, i.e., description yes (1), or no (0)"
   ]
  },
  {
   "cell_type": "code",
   "execution_count": 31,
   "id": "f9e41b2c",
   "metadata": {
    "scrolled": false
   },
   "outputs": [],
   "source": [
    "kaggle_datasets_versions_users_data.loc[kaggle_datasets_versions_users_data['Subtitle'].isnull(), 'Bool_Subtitle'] = 0\n",
    "kaggle_datasets_versions_users_data.loc[kaggle_datasets_versions_users_data['Subtitle'].notnull(), 'Bool_Subtitle'] = 1\n",
    "\n",
    "kaggle_datasets_versions_users_data['Bool_Subtitle'] = kaggle_datasets_versions_users_data['Bool_Subtitle'].astype(\n",
    "    'int')"
   ]
  },
  {
   "cell_type": "code",
   "execution_count": 32,
   "id": "5389acf1",
   "metadata": {
    "scrolled": false
   },
   "outputs": [
    {
     "data": {
      "text/plain": [
       "count                                                311268\n",
       "unique                                                50304\n",
       "top       ### Context\\n\\nThe number of new cases is incr...\n",
       "freq                                                  16165\n",
       "Name: Description, dtype: object"
      ]
     },
     "execution_count": 32,
     "metadata": {},
     "output_type": "execute_result"
    }
   ],
   "source": [
    "kaggle_datasets_versions_users_data['Description'].describe()"
   ]
  },
  {
   "cell_type": "markdown",
   "id": "a966763f",
   "metadata": {},
   "source": [
    "Transforming the Description to String value for getting the length of the Description"
   ]
  },
  {
   "cell_type": "code",
   "execution_count": 33,
   "id": "c1f33f91",
   "metadata": {
    "scrolled": false
   },
   "outputs": [
    {
     "data": {
      "text/plain": [
       "0         The [American Community Survey](http://www.cen...\n",
       "1         The [American Community Survey](http://www.cen...\n",
       "2         The World Development Indicators from the Worl...\n",
       "3         The World Development Indicators from the Worl...\n",
       "4         This contains data relevant for the 2016 US Pr...\n",
       "                                ...                        \n",
       "613036                                                  nan\n",
       "613037                                                  nan\n",
       "613038    Ethereum is a decentralized blockchain platfor...\n",
       "613039    Source: \\nhttps://worldpopulationreview.com/co...\n",
       "613040                                                  nan\n",
       "Name: Description, Length: 613041, dtype: object"
      ]
     },
     "execution_count": 33,
     "metadata": {},
     "output_type": "execute_result"
    }
   ],
   "source": [
    "kaggle_datasets_versions_users_data['Description'].astype('str')"
   ]
  },
  {
   "cell_type": "markdown",
   "id": "28ccd4c0",
   "metadata": {},
   "source": [
    "Setting the Null values to 0."
   ]
  },
  {
   "cell_type": "code",
   "execution_count": 34,
   "id": "aeeaea83",
   "metadata": {
    "scrolled": false
   },
   "outputs": [],
   "source": [
    "kaggle_datasets_versions_users_data.loc[kaggle_datasets_versions_users_data['Description'].isnull(), 'Description_Length'] = 0\n"
   ]
  },
  {
   "cell_type": "code",
   "execution_count": 35,
   "id": "935b1a10",
   "metadata": {
    "scrolled": false
   },
   "outputs": [
    {
     "data": {
      "text/plain": [
       "0         The [American Community Survey](http://www.cen...\n",
       "1         The [American Community Survey](http://www.cen...\n",
       "2         The World Development Indicators from the Worl...\n",
       "3         The World Development Indicators from the Worl...\n",
       "4         This contains data relevant for the 2016 US Pr...\n",
       "                                ...                        \n",
       "613036                                                  NaN\n",
       "613037                                                  NaN\n",
       "613038    Ethereum is a decentralized blockchain platfor...\n",
       "613039    Source: \\nhttps://worldpopulationreview.com/co...\n",
       "613040                                                  NaN\n",
       "Name: Description, Length: 613041, dtype: object"
      ]
     },
     "execution_count": 35,
     "metadata": {},
     "output_type": "execute_result"
    }
   ],
   "source": [
    "kaggle_datasets_versions_users_data['Description']"
   ]
  },
  {
   "cell_type": "markdown",
   "id": "446e166d",
   "metadata": {},
   "source": [
    "Creating the Description_Length colum with as values the length of the description"
   ]
  },
  {
   "cell_type": "code",
   "execution_count": 36,
   "id": "8800c944",
   "metadata": {
    "scrolled": false
   },
   "outputs": [],
   "source": [
    "kaggle_datasets_versions_users_data['Description_Length'] = kaggle_datasets_versions_users_data['Description'].str.len()"
   ]
  },
  {
   "cell_type": "code",
   "execution_count": 37,
   "id": "47fc7509",
   "metadata": {},
   "outputs": [
    {
     "data": {
      "text/plain": [
       "0         3295.0\n",
       "1         3295.0\n",
       "2          964.0\n",
       "3          964.0\n",
       "4         2644.0\n",
       "           ...  \n",
       "613036       NaN\n",
       "613037       NaN\n",
       "613038     509.0\n",
       "613039      81.0\n",
       "613040       NaN\n",
       "Name: Description_Length, Length: 613041, dtype: float64"
      ]
     },
     "execution_count": 37,
     "metadata": {},
     "output_type": "execute_result"
    }
   ],
   "source": [
    "kaggle_datasets_versions_users_data['Description_Length']"
   ]
  },
  {
   "cell_type": "code",
   "execution_count": 38,
   "id": "ad65d28f",
   "metadata": {
    "scrolled": false
   },
   "outputs": [],
   "source": [
    "kaggle_datasets_versions_users_data.loc[\n",
    "    kaggle_datasets_versions_users_data['Description_Length'].isnull(), 'Description_Length'] = 0"
   ]
  },
  {
   "cell_type": "code",
   "execution_count": 39,
   "id": "0856ca50",
   "metadata": {},
   "outputs": [],
   "source": [
    "kaggle_datasets_versions_users_data['Description_Length'] = kaggle_datasets_versions_users_data['Description_Length'].fillna(0).astype(int)"
   ]
  },
  {
   "cell_type": "code",
   "execution_count": 40,
   "id": "6b9042fb",
   "metadata": {
    "scrolled": false
   },
   "outputs": [
    {
     "data": {
      "text/plain": [
       "count    613041.000000\n",
       "mean        713.994079\n",
       "std        1453.541463\n",
       "min           0.000000\n",
       "25%           0.000000\n",
       "50%          98.000000\n",
       "75%        1126.000000\n",
       "max      365120.000000\n",
       "Name: Description_Length, dtype: float64"
      ]
     },
     "execution_count": 40,
     "metadata": {},
     "output_type": "execute_result"
    }
   ],
   "source": [
    "kaggle_datasets_versions_users_data['Description_Length'].describe()"
   ]
  },
  {
   "cell_type": "code",
   "execution_count": 41,
   "id": "f7df0a83",
   "metadata": {
    "scrolled": false
   },
   "outputs": [
    {
     "data": {
      "text/plain": [
       "0"
      ]
     },
     "execution_count": 41,
     "metadata": {},
     "output_type": "execute_result"
    }
   ],
   "source": [
    "kaggle_datasets_versions_users_data['Description_Length'].min()"
   ]
  },
  {
   "cell_type": "code",
   "execution_count": 42,
   "id": "d3551f80",
   "metadata": {
    "scrolled": false
   },
   "outputs": [],
   "source": [
    "count = (kaggle_datasets_versions_users_data['Description_Length'] ==0).sum()"
   ]
  },
  {
   "cell_type": "code",
   "execution_count": 43,
   "id": "4cbb0b8b",
   "metadata": {},
   "outputs": [
    {
     "data": {
      "text/plain": [
       "301773"
      ]
     },
     "execution_count": 43,
     "metadata": {},
     "output_type": "execute_result"
    }
   ],
   "source": [
    "count"
   ]
  },
  {
   "cell_type": "code",
   "execution_count": 44,
   "id": "872af329",
   "metadata": {
    "scrolled": false
   },
   "outputs": [
    {
     "data": {
      "text/plain": [
       "613041"
      ]
     },
     "execution_count": 44,
     "metadata": {},
     "output_type": "execute_result"
    }
   ],
   "source": [
    "kaggle_datasets_versions_users_data['Description_Length'].notnull().sum()"
   ]
  },
  {
   "cell_type": "code",
   "execution_count": 45,
   "id": "ad2d077b",
   "metadata": {
    "scrolled": false
   },
   "outputs": [
    {
     "name": "stderr",
     "output_type": "stream",
     "text": [
      "/home/lelyveldw/.local/lib/python3.9/site-packages/seaborn/distributions.py:2619: FutureWarning: `distplot` is a deprecated function and will be removed in a future version. Please adapt your code to use either `displot` (a figure-level function with similar flexibility) or `histplot` (an axes-level function for histograms).\n",
      "  warnings.warn(msg, FutureWarning)\n"
     ]
    },
    {
     "data": {
      "image/png": "[encoded data removed]",
      "text/plain": [
       "<Figure size 432x288 with 1 Axes>"
      ]
     },
     "metadata": {
      "needs_background": "light"
     },
     "output_type": "display_data"
    },
    {
     "data": {
      "text/plain": [
       "<Figure size 432x288 with 0 Axes>"
      ]
     },
     "metadata": {},
     "output_type": "display_data"
    }
   ],
   "source": [
    "sns.distplot(kaggle_datasets_versions_users_data['Description_Length']);\n",
    "# histogram and normal probability plot\n",
    "# sns.distplot(kaggle_datasets_versions_users_data['Description_Length'], fit=norm);\n",
    "fig = plt.figure()\n",
    "# res = stats.probplot(kaggle_datasets_versions_users_data['Description_Length'], plot=plt)"
   ]
  },
  {
   "cell_type": "markdown",
   "id": "656dfafb",
   "metadata": {},
   "source": [
    "See which types are in the dataset"
   ]
  },
  {
   "cell_type": "code",
   "execution_count": 46,
   "id": "fdfbe92f",
   "metadata": {
    "scrolled": false
   },
   "outputs": [],
   "source": [
    "# sns.pairplot(kaggle_datasets_versions_users_data, diag_kind='kde')\n",
    "# train_dataset.describe().transpose()\n",
    "# plt.show()"
   ]
  },
  {
   "cell_type": "code",
   "execution_count": 47,
   "id": "0f32a813",
   "metadata": {
    "scrolled": false
   },
   "outputs": [
    {
     "name": "stdout",
     "output_type": "stream",
     "text": [
      "Id_x                                          int64\n",
      "CreatorUserId_x                               int64\n",
      "OwnerUserId                                 float64\n",
      "OwnerOrganizationId                         float64\n",
      "CurrentDatasetVersionId                     float64\n",
      "CurrentDatasourceVersionId                  float64\n",
      "ForumId                                       int64\n",
      "Type                                          int64\n",
      "CreationDate_x                               object\n",
      "LastActivityDate                             object\n",
      "TotalViews                                    int64\n",
      "TotalDownloads                                int64\n",
      "TotalVotes                                    int64\n",
      "TotalKernels                                  int64\n",
      "Id_y                                        float64\n",
      "UserName                                     object\n",
      "DisplayName                                  object\n",
      "RegisterDate                                 object\n",
      "PerformanceTier                             float64\n",
      "Id                                            int64\n",
      "DatasetId                                     int64\n",
      "DatasourceVersionId                           int64\n",
      "CreatorUserId_y                               int64\n",
      "LicenseName                                  object\n",
      "CreationDate_y                               object\n",
      "VersionNumber                               float64\n",
      "Title                                        object\n",
      "Slug                                         object\n",
      "Subtitle                                     object\n",
      "Description                                  object\n",
      "VersionNotes                                 object\n",
      "TotalCompressedBytes                        float64\n",
      "TotalUncompressedBytes                      float64\n",
      "Kaggle_Location                              object\n",
      "CreationDate                                 object\n",
      "Diff_LastActivityDate_CreationDate            int64\n",
      "ActivityStatus_LastActivity_CreationDate      int64\n",
      "Diff_LastActivityDate_Today                   int64\n",
      "LastActivity                                  int64\n",
      "Bool_Description                              int64\n",
      "Bool_Subtitle                                 int64\n",
      "Description_Length                            int64\n",
      "dtype: object\n"
     ]
    }
   ],
   "source": [
    "result = kaggle_datasets_versions_users_data.dtypes\n",
    "print(result)"
   ]
  },
  {
   "cell_type": "markdown",
   "id": "f5ba4fa9",
   "metadata": {},
   "source": [
    "Make NumPy printouts easier to read."
   ]
  },
  {
   "cell_type": "code",
   "execution_count": 48,
   "id": "ba8b3d1d",
   "metadata": {
    "scrolled": false
   },
   "outputs": [],
   "source": [
    "np.set_printoptions(precision=3, suppress=True)"
   ]
  },
  {
   "cell_type": "markdown",
   "id": "84a93545",
   "metadata": {},
   "source": [
    "Load the features that are going to be used into the kaggle_dataset variable"
   ]
  },
  {
   "cell_type": "code",
   "execution_count": 49,
   "id": "2232f8ea",
   "metadata": {
    "scrolled": false
   },
   "outputs": [],
   "source": [
    "# NOTE\n",
    "# Using labels instead of days for the two columns of activity status and last activity\n",
    "\n",
    "# kaggle_dataset_all_features = kaggle_datasets_versions_users_data[\n",
    "#    ['ActivityStatus_LastActivity_CreationDate', 'LastActivity', 'Bool_Description', 'Bool_Subtitle', 'TotalDownloads',\n",
    "# 'TotalViews', 'TotalVotes']].copy()"
   ]
  },
  {
   "cell_type": "code",
   "execution_count": 50,
   "id": "6e9b51cc",
   "metadata": {
    "scrolled": false
   },
   "outputs": [],
   "source": [
    "kaggle_dataset_all_features = kaggle_datasets_versions_users_data[\n",
    "    ['Diff_LastActivityDate_CreationDate', 'Diff_LastActivityDate_Today', 'Description_Length', 'Bool_Description', 'Bool_Subtitle', 'TotalDownloads',\n",
    "     'TotalViews', 'TotalVotes']].copy()"
   ]
  },
  {
   "cell_type": "code",
   "execution_count": 51,
   "id": "b5fc3716",
   "metadata": {},
   "outputs": [],
   "source": [
    "kaggle_dataset_without_usage_features = kaggle_datasets_versions_users_data[\n",
    "    ['Diff_LastActivityDate_CreationDate', \n",
    "     'Diff_LastActivityDate_Today','Description_Length', \n",
    "     'Bool_Description', 'Bool_Subtitle', 'TotalVotes']].copy()"
   ]
  },
  {
   "cell_type": "code",
   "execution_count": 52,
   "id": "9aae5f19",
   "metadata": {},
   "outputs": [
    {
     "data": {
      "text/plain": [
       "Diff_LastActivityDate_CreationDate    int64\n",
       "Diff_LastActivityDate_Today           int64\n",
       "Description_Length                    int64\n",
       "Bool_Description                      int64\n",
       "Bool_Subtitle                         int64\n",
       "TotalDownloads                        int64\n",
       "TotalViews                            int64\n",
       "TotalVotes                            int64\n",
       "dtype: object"
      ]
     },
     "execution_count": 52,
     "metadata": {},
     "output_type": "execute_result"
    }
   ],
   "source": [
    "kaggle_dataset_all_features.dtypes"
   ]
  },
  {
   "cell_type": "code",
   "execution_count": 53,
   "id": "6845c6d0",
   "metadata": {},
   "outputs": [
    {
     "data": {
      "text/html": [
       "<div>\n",
       "<style scoped>\n",
       "    .dataframe tbody tr th:only-of-type {\n",
       "        vertical-align: middle;\n",
       "    }\n",
       "\n",
       "    .dataframe tbody tr th {\n",
       "        vertical-align: top;\n",
       "    }\n",
       "\n",
       "    .dataframe thead th {\n",
       "        text-align: right;\n",
       "    }\n",
       "</style>\n",
       "<table border=\"1\" class=\"dataframe\">\n",
       "  <thead>\n",
       "    <tr style=\"text-align: right;\">\n",
       "      <th></th>\n",
       "      <th>Diff_LastActivityDate_CreationDate</th>\n",
       "      <th>Diff_LastActivityDate_Today</th>\n",
       "      <th>Description_Length</th>\n",
       "      <th>Bool_Description</th>\n",
       "      <th>Bool_Subtitle</th>\n",
       "      <th>TotalDownloads</th>\n",
       "      <th>TotalViews</th>\n",
       "      <th>TotalVotes</th>\n",
       "    </tr>\n",
       "  </thead>\n",
       "  <tbody>\n",
       "    <tr>\n",
       "      <th>count</th>\n",
       "      <td>613041.000000</td>\n",
       "      <td>613041.000000</td>\n",
       "      <td>613041.000000</td>\n",
       "      <td>613041.000000</td>\n",
       "      <td>613041.000000</td>\n",
       "      <td>613041.000000</td>\n",
       "      <td>6.130410e+05</td>\n",
       "      <td>613041.000000</td>\n",
       "    </tr>\n",
       "    <tr>\n",
       "      <th>mean</th>\n",
       "      <td>4.598601</td>\n",
       "      <td>851.316933</td>\n",
       "      <td>713.994079</td>\n",
       "      <td>0.507744</td>\n",
       "      <td>0.582858</td>\n",
       "      <td>27530.648017</td>\n",
       "      <td>2.289739e+04</td>\n",
       "      <td>26.111624</td>\n",
       "    </tr>\n",
       "    <tr>\n",
       "      <th>std</th>\n",
       "      <td>50.182719</td>\n",
       "      <td>496.440946</td>\n",
       "      <td>1453.541463</td>\n",
       "      <td>0.499940</td>\n",
       "      <td>0.493087</td>\n",
       "      <td>74846.958366</td>\n",
       "      <td>1.064591e+05</td>\n",
       "      <td>212.628064</td>\n",
       "    </tr>\n",
       "    <tr>\n",
       "      <th>min</th>\n",
       "      <td>0.000000</td>\n",
       "      <td>1.000000</td>\n",
       "      <td>0.000000</td>\n",
       "      <td>0.000000</td>\n",
       "      <td>0.000000</td>\n",
       "      <td>0.000000</td>\n",
       "      <td>0.000000e+00</td>\n",
       "      <td>0.000000</td>\n",
       "    </tr>\n",
       "    <tr>\n",
       "      <th>25%</th>\n",
       "      <td>0.000000</td>\n",
       "      <td>389.000000</td>\n",
       "      <td>0.000000</td>\n",
       "      <td>0.000000</td>\n",
       "      <td>0.000000</td>\n",
       "      <td>6.000000</td>\n",
       "      <td>4.390000e+02</td>\n",
       "      <td>0.000000</td>\n",
       "    </tr>\n",
       "    <tr>\n",
       "      <th>50%</th>\n",
       "      <td>0.000000</td>\n",
       "      <td>804.000000</td>\n",
       "      <td>98.000000</td>\n",
       "      <td>1.000000</td>\n",
       "      <td>1.000000</td>\n",
       "      <td>62.000000</td>\n",
       "      <td>2.587000e+03</td>\n",
       "      <td>2.000000</td>\n",
       "    </tr>\n",
       "    <tr>\n",
       "      <th>75%</th>\n",
       "      <td>0.000000</td>\n",
       "      <td>1359.000000</td>\n",
       "      <td>1126.000000</td>\n",
       "      <td>1.000000</td>\n",
       "      <td>1.000000</td>\n",
       "      <td>506.000000</td>\n",
       "      <td>9.737000e+03</td>\n",
       "      <td>18.000000</td>\n",
       "    </tr>\n",
       "    <tr>\n",
       "      <th>max</th>\n",
       "      <td>933.000000</td>\n",
       "      <td>1818.000000</td>\n",
       "      <td>365120.000000</td>\n",
       "      <td>1.000000</td>\n",
       "      <td>1.000000</td>\n",
       "      <td>418879.000000</td>\n",
       "      <td>9.254881e+06</td>\n",
       "      <td>16514.000000</td>\n",
       "    </tr>\n",
       "  </tbody>\n",
       "</table>\n",
       "</div>"
      ],
      "text/plain": [
       "       Diff_LastActivityDate_CreationDate  Diff_LastActivityDate_Today  \\\n",
       "count                       613041.000000                613041.000000   \n",
       "mean                             4.598601                   851.316933   \n",
       "std                             50.182719                   496.440946   \n",
       "min                              0.000000                     1.000000   \n",
       "25%                              0.000000                   389.000000   \n",
       "50%                              0.000000                   804.000000   \n",
       "75%                              0.000000                  1359.000000   \n",
       "max                            933.000000                  1818.000000   \n",
       "\n",
       "       Description_Length  Bool_Description  Bool_Subtitle  TotalDownloads  \\\n",
       "count       613041.000000     613041.000000  613041.000000   613041.000000   \n",
       "mean           713.994079          0.507744       0.582858    27530.648017   \n",
       "std           1453.541463          0.499940       0.493087    74846.958366   \n",
       "min              0.000000          0.000000       0.000000        0.000000   \n",
       "25%              0.000000          0.000000       0.000000        6.000000   \n",
       "50%             98.000000          1.000000       1.000000       62.000000   \n",
       "75%           1126.000000          1.000000       1.000000      506.000000   \n",
       "max         365120.000000          1.000000       1.000000   418879.000000   \n",
       "\n",
       "         TotalViews     TotalVotes  \n",
       "count  6.130410e+05  613041.000000  \n",
       "mean   2.289739e+04      26.111624  \n",
       "std    1.064591e+05     212.628064  \n",
       "min    0.000000e+00       0.000000  \n",
       "25%    4.390000e+02       0.000000  \n",
       "50%    2.587000e+03       2.000000  \n",
       "75%    9.737000e+03      18.000000  \n",
       "max    9.254881e+06   16514.000000  "
      ]
     },
     "execution_count": 53,
     "metadata": {},
     "output_type": "execute_result"
    }
   ],
   "source": [
    "kaggle_dataset_all_features.describe()"
   ]
  },
  {
   "cell_type": "code",
   "execution_count": 54,
   "id": "bc15e5a1",
   "metadata": {
    "scrolled": false
   },
   "outputs": [
    {
     "data": {
      "text/html": [
       "<div>\n",
       "<style scoped>\n",
       "    .dataframe tbody tr th:only-of-type {\n",
       "        vertical-align: middle;\n",
       "    }\n",
       "\n",
       "    .dataframe tbody tr th {\n",
       "        vertical-align: top;\n",
       "    }\n",
       "\n",
       "    .dataframe thead th {\n",
       "        text-align: right;\n",
       "    }\n",
       "</style>\n",
       "<table border=\"1\" class=\"dataframe\">\n",
       "  <thead>\n",
       "    <tr style=\"text-align: right;\">\n",
       "      <th></th>\n",
       "      <th>Diff_LastActivityDate_CreationDate</th>\n",
       "      <th>Diff_LastActivityDate_Today</th>\n",
       "      <th>Description_Length</th>\n",
       "      <th>Bool_Description</th>\n",
       "      <th>Bool_Subtitle</th>\n",
       "      <th>TotalDownloads</th>\n",
       "      <th>TotalViews</th>\n",
       "      <th>TotalVotes</th>\n",
       "    </tr>\n",
       "  </thead>\n",
       "  <tbody>\n",
       "    <tr>\n",
       "      <th>0</th>\n",
       "      <td>933</td>\n",
       "      <td>1592</td>\n",
       "      <td>3295</td>\n",
       "      <td>1</td>\n",
       "      <td>1</td>\n",
       "      <td>5852</td>\n",
       "      <td>63999</td>\n",
       "      <td>96</td>\n",
       "    </tr>\n",
       "    <tr>\n",
       "      <th>1</th>\n",
       "      <td>933</td>\n",
       "      <td>1592</td>\n",
       "      <td>3295</td>\n",
       "      <td>1</td>\n",
       "      <td>1</td>\n",
       "      <td>5852</td>\n",
       "      <td>63999</td>\n",
       "      <td>96</td>\n",
       "    </tr>\n",
       "    <tr>\n",
       "      <th>2</th>\n",
       "      <td>740</td>\n",
       "      <td>1591</td>\n",
       "      <td>964</td>\n",
       "      <td>1</td>\n",
       "      <td>1</td>\n",
       "      <td>61721</td>\n",
       "      <td>400610</td>\n",
       "      <td>1600</td>\n",
       "    </tr>\n",
       "    <tr>\n",
       "      <th>3</th>\n",
       "      <td>740</td>\n",
       "      <td>1591</td>\n",
       "      <td>964</td>\n",
       "      <td>1</td>\n",
       "      <td>1</td>\n",
       "      <td>61721</td>\n",
       "      <td>400610</td>\n",
       "      <td>1600</td>\n",
       "    </tr>\n",
       "    <tr>\n",
       "      <th>4</th>\n",
       "      <td>718</td>\n",
       "      <td>1591</td>\n",
       "      <td>2644</td>\n",
       "      <td>1</td>\n",
       "      <td>1</td>\n",
       "      <td>25878</td>\n",
       "      <td>242349</td>\n",
       "      <td>518</td>\n",
       "    </tr>\n",
       "  </tbody>\n",
       "</table>\n",
       "</div>"
      ],
      "text/plain": [
       "   Diff_LastActivityDate_CreationDate  Diff_LastActivityDate_Today  \\\n",
       "0                                 933                         1592   \n",
       "1                                 933                         1592   \n",
       "2                                 740                         1591   \n",
       "3                                 740                         1591   \n",
       "4                                 718                         1591   \n",
       "\n",
       "   Description_Length  Bool_Description  Bool_Subtitle  TotalDownloads  \\\n",
       "0                3295                 1              1            5852   \n",
       "1                3295                 1              1            5852   \n",
       "2                 964                 1              1           61721   \n",
       "3                 964                 1              1           61721   \n",
       "4                2644                 1              1           25878   \n",
       "\n",
       "   TotalViews  TotalVotes  \n",
       "0       63999          96  \n",
       "1       63999          96  \n",
       "2      400610        1600  \n",
       "3      400610        1600  \n",
       "4      242349         518  "
      ]
     },
     "execution_count": 54,
     "metadata": {},
     "output_type": "execute_result"
    }
   ],
   "source": [
    "kaggle_dataset_all_features.head()"
   ]
  },
  {
   "cell_type": "code",
   "execution_count": 55,
   "id": "0df9d40a",
   "metadata": {
    "scrolled": false
   },
   "outputs": [
    {
     "name": "stdout",
     "output_type": "stream",
     "text": [
      "0         933\n",
      "1         933\n",
      "2         740\n",
      "3         740\n",
      "4         718\n",
      "         ... \n",
      "613036      0\n",
      "613037      0\n",
      "613038      0\n",
      "613039      0\n",
      "613040      0\n",
      "Name: Diff_LastActivityDate_CreationDate, Length: 613041, dtype: int64\n",
      "0         1592\n",
      "1         1592\n",
      "2         1591\n",
      "3         1591\n",
      "4         1591\n",
      "          ... \n",
      "613036       1\n",
      "613037       1\n",
      "613038       1\n",
      "613039       1\n",
      "613040       1\n",
      "Name: Diff_LastActivityDate_Today, Length: 613041, dtype: int64\n"
     ]
    }
   ],
   "source": [
    "print(kaggle_dataset_all_features['Diff_LastActivityDate_CreationDate'])\n",
    "print(kaggle_dataset_all_features['Diff_LastActivityDate_Today'])"
   ]
  },
  {
   "cell_type": "markdown",
   "id": "8dfb00a9",
   "metadata": {},
   "source": [
    "Histogram"
   ]
  },
  {
   "cell_type": "code",
   "execution_count": 56,
   "id": "4e7f9121",
   "metadata": {
    "scrolled": false
   },
   "outputs": [
    {
     "name": "stderr",
     "output_type": "stream",
     "text": [
      "/home/lelyveldw/.local/lib/python3.9/site-packages/seaborn/distributions.py:2619: FutureWarning: `distplot` is a deprecated function and will be removed in a future version. Please adapt your code to use either `displot` (a figure-level function with similar flexibility) or `histplot` (an axes-level function for histograms).\n",
      "  warnings.warn(msg, FutureWarning)\n"
     ]
    },
    {
     "data": {
      "image/png": "[encoded data removed]",
      "text/plain": [
       "<Figure size 432x288 with 1 Axes>"
      ]
     },
     "metadata": {
      "needs_background": "light"
     },
     "output_type": "display_data"
    },
    {
     "data": {
      "text/plain": [
       "<Figure size 432x288 with 0 Axes>"
      ]
     },
     "metadata": {},
     "output_type": "display_data"
    }
   ],
   "source": [
    "sns.distplot(kaggle_dataset_all_features['TotalVotes']);\n",
    "#histogram and normal probability plot\n",
    "# sns.distplot(kaggle_dataset_all_features['TotalVotes'], fit=norm);\n",
    "fig = plt.figure()\n",
    "# res = stats.probplot(kaggle_dataset_all_features['TotalVotes'], plot=plt)"
   ]
  },
  {
   "cell_type": "code",
   "execution_count": 57,
   "id": "80e36d44",
   "metadata": {
    "scrolled": false
   },
   "outputs": [
    {
     "name": "stdout",
     "output_type": "stream",
     "text": [
      "Skewness: 30.520013\n",
      "Kurtosis: 1262.344186\n"
     ]
    }
   ],
   "source": [
    "#skewness and kurtosis\n",
    "print(\"Skewness: %f\" % kaggle_dataset_all_features['TotalVotes'].skew())\n",
    "print(\"Kurtosis: %f\" % kaggle_dataset_all_features['TotalVotes'].kurt())\n"
   ]
  },
  {
   "cell_type": "code",
   "execution_count": 58,
   "id": "af6136f4",
   "metadata": {
    "scrolled": false
   },
   "outputs": [],
   "source": [
    "#applying log transformation\n",
    "# kaggle_dataset_all_features['TotalVotes_log'] = np.log(kaggle_dataset_all_features['TotalVotes'])"
   ]
  },
  {
   "cell_type": "code",
   "execution_count": 59,
   "id": "46fe1cea",
   "metadata": {
    "scrolled": false
   },
   "outputs": [
    {
     "name": "stdout",
     "output_type": "stream",
     "text": [
      "165737\n",
      "1492531\n"
     ]
    }
   ],
   "source": [
    "print(kaggle_dataset_all_features['Diff_LastActivityDate_CreationDate'].unique().sum())\n",
    "print(kaggle_dataset_all_features['Diff_LastActivityDate_Today'].unique().sum())"
   ]
  },
  {
   "cell_type": "markdown",
   "id": "d191e41b",
   "metadata": {},
   "source": [
    "Splitting the dataset into a training set and a test set. The test set will be used in the final evaluation of models."
   ]
  },
  {
   "cell_type": "code",
   "execution_count": 60,
   "id": "bdc7d42c",
   "metadata": {
    "scrolled": false
   },
   "outputs": [],
   "source": [
    "train_dataset = kaggle_dataset_all_features.sample(frac=0.8, random_state=0)\n",
    "test_dataset = kaggle_dataset_all_features.drop(train_dataset.index)"
   ]
  },
  {
   "cell_type": "code",
   "execution_count": 61,
   "id": "141b4808",
   "metadata": {},
   "outputs": [],
   "source": [
    "train_dataset_without_usage = kaggle_dataset_without_usage_features.sample(frac=0.8, random_state=0)\n",
    "test_dataset_without_usage = kaggle_dataset_without_usage_features.drop(train_dataset_without_usage.index)"
   ]
  },
  {
   "cell_type": "code",
   "execution_count": 62,
   "id": "37ed78ac",
   "metadata": {},
   "outputs": [
    {
     "data": {
      "text/html": [
       "<div>\n",
       "<style scoped>\n",
       "    .dataframe tbody tr th:only-of-type {\n",
       "        vertical-align: middle;\n",
       "    }\n",
       "\n",
       "    .dataframe tbody tr th {\n",
       "        vertical-align: top;\n",
       "    }\n",
       "\n",
       "    .dataframe thead th {\n",
       "        text-align: right;\n",
       "    }\n",
       "</style>\n",
       "<table border=\"1\" class=\"dataframe\">\n",
       "  <thead>\n",
       "    <tr style=\"text-align: right;\">\n",
       "      <th></th>\n",
       "      <th>Diff_LastActivityDate_CreationDate</th>\n",
       "      <th>Diff_LastActivityDate_Today</th>\n",
       "      <th>Description_Length</th>\n",
       "      <th>Bool_Description</th>\n",
       "      <th>Bool_Subtitle</th>\n",
       "      <th>TotalVotes</th>\n",
       "    </tr>\n",
       "  </thead>\n",
       "  <tbody>\n",
       "    <tr>\n",
       "      <th>96815</th>\n",
       "      <td>0</td>\n",
       "      <td>1373</td>\n",
       "      <td>1144</td>\n",
       "      <td>1</td>\n",
       "      <td>1</td>\n",
       "      <td>2</td>\n",
       "    </tr>\n",
       "    <tr>\n",
       "      <th>274102</th>\n",
       "      <td>0</td>\n",
       "      <td>752</td>\n",
       "      <td>0</td>\n",
       "      <td>0</td>\n",
       "      <td>0</td>\n",
       "      <td>1</td>\n",
       "    </tr>\n",
       "    <tr>\n",
       "      <th>192245</th>\n",
       "      <td>0</td>\n",
       "      <td>1288</td>\n",
       "      <td>0</td>\n",
       "      <td>0</td>\n",
       "      <td>0</td>\n",
       "      <td>21</td>\n",
       "    </tr>\n",
       "    <tr>\n",
       "      <th>312565</th>\n",
       "      <td>0</td>\n",
       "      <td>676</td>\n",
       "      <td>0</td>\n",
       "      <td>0</td>\n",
       "      <td>0</td>\n",
       "      <td>0</td>\n",
       "    </tr>\n",
       "    <tr>\n",
       "      <th>369100</th>\n",
       "      <td>0</td>\n",
       "      <td>694</td>\n",
       "      <td>343</td>\n",
       "      <td>1</td>\n",
       "      <td>1</td>\n",
       "      <td>7</td>\n",
       "    </tr>\n",
       "    <tr>\n",
       "      <th>...</th>\n",
       "      <td>...</td>\n",
       "      <td>...</td>\n",
       "      <td>...</td>\n",
       "      <td>...</td>\n",
       "      <td>...</td>\n",
       "      <td>...</td>\n",
       "    </tr>\n",
       "    <tr>\n",
       "      <th>318778</th>\n",
       "      <td>0</td>\n",
       "      <td>695</td>\n",
       "      <td>1450</td>\n",
       "      <td>1</td>\n",
       "      <td>1</td>\n",
       "      <td>19</td>\n",
       "    </tr>\n",
       "    <tr>\n",
       "      <th>529888</th>\n",
       "      <td>0</td>\n",
       "      <td>191</td>\n",
       "      <td>0</td>\n",
       "      <td>0</td>\n",
       "      <td>0</td>\n",
       "      <td>0</td>\n",
       "    </tr>\n",
       "    <tr>\n",
       "      <th>301724</th>\n",
       "      <td>0</td>\n",
       "      <td>789</td>\n",
       "      <td>1830</td>\n",
       "      <td>1</td>\n",
       "      <td>1</td>\n",
       "      <td>18</td>\n",
       "    </tr>\n",
       "    <tr>\n",
       "      <th>557825</th>\n",
       "      <td>0</td>\n",
       "      <td>195</td>\n",
       "      <td>896</td>\n",
       "      <td>1</td>\n",
       "      <td>1</td>\n",
       "      <td>12</td>\n",
       "    </tr>\n",
       "    <tr>\n",
       "      <th>307638</th>\n",
       "      <td>0</td>\n",
       "      <td>1372</td>\n",
       "      <td>858</td>\n",
       "      <td>1</td>\n",
       "      <td>1</td>\n",
       "      <td>0</td>\n",
       "    </tr>\n",
       "  </tbody>\n",
       "</table>\n",
       "<p>490433 rows × 6 columns</p>\n",
       "</div>"
      ],
      "text/plain": [
       "        Diff_LastActivityDate_CreationDate  Diff_LastActivityDate_Today  \\\n",
       "96815                                    0                         1373   \n",
       "274102                                   0                          752   \n",
       "192245                                   0                         1288   \n",
       "312565                                   0                          676   \n",
       "369100                                   0                          694   \n",
       "...                                    ...                          ...   \n",
       "318778                                   0                          695   \n",
       "529888                                   0                          191   \n",
       "301724                                   0                          789   \n",
       "557825                                   0                          195   \n",
       "307638                                   0                         1372   \n",
       "\n",
       "        Description_Length  Bool_Description  Bool_Subtitle  TotalVotes  \n",
       "96815                 1144                 1              1           2  \n",
       "274102                   0                 0              0           1  \n",
       "192245                   0                 0              0          21  \n",
       "312565                   0                 0              0           0  \n",
       "369100                 343                 1              1           7  \n",
       "...                    ...               ...            ...         ...  \n",
       "318778                1450                 1              1          19  \n",
       "529888                   0                 0              0           0  \n",
       "301724                1830                 1              1          18  \n",
       "557825                 896                 1              1          12  \n",
       "307638                 858                 1              1           0  \n",
       "\n",
       "[490433 rows x 6 columns]"
      ]
     },
     "execution_count": 62,
     "metadata": {},
     "output_type": "execute_result"
    }
   ],
   "source": [
    "train_dataset_without_usage"
   ]
  },
  {
   "cell_type": "code",
   "execution_count": 63,
   "id": "8c90e33a",
   "metadata": {},
   "outputs": [
    {
     "data": {
      "text/html": [
       "<div>\n",
       "<style scoped>\n",
       "    .dataframe tbody tr th:only-of-type {\n",
       "        vertical-align: middle;\n",
       "    }\n",
       "\n",
       "    .dataframe tbody tr th {\n",
       "        vertical-align: top;\n",
       "    }\n",
       "\n",
       "    .dataframe thead th {\n",
       "        text-align: right;\n",
       "    }\n",
       "</style>\n",
       "<table border=\"1\" class=\"dataframe\">\n",
       "  <thead>\n",
       "    <tr style=\"text-align: right;\">\n",
       "      <th></th>\n",
       "      <th>Diff_LastActivityDate_CreationDate</th>\n",
       "      <th>Diff_LastActivityDate_Today</th>\n",
       "      <th>Description_Length</th>\n",
       "      <th>Bool_Description</th>\n",
       "      <th>Bool_Subtitle</th>\n",
       "      <th>TotalVotes</th>\n",
       "    </tr>\n",
       "  </thead>\n",
       "  <tbody>\n",
       "    <tr>\n",
       "      <th>4</th>\n",
       "      <td>718</td>\n",
       "      <td>1591</td>\n",
       "      <td>2644</td>\n",
       "      <td>1</td>\n",
       "      <td>1</td>\n",
       "      <td>518</td>\n",
       "    </tr>\n",
       "    <tr>\n",
       "      <th>9</th>\n",
       "      <td>718</td>\n",
       "      <td>1591</td>\n",
       "      <td>3017</td>\n",
       "      <td>1</td>\n",
       "      <td>1</td>\n",
       "      <td>518</td>\n",
       "    </tr>\n",
       "    <tr>\n",
       "      <th>22</th>\n",
       "      <td>576</td>\n",
       "      <td>1592</td>\n",
       "      <td>483</td>\n",
       "      <td>1</td>\n",
       "      <td>1</td>\n",
       "      <td>144</td>\n",
       "    </tr>\n",
       "    <tr>\n",
       "      <th>27</th>\n",
       "      <td>535</td>\n",
       "      <td>1593</td>\n",
       "      <td>4253</td>\n",
       "      <td>1</td>\n",
       "      <td>1</td>\n",
       "      <td>331</td>\n",
       "    </tr>\n",
       "    <tr>\n",
       "      <th>34</th>\n",
       "      <td>526</td>\n",
       "      <td>1597</td>\n",
       "      <td>2015</td>\n",
       "      <td>1</td>\n",
       "      <td>1</td>\n",
       "      <td>21</td>\n",
       "    </tr>\n",
       "    <tr>\n",
       "      <th>...</th>\n",
       "      <td>...</td>\n",
       "      <td>...</td>\n",
       "      <td>...</td>\n",
       "      <td>...</td>\n",
       "      <td>...</td>\n",
       "      <td>...</td>\n",
       "    </tr>\n",
       "    <tr>\n",
       "      <th>613029</th>\n",
       "      <td>0</td>\n",
       "      <td>1</td>\n",
       "      <td>0</td>\n",
       "      <td>0</td>\n",
       "      <td>0</td>\n",
       "      <td>0</td>\n",
       "    </tr>\n",
       "    <tr>\n",
       "      <th>613030</th>\n",
       "      <td>0</td>\n",
       "      <td>1</td>\n",
       "      <td>0</td>\n",
       "      <td>0</td>\n",
       "      <td>0</td>\n",
       "      <td>0</td>\n",
       "    </tr>\n",
       "    <tr>\n",
       "      <th>613033</th>\n",
       "      <td>0</td>\n",
       "      <td>1</td>\n",
       "      <td>0</td>\n",
       "      <td>0</td>\n",
       "      <td>0</td>\n",
       "      <td>0</td>\n",
       "    </tr>\n",
       "    <tr>\n",
       "      <th>613038</th>\n",
       "      <td>0</td>\n",
       "      <td>1</td>\n",
       "      <td>509</td>\n",
       "      <td>1</td>\n",
       "      <td>1</td>\n",
       "      <td>0</td>\n",
       "    </tr>\n",
       "    <tr>\n",
       "      <th>613040</th>\n",
       "      <td>0</td>\n",
       "      <td>1</td>\n",
       "      <td>0</td>\n",
       "      <td>0</td>\n",
       "      <td>0</td>\n",
       "      <td>0</td>\n",
       "    </tr>\n",
       "  </tbody>\n",
       "</table>\n",
       "<p>122608 rows × 6 columns</p>\n",
       "</div>"
      ],
      "text/plain": [
       "        Diff_LastActivityDate_CreationDate  Diff_LastActivityDate_Today  \\\n",
       "4                                      718                         1591   \n",
       "9                                      718                         1591   \n",
       "22                                     576                         1592   \n",
       "27                                     535                         1593   \n",
       "34                                     526                         1597   \n",
       "...                                    ...                          ...   \n",
       "613029                                   0                            1   \n",
       "613030                                   0                            1   \n",
       "613033                                   0                            1   \n",
       "613038                                   0                            1   \n",
       "613040                                   0                            1   \n",
       "\n",
       "        Description_Length  Bool_Description  Bool_Subtitle  TotalVotes  \n",
       "4                     2644                 1              1         518  \n",
       "9                     3017                 1              1         518  \n",
       "22                     483                 1              1         144  \n",
       "27                    4253                 1              1         331  \n",
       "34                    2015                 1              1          21  \n",
       "...                    ...               ...            ...         ...  \n",
       "613029                   0                 0              0           0  \n",
       "613030                   0                 0              0           0  \n",
       "613033                   0                 0              0           0  \n",
       "613038                 509                 1              1           0  \n",
       "613040                   0                 0              0           0  \n",
       "\n",
       "[122608 rows x 6 columns]"
      ]
     },
     "execution_count": 63,
     "metadata": {},
     "output_type": "execute_result"
    }
   ],
   "source": [
    "test_dataset_without_usage"
   ]
  },
  {
   "cell_type": "markdown",
   "id": "7dfe4932",
   "metadata": {},
   "source": [
    "Inspecting the data.\n",
    "\n",
    "Reviewing the joint distribution of a few pairs of columns from the training set.\n",
    "\n",
    "Also checking the overall statistics."
   ]
  },
  {
   "cell_type": "code",
   "execution_count": 64,
   "id": "00544261",
   "metadata": {
    "scrolled": false
   },
   "outputs": [
    {
     "data": {
      "text/html": [
       "<div>\n",
       "<style scoped>\n",
       "    .dataframe tbody tr th:only-of-type {\n",
       "        vertical-align: middle;\n",
       "    }\n",
       "\n",
       "    .dataframe tbody tr th {\n",
       "        vertical-align: top;\n",
       "    }\n",
       "\n",
       "    .dataframe thead th {\n",
       "        text-align: right;\n",
       "    }\n",
       "</style>\n",
       "<table border=\"1\" class=\"dataframe\">\n",
       "  <thead>\n",
       "    <tr style=\"text-align: right;\">\n",
       "      <th></th>\n",
       "      <th>Diff_LastActivityDate_CreationDate</th>\n",
       "      <th>Diff_LastActivityDate_Today</th>\n",
       "      <th>Description_Length</th>\n",
       "      <th>Bool_Description</th>\n",
       "      <th>Bool_Subtitle</th>\n",
       "      <th>TotalDownloads</th>\n",
       "      <th>TotalViews</th>\n",
       "      <th>TotalVotes</th>\n",
       "    </tr>\n",
       "  </thead>\n",
       "  <tbody>\n",
       "    <tr>\n",
       "      <th>count</th>\n",
       "      <td>490433.000000</td>\n",
       "      <td>490433.000000</td>\n",
       "      <td>490433.000000</td>\n",
       "      <td>490433.000000</td>\n",
       "      <td>490433.000000</td>\n",
       "      <td>490433.000000</td>\n",
       "      <td>4.904330e+05</td>\n",
       "      <td>490433.000000</td>\n",
       "    </tr>\n",
       "    <tr>\n",
       "      <th>mean</th>\n",
       "      <td>4.572001</td>\n",
       "      <td>851.378716</td>\n",
       "      <td>713.189294</td>\n",
       "      <td>0.507519</td>\n",
       "      <td>0.582885</td>\n",
       "      <td>27596.152314</td>\n",
       "      <td>2.287714e+04</td>\n",
       "      <td>26.101321</td>\n",
       "    </tr>\n",
       "    <tr>\n",
       "      <th>std</th>\n",
       "      <td>50.013455</td>\n",
       "      <td>496.402082</td>\n",
       "      <td>1388.689480</td>\n",
       "      <td>0.499944</td>\n",
       "      <td>0.493083</td>\n",
       "      <td>74929.065592</td>\n",
       "      <td>1.065075e+05</td>\n",
       "      <td>211.430531</td>\n",
       "    </tr>\n",
       "    <tr>\n",
       "      <th>min</th>\n",
       "      <td>0.000000</td>\n",
       "      <td>1.000000</td>\n",
       "      <td>0.000000</td>\n",
       "      <td>0.000000</td>\n",
       "      <td>0.000000</td>\n",
       "      <td>0.000000</td>\n",
       "      <td>0.000000e+00</td>\n",
       "      <td>0.000000</td>\n",
       "    </tr>\n",
       "    <tr>\n",
       "      <th>25%</th>\n",
       "      <td>0.000000</td>\n",
       "      <td>389.000000</td>\n",
       "      <td>0.000000</td>\n",
       "      <td>0.000000</td>\n",
       "      <td>0.000000</td>\n",
       "      <td>6.000000</td>\n",
       "      <td>4.390000e+02</td>\n",
       "      <td>0.000000</td>\n",
       "    </tr>\n",
       "    <tr>\n",
       "      <th>50%</th>\n",
       "      <td>0.000000</td>\n",
       "      <td>805.000000</td>\n",
       "      <td>95.000000</td>\n",
       "      <td>1.000000</td>\n",
       "      <td>1.000000</td>\n",
       "      <td>62.000000</td>\n",
       "      <td>2.589000e+03</td>\n",
       "      <td>2.000000</td>\n",
       "    </tr>\n",
       "    <tr>\n",
       "      <th>75%</th>\n",
       "      <td>0.000000</td>\n",
       "      <td>1359.000000</td>\n",
       "      <td>1125.000000</td>\n",
       "      <td>1.000000</td>\n",
       "      <td>1.000000</td>\n",
       "      <td>506.000000</td>\n",
       "      <td>9.737000e+03</td>\n",
       "      <td>18.000000</td>\n",
       "    </tr>\n",
       "    <tr>\n",
       "      <th>max</th>\n",
       "      <td>933.000000</td>\n",
       "      <td>1818.000000</td>\n",
       "      <td>227296.000000</td>\n",
       "      <td>1.000000</td>\n",
       "      <td>1.000000</td>\n",
       "      <td>418879.000000</td>\n",
       "      <td>9.254881e+06</td>\n",
       "      <td>16514.000000</td>\n",
       "    </tr>\n",
       "  </tbody>\n",
       "</table>\n",
       "</div>"
      ],
      "text/plain": [
       "       Diff_LastActivityDate_CreationDate  Diff_LastActivityDate_Today  \\\n",
       "count                       490433.000000                490433.000000   \n",
       "mean                             4.572001                   851.378716   \n",
       "std                             50.013455                   496.402082   \n",
       "min                              0.000000                     1.000000   \n",
       "25%                              0.000000                   389.000000   \n",
       "50%                              0.000000                   805.000000   \n",
       "75%                              0.000000                  1359.000000   \n",
       "max                            933.000000                  1818.000000   \n",
       "\n",
       "       Description_Length  Bool_Description  Bool_Subtitle  TotalDownloads  \\\n",
       "count       490433.000000     490433.000000  490433.000000   490433.000000   \n",
       "mean           713.189294          0.507519       0.582885    27596.152314   \n",
       "std           1388.689480          0.499944       0.493083    74929.065592   \n",
       "min              0.000000          0.000000       0.000000        0.000000   \n",
       "25%              0.000000          0.000000       0.000000        6.000000   \n",
       "50%             95.000000          1.000000       1.000000       62.000000   \n",
       "75%           1125.000000          1.000000       1.000000      506.000000   \n",
       "max         227296.000000          1.000000       1.000000   418879.000000   \n",
       "\n",
       "         TotalViews     TotalVotes  \n",
       "count  4.904330e+05  490433.000000  \n",
       "mean   2.287714e+04      26.101321  \n",
       "std    1.065075e+05     211.430531  \n",
       "min    0.000000e+00       0.000000  \n",
       "25%    4.390000e+02       0.000000  \n",
       "50%    2.589000e+03       2.000000  \n",
       "75%    9.737000e+03      18.000000  \n",
       "max    9.254881e+06   16514.000000  "
      ]
     },
     "execution_count": 64,
     "metadata": {},
     "output_type": "execute_result"
    }
   ],
   "source": [
    "train_dataset.describe()"
   ]
  },
  {
   "cell_type": "code",
   "execution_count": 1,
   "id": "36968a78",
   "metadata": {},
   "outputs": [
    {
     "ename": "NameError",
     "evalue": "name 'sns' is not defined",
     "output_type": "error",
     "traceback": [
      "\u001b[0;31m---------------------------------------------------------------------------\u001b[0m",
      "\u001b[0;31mNameError\u001b[0m                                 Traceback (most recent call last)",
      "\u001b[0;32m/tmp/ipykernel_30238/3678979131.py\u001b[0m in \u001b[0;36m<module>\u001b[0;34m\u001b[0m\n\u001b[0;32m----> 1\u001b[0;31m sns.pairplot(kaggle_dataset_all_features[\n\u001b[0m\u001b[1;32m      2\u001b[0m                 ['Diff_LastActivityDate_CreationDate', 'Diff_LastActivityDate_Today','Description_Length', 'Bool_Description', 'Bool_Subtitle', 'TotalDownloads',\n\u001b[1;32m      3\u001b[0m      'TotalViews', 'TotalVotes']], diag_kind='kde')\n\u001b[1;32m      4\u001b[0m \u001b[0mtrain_dataset\u001b[0m\u001b[0;34m.\u001b[0m\u001b[0mdescribe\u001b[0m\u001b[0;34m(\u001b[0m\u001b[0;34m)\u001b[0m\u001b[0;34m.\u001b[0m\u001b[0mtranspose\u001b[0m\u001b[0;34m(\u001b[0m\u001b[0;34m)\u001b[0m\u001b[0;34m\u001b[0m\u001b[0;34m\u001b[0m\u001b[0m\n\u001b[1;32m      5\u001b[0m \u001b[0mplt\u001b[0m\u001b[0;34m.\u001b[0m\u001b[0mshow\u001b[0m\u001b[0;34m(\u001b[0m\u001b[0;34m)\u001b[0m\u001b[0;34m\u001b[0m\u001b[0;34m\u001b[0m\u001b[0m\n",
      "\u001b[0;31mNameError\u001b[0m: name 'sns' is not defined"
     ]
    }
   ],
   "source": [
    "# sns.pairplot(kaggle_dataset_all_features[\n",
    "#                 ['Diff_LastActivityDate_CreationDate', 'Diff_LastActivityDate_Today','Description_Length', 'Bool_Description', 'Bool_Subtitle', 'TotalDownloads',\n",
    "#     'TotalViews', 'TotalVotes']], diag_kind='kde')\n",
    "# train_dataset.describe().transpose()\n",
    "# plt.show()"
   ]
  },
  {
   "cell_type": "markdown",
   "id": "7715e4c3",
   "metadata": {},
   "source": [
    "See the different ranges of features"
   ]
  },
  {
   "cell_type": "code",
   "execution_count": 66,
   "id": "2f42d831",
   "metadata": {
    "scrolled": false
   },
   "outputs": [
    {
     "data": {
      "text/html": [
       "<div>\n",
       "<style scoped>\n",
       "    .dataframe tbody tr th:only-of-type {\n",
       "        vertical-align: middle;\n",
       "    }\n",
       "\n",
       "    .dataframe tbody tr th {\n",
       "        vertical-align: top;\n",
       "    }\n",
       "\n",
       "    .dataframe thead th {\n",
       "        text-align: right;\n",
       "    }\n",
       "</style>\n",
       "<table border=\"1\" class=\"dataframe\">\n",
       "  <thead>\n",
       "    <tr style=\"text-align: right;\">\n",
       "      <th></th>\n",
       "      <th>mean</th>\n",
       "      <th>std</th>\n",
       "    </tr>\n",
       "  </thead>\n",
       "  <tbody>\n",
       "    <tr>\n",
       "      <th>Diff_LastActivityDate_CreationDate</th>\n",
       "      <td>4.572001</td>\n",
       "      <td>50.013455</td>\n",
       "    </tr>\n",
       "    <tr>\n",
       "      <th>Diff_LastActivityDate_Today</th>\n",
       "      <td>851.378716</td>\n",
       "      <td>496.402082</td>\n",
       "    </tr>\n",
       "    <tr>\n",
       "      <th>Description_Length</th>\n",
       "      <td>713.189294</td>\n",
       "      <td>1388.689480</td>\n",
       "    </tr>\n",
       "    <tr>\n",
       "      <th>Bool_Description</th>\n",
       "      <td>0.507519</td>\n",
       "      <td>0.499944</td>\n",
       "    </tr>\n",
       "    <tr>\n",
       "      <th>Bool_Subtitle</th>\n",
       "      <td>0.582885</td>\n",
       "      <td>0.493083</td>\n",
       "    </tr>\n",
       "    <tr>\n",
       "      <th>TotalDownloads</th>\n",
       "      <td>27596.152314</td>\n",
       "      <td>74929.065592</td>\n",
       "    </tr>\n",
       "    <tr>\n",
       "      <th>TotalViews</th>\n",
       "      <td>22877.136151</td>\n",
       "      <td>106507.531690</td>\n",
       "    </tr>\n",
       "    <tr>\n",
       "      <th>TotalVotes</th>\n",
       "      <td>26.101321</td>\n",
       "      <td>211.430531</td>\n",
       "    </tr>\n",
       "  </tbody>\n",
       "</table>\n",
       "</div>"
      ],
      "text/plain": [
       "                                            mean            std\n",
       "Diff_LastActivityDate_CreationDate      4.572001      50.013455\n",
       "Diff_LastActivityDate_Today           851.378716     496.402082\n",
       "Description_Length                    713.189294    1388.689480\n",
       "Bool_Description                        0.507519       0.499944\n",
       "Bool_Subtitle                           0.582885       0.493083\n",
       "TotalDownloads                      27596.152314   74929.065592\n",
       "TotalViews                          22877.136151  106507.531690\n",
       "TotalVotes                             26.101321     211.430531"
      ]
     },
     "execution_count": 66,
     "metadata": {},
     "output_type": "execute_result"
    }
   ],
   "source": [
    "train_dataset.describe().transpose()[['mean', 'std']]"
   ]
  },
  {
   "cell_type": "markdown",
   "id": "d5e7acf2",
   "metadata": {},
   "source": [
    "Take a small part of the dataset to test first and see if the model runs"
   ]
  },
  {
   "cell_type": "code",
   "execution_count": 67,
   "id": "01468281",
   "metadata": {
    "scrolled": false
   },
   "outputs": [
    {
     "data": {
      "text/html": [
       "<div>\n",
       "<style scoped>\n",
       "    .dataframe tbody tr th:only-of-type {\n",
       "        vertical-align: middle;\n",
       "    }\n",
       "\n",
       "    .dataframe tbody tr th {\n",
       "        vertical-align: top;\n",
       "    }\n",
       "\n",
       "    .dataframe thead th {\n",
       "        text-align: right;\n",
       "    }\n",
       "</style>\n",
       "<table border=\"1\" class=\"dataframe\">\n",
       "  <thead>\n",
       "    <tr style=\"text-align: right;\">\n",
       "      <th></th>\n",
       "      <th>Diff_LastActivityDate_CreationDate</th>\n",
       "      <th>Diff_LastActivityDate_Today</th>\n",
       "      <th>Description_Length</th>\n",
       "      <th>Bool_Description</th>\n",
       "      <th>Bool_Subtitle</th>\n",
       "      <th>TotalVotes</th>\n",
       "    </tr>\n",
       "  </thead>\n",
       "  <tbody>\n",
       "    <tr>\n",
       "      <th>318778</th>\n",
       "      <td>0</td>\n",
       "      <td>695</td>\n",
       "      <td>1450</td>\n",
       "      <td>1</td>\n",
       "      <td>1</td>\n",
       "      <td>19</td>\n",
       "    </tr>\n",
       "    <tr>\n",
       "      <th>529888</th>\n",
       "      <td>0</td>\n",
       "      <td>191</td>\n",
       "      <td>0</td>\n",
       "      <td>0</td>\n",
       "      <td>0</td>\n",
       "      <td>0</td>\n",
       "    </tr>\n",
       "    <tr>\n",
       "      <th>301724</th>\n",
       "      <td>0</td>\n",
       "      <td>789</td>\n",
       "      <td>1830</td>\n",
       "      <td>1</td>\n",
       "      <td>1</td>\n",
       "      <td>18</td>\n",
       "    </tr>\n",
       "    <tr>\n",
       "      <th>557825</th>\n",
       "      <td>0</td>\n",
       "      <td>195</td>\n",
       "      <td>896</td>\n",
       "      <td>1</td>\n",
       "      <td>1</td>\n",
       "      <td>12</td>\n",
       "    </tr>\n",
       "    <tr>\n",
       "      <th>307638</th>\n",
       "      <td>0</td>\n",
       "      <td>1372</td>\n",
       "      <td>858</td>\n",
       "      <td>1</td>\n",
       "      <td>1</td>\n",
       "      <td>0</td>\n",
       "    </tr>\n",
       "  </tbody>\n",
       "</table>\n",
       "</div>"
      ],
      "text/plain": [
       "        Diff_LastActivityDate_CreationDate  Diff_LastActivityDate_Today  \\\n",
       "318778                                   0                          695   \n",
       "529888                                   0                          191   \n",
       "301724                                   0                          789   \n",
       "557825                                   0                          195   \n",
       "307638                                   0                         1372   \n",
       "\n",
       "        Description_Length  Bool_Description  Bool_Subtitle  TotalVotes  \n",
       "318778                1450                 1              1          19  \n",
       "529888                   0                 0              0           0  \n",
       "301724                1830                 1              1          18  \n",
       "557825                 896                 1              1          12  \n",
       "307638                 858                 1              1           0  "
      ]
     },
     "execution_count": 67,
     "metadata": {},
     "output_type": "execute_result"
    }
   ],
   "source": [
    "#train_dataset = train_dataset.sample(10000)\n",
    "#test_dataset = test_dataset.sample(10000)\n",
    "\n",
    "train_dataset.tail()\n",
    "train_dataset_without_usage.tail()"
   ]
  },
  {
   "cell_type": "markdown",
   "id": "51fc817f",
   "metadata": {},
   "source": [
    "Splitting features from labels\n",
    "\n",
    "Separate the target value—the \"label\"—from the features.\n",
    "\n",
    "This label is the value that the model will train to predict."
   ]
  },
  {
   "cell_type": "code",
   "execution_count": 68,
   "id": "9e304de6",
   "metadata": {
    "scrolled": false
   },
   "outputs": [],
   "source": [
    "train_features = train_dataset.copy()\n",
    "test_features = test_dataset.copy()\n",
    "\n",
    "train_labels = train_features.pop('TotalVotes')\n",
    "test_labels = test_features.pop('TotalVotes')"
   ]
  },
  {
   "cell_type": "code",
   "execution_count": 69,
   "id": "a5d9d8a2",
   "metadata": {},
   "outputs": [],
   "source": [
    "train_features_without_usage = train_dataset_without_usage.copy()\n",
    "test_features_without_usage = test_dataset_without_usage.copy()\n",
    "\n",
    "train_labels_without_usage = train_features_without_usage.pop('TotalVotes')\n",
    "test_labels_without_usage = test_features_without_usage.pop('TotalVotes')"
   ]
  },
  {
   "cell_type": "code",
   "execution_count": 70,
   "id": "47ea9eee",
   "metadata": {},
   "outputs": [
    {
     "name": "stdout",
     "output_type": "stream",
     "text": [
      "Stored 'kaggle_datasets_versions_users_data' (DataFrame)\n"
     ]
    }
   ],
   "source": [
    "%store kaggle_datasets_versions_users_data"
   ]
  },
  {
   "cell_type": "code",
   "execution_count": 71,
   "id": "d54c34cd",
   "metadata": {},
   "outputs": [
    {
     "name": "stdout",
     "output_type": "stream",
     "text": [
      "Stored 'train_features' (DataFrame)\n",
      "Stored 'test_features' (DataFrame)\n",
      "Stored 'train_labels' (Series)\n",
      "Stored 'test_labels' (Series)\n"
     ]
    }
   ],
   "source": [
    "%store train_features\n",
    "%store test_features\n",
    "\n",
    "%store train_labels\n",
    "%store test_labels"
   ]
  },
  {
   "cell_type": "code",
   "execution_count": 72,
   "id": "6b4efd56",
   "metadata": {},
   "outputs": [
    {
     "name": "stdout",
     "output_type": "stream",
     "text": [
      "Stored 'train_features_without_usage' (DataFrame)\n",
      "Stored 'test_features_without_usage' (DataFrame)\n",
      "Stored 'train_labels_without_usage' (Series)\n",
      "Stored 'test_labels_without_usage' (Series)\n"
     ]
    }
   ],
   "source": [
    "%store train_features_without_usage\n",
    "%store test_features_without_usage\n",
    "\n",
    "%store train_labels_without_usage\n",
    "%store test_labels_without_usage"
   ]
  },
  {
   "cell_type": "code",
   "execution_count": null,
   "id": "7ebb9e48",
   "metadata": {},
   "outputs": [],
   "source": []
  },
  {
   "cell_type": "code",
   "execution_count": null,
   "id": "c67c4629",
   "metadata": {},
   "outputs": [],
   "source": []
  }
 ],
 "metadata": {
  "kernelspec": {
   "display_name": "Python 3 (ipykernel)",
   "language": "python",
   "name": "python3"
  },
  "language_info": {
   "codemirror_mode": {
    "name": "ipython",
    "version": 3
   },
   "file_extension": ".py",
   "mimetype": "text/x-python",
   "name": "python",
   "nbconvert_exporter": "python",
   "pygments_lexer": "ipython3",
   "version": "3.9.5"
  }
 },
 "nbformat": 4,
 "nbformat_minor": 5
}
