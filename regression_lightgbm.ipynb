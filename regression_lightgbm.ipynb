{
 "cells": [
  {
   "cell_type": "code",
   "execution_count": 4,
   "id": "93fedb2b",
   "metadata": {},
   "outputs": [],
   "source": [
    "import pandas as pd\n",
    "import matplotlib.pyplot as plt\n",
    "from matplotlib import pyplot\n",
    "%matplotlib inline\n",
    "\n",
    "import numpy as np\n",
    "import seaborn as sns\n",
    "\n",
    "import shap as shap  # Visualizing tool\n",
    "from scipy.stats import norm\n",
    "from scipy import stats\n",
    "\n",
    "from sklearn.model_selection import train_test_split\n",
    "from sklearn.datasets import make_classification\n",
    "from sklearn.metrics import mean_squared_error\n",
    "\n",
    "from numpy import mean\n",
    "from numpy import std\n",
    "import lightgbm as lgb\n",
    "from sklearn import metrics\n",
    "from sklearn.preprocessing import LabelEncoder\n",
    "from sklearn.model_selection import cross_val_score\n",
    "from sklearn.model_selection import RepeatedKFold\n",
    "from lightgbm import LGBMRegressor"
   ]
  },
  {
   "cell_type": "code",
   "execution_count": 5,
   "id": "9d4af2a0",
   "metadata": {},
   "outputs": [],
   "source": [
    "%store -r train_features\n",
    "%store -r test_features\n",
    "\n",
    "%store -r train_labels\n",
    "%store -r test_labels"
   ]
  },
  {
   "cell_type": "markdown",
   "id": "cff05169",
   "metadata": {},
   "source": [
    "# 6. LightGBM model\n",
    "\n",
    "To define the input and output feature\n",
    "\n",
    "Get the dataset\n"
   ]
  },
  {
   "cell_type": "code",
   "execution_count": 59,
   "id": "9d966441",
   "metadata": {
    "scrolled": false
   },
   "outputs": [],
   "source": [
    "def get_dataset():\n",
    "    #Y = kaggle_datasets_versions_users_data['TotalVotes']\n",
    "    #X = kaggle_datasets_versions_users_data[\n",
    "    #    ['Diff_LastActivityDate_CreationDate', 'Diff_LastActivityDate_Today','Description_Length', 'Bool_Description', 'Bool_Subtitle', 'TotalDownloads',\n",
    "    # 'TotalViews']].copy()\n",
    "    #X = X.sample(10000)\n",
    "    #Y = Y.sample(10000)\n",
    "    # print(X.shape, Y.shape)\n",
    "    \n",
    "    # train and test split\n",
    "    # x_train, x_test, y_train, y_test = train_test_split(X, Y, test_size=0.2, random_state=42)\n",
    "    # return x_train, x_test, y_train, y_test\n",
    "    \n",
    "    return X, Y"
   ]
  },
  {
   "cell_type": "markdown",
   "id": "eac67b95",
   "metadata": {},
   "source": [
    "## LightGBM Parameter Tuning\n",
    "\n",
    "Get a list of models to evaluate\n",
    "\n",
    "### Explore Number of Trees"
   ]
  },
  {
   "cell_type": "code",
   "execution_count": 283,
   "id": "5c757520",
   "metadata": {
    "scrolled": false
   },
   "outputs": [],
   "source": [
    "def get_models_number_of_trees():\n",
    "    models = dict()\n",
    "    trees = [10, 50, 100, 500, 1000, 5000]\n",
    "    for n in trees:\n",
    "        models[str(n)] = LGBMRegressor(n_estimators=n)\n",
    "    return models"
   ]
  },
  {
   "cell_type": "markdown",
   "id": "bafd2606",
   "metadata": {},
   "source": [
    "Get a list of models to evaluate\n",
    "\n",
    "### Explore Tree Depth"
   ]
  },
  {
   "cell_type": "code",
   "execution_count": 284,
   "id": "188fa075",
   "metadata": {
    "scrolled": false
   },
   "outputs": [],
   "source": [
    "def get_models_tree_depth():\n",
    "    models = dict()\n",
    "    for i in range(1, 11):\n",
    "        models[str(i)] = LGBMRegressor(max_depth=i, num_leaves=2 ** i)\n",
    "    return models"
   ]
  },
  {
   "cell_type": "markdown",
   "id": "191a9011",
   "metadata": {},
   "source": [
    "Get a list of models to evaluate\n",
    "\n",
    "### Explore learning rate"
   ]
  },
  {
   "cell_type": "code",
   "execution_count": 285,
   "id": "2396d1b2",
   "metadata": {
    "scrolled": false
   },
   "outputs": [],
   "source": [
    "def get_models_learning_rate():\n",
    "    models = dict()\n",
    "    rates = [0.0001, 0.001, 0.01, 0.1, 1.0]\n",
    "    for r in rates:\n",
    "        key = '%.4f' % r\n",
    "        models[key] = LGBMRegressor(learning_rate=r)\n",
    "    return models"
   ]
  },
  {
   "cell_type": "markdown",
   "id": "c300cec1",
   "metadata": {},
   "source": [
    "## Explore Boosting Techniques\n",
    "\n",
    "Explore lightgbm boosting type effect on performance"
   ]
  },
  {
   "cell_type": "code",
   "execution_count": 296,
   "id": "c1bcfbf5",
   "metadata": {
    "scrolled": false
   },
   "outputs": [],
   "source": [
    "def get_models_boosting_techniques():\n",
    "    models = dict()\n",
    "    types = ['gbdt', 'dart', 'goss']\n",
    "    for t in types:\n",
    "        models[t] = LGBMRegressor(boosting_type=t)\n",
    "    return models"
   ]
  },
  {
   "cell_type": "markdown",
   "id": "debb2522",
   "metadata": {},
   "source": [
    "Evaluate a give model using cross-validation"
   ]
  },
  {
   "cell_type": "code",
   "execution_count": 7,
   "id": "e67ae5c9",
   "metadata": {
    "scrolled": false
   },
   "outputs": [],
   "source": [
    "def evaluate_model(model):\n",
    "    cv = RepeatedKFold(n_splits=10, n_repeats=3, random_state=1)\n",
    "    scores = cross_val_score(model, train_features, train_labels, scoring='neg_mean_absolute_error', cv=cv, n_jobs=-1)\n",
    "    # scores = cross_val_score(model, X, Y, scoring='neg_mean_absolute_error', cv=cv, n_jobs=-1, error_score='raise')     \n",
    "    return scores"
   ]
  },
  {
   "cell_type": "code",
   "execution_count": null,
   "id": "d093645b",
   "metadata": {
    "scrolled": false
   },
   "outputs": [],
   "source": []
  },
  {
   "cell_type": "markdown",
   "id": "62f36e2f",
   "metadata": {},
   "source": [
    "## LGBM Fitting\n",
    "\n",
    "Train and test split"
   ]
  },
  {
   "cell_type": "code",
   "execution_count": 10,
   "id": "e9ee1e8e",
   "metadata": {
    "scrolled": false
   },
   "outputs": [],
   "source": [
    "# defining parameters \n",
    "params = {\n",
    "    'task': 'train', \n",
    "    'boosting': 'gbdt',\n",
    "    'objective': 'regression',\n",
    "    'num_leaves': 10,\n",
    "    'learnnig_rate': 0.05,\n",
    "    'metric': {'l2','l1'},\n",
    "    'verbose': -1\n",
    "}"
   ]
  },
  {
   "cell_type": "code",
   "execution_count": 11,
   "id": "881a2fdb",
   "metadata": {
    "scrolled": false
   },
   "outputs": [],
   "source": [
    "# laoding data\n",
    "lgb_train = lgb.Dataset(train_features, train_labels)\n",
    "lgb_eval = lgb.Dataset(test_features, test_labels, reference=lgb_train)"
   ]
  },
  {
   "cell_type": "code",
   "execution_count": 12,
   "id": "e6450c8c",
   "metadata": {
    "scrolled": true
   },
   "outputs": [
    {
     "name": "stderr",
     "output_type": "stream",
     "text": [
      "'early_stopping_rounds' argument is deprecated and will be removed in a future release of LightGBM. Pass 'early_stopping()' callback via 'callbacks' argument instead.\n"
     ]
    },
    {
     "name": "stdout",
     "output_type": "stream",
     "text": [
      "[LightGBM] [Warning] Unknown parameter: learnnig_rate\n",
      "[1]\tvalid_0's l2: 34571.1\tvalid_0's l1: 34.1016\n",
      "Training until validation scores don't improve for 30 rounds\n",
      "[2]\tvalid_0's l2: 28495.3\tvalid_0's l1: 31.3463\n",
      "[3]\tvalid_0's l2: 23547.1\tvalid_0's l1: 28.9264\n",
      "[4]\tvalid_0's l2: 19538.2\tvalid_0's l1: 26.9521\n",
      "[5]\tvalid_0's l2: 16279.9\tvalid_0's l1: 25.2487\n",
      "[6]\tvalid_0's l2: 13604\tvalid_0's l1: 23.6639\n",
      "[7]\tvalid_0's l2: 11373.5\tvalid_0's l1: 22.3872\n",
      "[8]\tvalid_0's l2: 9605.53\tvalid_0's l1: 21.2131\n",
      "[9]\tvalid_0's l2: 8159.54\tvalid_0's l1: 19.4247\n",
      "[10]\tvalid_0's l2: 6911.18\tvalid_0's l1: 18.5477\n",
      "[11]\tvalid_0's l2: 5942.45\tvalid_0's l1: 17.6007\n",
      "[12]\tvalid_0's l2: 5137.74\tvalid_0's l1: 16.2864\n",
      "[13]\tvalid_0's l2: 4493.26\tvalid_0's l1: 15.1457\n",
      "[14]\tvalid_0's l2: 3962.56\tvalid_0's l1: 14.1564\n",
      "[15]\tvalid_0's l2: 3515.73\tvalid_0's l1: 13.3893\n",
      "[16]\tvalid_0's l2: 3186.35\tvalid_0's l1: 12.6264\n",
      "[17]\tvalid_0's l2: 2834.88\tvalid_0's l1: 12.2641\n",
      "[18]\tvalid_0's l2: 2614.67\tvalid_0's l1: 11.6712\n",
      "[19]\tvalid_0's l2: 2351.13\tvalid_0's l1: 11.2751\n",
      "[20]\tvalid_0's l2: 2171.45\tvalid_0's l1: 10.7696\n",
      "[21]\tvalid_0's l2: 2029.68\tvalid_0's l1: 10.2713\n",
      "[22]\tvalid_0's l2: 1878.77\tvalid_0's l1: 9.98633\n",
      "[23]\tvalid_0's l2: 1769.85\tvalid_0's l1: 9.63594\n",
      "[24]\tvalid_0's l2: 1702.28\tvalid_0's l1: 9.27682\n",
      "[25]\tvalid_0's l2: 1636.11\tvalid_0's l1: 8.99586\n",
      "[26]\tvalid_0's l2: 1589.67\tvalid_0's l1: 8.7248\n",
      "[27]\tvalid_0's l2: 1532.18\tvalid_0's l1: 8.57953\n",
      "[28]\tvalid_0's l2: 1487.2\tvalid_0's l1: 8.35668\n",
      "[29]\tvalid_0's l2: 1405.85\tvalid_0's l1: 8.14184\n",
      "[30]\tvalid_0's l2: 1320.37\tvalid_0's l1: 7.95217\n",
      "[31]\tvalid_0's l2: 1299.92\tvalid_0's l1: 7.74505\n",
      "[32]\tvalid_0's l2: 1278.06\tvalid_0's l1: 7.5771\n",
      "[33]\tvalid_0's l2: 1227.89\tvalid_0's l1: 7.37635\n",
      "[34]\tvalid_0's l2: 1207.65\tvalid_0's l1: 7.22721\n",
      "[35]\tvalid_0's l2: 1127.08\tvalid_0's l1: 7.12278\n",
      "[36]\tvalid_0's l2: 1119.42\tvalid_0's l1: 7.00424\n",
      "[37]\tvalid_0's l2: 1061.06\tvalid_0's l1: 6.92229\n",
      "[38]\tvalid_0's l2: 1053.48\tvalid_0's l1: 6.82444\n",
      "[39]\tvalid_0's l2: 1038.26\tvalid_0's l1: 6.78793\n",
      "[40]\tvalid_0's l2: 1025.38\tvalid_0's l1: 6.75557\n",
      "[41]\tvalid_0's l2: 1015.39\tvalid_0's l1: 6.71821\n",
      "[42]\tvalid_0's l2: 970.688\tvalid_0's l1: 6.60024\n",
      "[43]\tvalid_0's l2: 950.972\tvalid_0's l1: 6.45885\n",
      "[44]\tvalid_0's l2: 943.872\tvalid_0's l1: 6.39838\n",
      "[45]\tvalid_0's l2: 940.548\tvalid_0's l1: 6.34019\n",
      "[46]\tvalid_0's l2: 903.876\tvalid_0's l1: 6.26669\n",
      "[47]\tvalid_0's l2: 900.455\tvalid_0's l1: 6.20652\n",
      "[48]\tvalid_0's l2: 894.392\tvalid_0's l1: 6.16258\n",
      "[49]\tvalid_0's l2: 884.42\tvalid_0's l1: 6.07086\n",
      "[50]\tvalid_0's l2: 846.745\tvalid_0's l1: 5.982\n",
      "[51]\tvalid_0's l2: 819.177\tvalid_0's l1: 5.88223\n",
      "[52]\tvalid_0's l2: 814.914\tvalid_0's l1: 5.85005\n",
      "[53]\tvalid_0's l2: 807.904\tvalid_0's l1: 5.75001\n",
      "[54]\tvalid_0's l2: 789.367\tvalid_0's l1: 5.69217\n",
      "[55]\tvalid_0's l2: 780.456\tvalid_0's l1: 5.65507\n",
      "[56]\tvalid_0's l2: 778.061\tvalid_0's l1: 5.59505\n",
      "[57]\tvalid_0's l2: 772.816\tvalid_0's l1: 5.58025\n",
      "[58]\tvalid_0's l2: 769.204\tvalid_0's l1: 5.57016\n",
      "[59]\tvalid_0's l2: 749\tvalid_0's l1: 5.50746\n",
      "[60]\tvalid_0's l2: 742.321\tvalid_0's l1: 5.42884\n",
      "[61]\tvalid_0's l2: 734.807\tvalid_0's l1: 5.39833\n",
      "[62]\tvalid_0's l2: 717.567\tvalid_0's l1: 5.33532\n",
      "[63]\tvalid_0's l2: 713.773\tvalid_0's l1: 5.31691\n",
      "[64]\tvalid_0's l2: 710.565\tvalid_0's l1: 5.28832\n",
      "[65]\tvalid_0's l2: 705.798\tvalid_0's l1: 5.2676\n",
      "[66]\tvalid_0's l2: 699.907\tvalid_0's l1: 5.23611\n",
      "[67]\tvalid_0's l2: 693.457\tvalid_0's l1: 5.1711\n",
      "[68]\tvalid_0's l2: 689.126\tvalid_0's l1: 5.15491\n",
      "[69]\tvalid_0's l2: 682.574\tvalid_0's l1: 5.13447\n",
      "[70]\tvalid_0's l2: 680.074\tvalid_0's l1: 5.10667\n",
      "[71]\tvalid_0's l2: 678.971\tvalid_0's l1: 5.09769\n",
      "[72]\tvalid_0's l2: 674.135\tvalid_0's l1: 5.07803\n",
      "[73]\tvalid_0's l2: 662.216\tvalid_0's l1: 5.01041\n",
      "[74]\tvalid_0's l2: 659.766\tvalid_0's l1: 4.96816\n",
      "[75]\tvalid_0's l2: 657.354\tvalid_0's l1: 4.9562\n",
      "[76]\tvalid_0's l2: 654.807\tvalid_0's l1: 4.94383\n",
      "[77]\tvalid_0's l2: 653.35\tvalid_0's l1: 4.92545\n",
      "[78]\tvalid_0's l2: 652.746\tvalid_0's l1: 4.91701\n",
      "[79]\tvalid_0's l2: 647.601\tvalid_0's l1: 4.89076\n",
      "[80]\tvalid_0's l2: 642.421\tvalid_0's l1: 4.82544\n",
      "[81]\tvalid_0's l2: 634.331\tvalid_0's l1: 4.82011\n",
      "[82]\tvalid_0's l2: 634.113\tvalid_0's l1: 4.81625\n",
      "[83]\tvalid_0's l2: 626.105\tvalid_0's l1: 4.77109\n",
      "[84]\tvalid_0's l2: 623.084\tvalid_0's l1: 4.76622\n",
      "[85]\tvalid_0's l2: 622.236\tvalid_0's l1: 4.76222\n",
      "[86]\tvalid_0's l2: 619.555\tvalid_0's l1: 4.7296\n",
      "[87]\tvalid_0's l2: 616.696\tvalid_0's l1: 4.72719\n",
      "[88]\tvalid_0's l2: 615.398\tvalid_0's l1: 4.71811\n",
      "[89]\tvalid_0's l2: 610.982\tvalid_0's l1: 4.67114\n",
      "[90]\tvalid_0's l2: 603.421\tvalid_0's l1: 4.63803\n",
      "[91]\tvalid_0's l2: 601.554\tvalid_0's l1: 4.61208\n",
      "[92]\tvalid_0's l2: 599.606\tvalid_0's l1: 4.60257\n",
      "[93]\tvalid_0's l2: 598.686\tvalid_0's l1: 4.5925\n",
      "[94]\tvalid_0's l2: 596.937\tvalid_0's l1: 4.58136\n",
      "[95]\tvalid_0's l2: 596.274\tvalid_0's l1: 4.56316\n",
      "[96]\tvalid_0's l2: 593.201\tvalid_0's l1: 4.56246\n",
      "[97]\tvalid_0's l2: 590.437\tvalid_0's l1: 4.55392\n",
      "[98]\tvalid_0's l2: 588.524\tvalid_0's l1: 4.52554\n",
      "[99]\tvalid_0's l2: 583.668\tvalid_0's l1: 4.50117\n",
      "[100]\tvalid_0's l2: 580.633\tvalid_0's l1: 4.49783\n",
      "Did not meet early stopping. Best iteration is:\n",
      "[100]\tvalid_0's l2: 580.633\tvalid_0's l1: 4.49783\n"
     ]
    }
   ],
   "source": [
    "# fitting the model\n",
    "LGBMRegmodel = lgb.train(params,\n",
    "                 train_set=lgb_train,\n",
    "                 valid_sets=lgb_eval,\n",
    "                 early_stopping_rounds=30)"
   ]
  },
  {
   "cell_type": "code",
   "execution_count": 15,
   "id": "b22d9eff",
   "metadata": {
    "scrolled": false
   },
   "outputs": [],
   "source": [
    "cv = RepeatedKFold(n_splits=10, n_repeats=3, random_state=1)\n",
    "n_scores = cross_val_score(LGBMRegmodel, train_features, train_labels, scoring='neg_mean_absolute_error', cv=cv, n_jobs=-1, error_score='raise')"
   ]
  },
  {
   "cell_type": "markdown",
   "id": "5f401f27",
   "metadata": {},
   "source": [
    "Report performance"
   ]
  },
  {
   "cell_type": "code",
   "execution_count": 16,
   "id": "df76f939",
   "metadata": {
    "scrolled": false
   },
   "outputs": [
    {
     "name": "stdout",
     "output_type": "stream",
     "text": [
      "MAE: -3.109 (0.149)\n"
     ]
    }
   ],
   "source": [
    "print('MAE: %.3f (%.3f)' % (mean(n_scores), std(n_scores)))"
   ]
  },
  {
   "cell_type": "markdown",
   "id": "59b6dc66",
   "metadata": {},
   "source": [
    "Fit the model on the whole dataset"
   ]
  },
  {
   "cell_type": "code",
   "execution_count": 19,
   "id": "d79584c1",
   "metadata": {
    "scrolled": false
   },
   "outputs": [
    {
     "name": "stdout",
     "output_type": "stream",
     "text": [
      "[20]\ttraining's l1: 7.48112\ttraining's l2: 1980.75\tvalid_0's l1: 7.44264\tvalid_0's l2: 1156.27\n",
      "[40]\ttraining's l1: 4.01506\ttraining's l2: 1049.99\tvalid_0's l1: 4.04315\tvalid_0's l2: 517.566\n",
      "[60]\ttraining's l1: 3.35391\ttraining's l2: 863.941\tvalid_0's l1: 3.40168\tvalid_0's l2: 456.481\n",
      "[80]\ttraining's l1: 3.12792\ttraining's l2: 769.34\tvalid_0's l1: 3.1856\tvalid_0's l2: 423.456\n",
      "[100]\ttraining's l1: 2.96952\ttraining's l2: 685.534\tvalid_0's l1: 3.0323\tvalid_0's l2: 406.208\n"
     ]
    },
    {
     "data": {
      "text/html": [
       "<style>#sk-container-id-2 {color: black;background-color: white;}#sk-container-id-2 pre{padding: 0;}#sk-container-id-2 div.sk-toggleable {background-color: white;}#sk-container-id-2 label.sk-toggleable__label {cursor: pointer;display: block;width: 100%;margin-bottom: 0;padding: 0.3em;box-sizing: border-box;text-align: center;}#sk-container-id-2 label.sk-toggleable__label-arrow:before {content: \"▸\";float: left;margin-right: 0.25em;color: #696969;}#sk-container-id-2 label.sk-toggleable__label-arrow:hover:before {color: black;}#sk-container-id-2 div.sk-estimator:hover label.sk-toggleable__label-arrow:before {color: black;}#sk-container-id-2 div.sk-toggleable__content {max-height: 0;max-width: 0;overflow: hidden;text-align: left;background-color: #f0f8ff;}#sk-container-id-2 div.sk-toggleable__content pre {margin: 0.2em;color: black;border-radius: 0.25em;background-color: #f0f8ff;}#sk-container-id-2 input.sk-toggleable__control:checked~div.sk-toggleable__content {max-height: 200px;max-width: 100%;overflow: auto;}#sk-container-id-2 input.sk-toggleable__control:checked~label.sk-toggleable__label-arrow:before {content: \"▾\";}#sk-container-id-2 div.sk-estimator input.sk-toggleable__control:checked~label.sk-toggleable__label {background-color: #d4ebff;}#sk-container-id-2 div.sk-label input.sk-toggleable__control:checked~label.sk-toggleable__label {background-color: #d4ebff;}#sk-container-id-2 input.sk-hidden--visually {border: 0;clip: rect(1px 1px 1px 1px);clip: rect(1px, 1px, 1px, 1px);height: 1px;margin: -1px;overflow: hidden;padding: 0;position: absolute;width: 1px;}#sk-container-id-2 div.sk-estimator {font-family: monospace;background-color: #f0f8ff;border: 1px dotted black;border-radius: 0.25em;box-sizing: border-box;margin-bottom: 0.5em;}#sk-container-id-2 div.sk-estimator:hover {background-color: #d4ebff;}#sk-container-id-2 div.sk-parallel-item::after {content: \"\";width: 100%;border-bottom: 1px solid gray;flex-grow: 1;}#sk-container-id-2 div.sk-label:hover label.sk-toggleable__label {background-color: #d4ebff;}#sk-container-id-2 div.sk-serial::before {content: \"\";position: absolute;border-left: 1px solid gray;box-sizing: border-box;top: 0;bottom: 0;left: 50%;z-index: 0;}#sk-container-id-2 div.sk-serial {display: flex;flex-direction: column;align-items: center;background-color: white;padding-right: 0.2em;padding-left: 0.2em;position: relative;}#sk-container-id-2 div.sk-item {position: relative;z-index: 1;}#sk-container-id-2 div.sk-parallel {display: flex;align-items: stretch;justify-content: center;background-color: white;position: relative;}#sk-container-id-2 div.sk-item::before, #sk-container-id-2 div.sk-parallel-item::before {content: \"\";position: absolute;border-left: 1px solid gray;box-sizing: border-box;top: 0;bottom: 0;left: 50%;z-index: -1;}#sk-container-id-2 div.sk-parallel-item {display: flex;flex-direction: column;z-index: 1;position: relative;background-color: white;}#sk-container-id-2 div.sk-parallel-item:first-child::after {align-self: flex-end;width: 50%;}#sk-container-id-2 div.sk-parallel-item:last-child::after {align-self: flex-start;width: 50%;}#sk-container-id-2 div.sk-parallel-item:only-child::after {width: 0;}#sk-container-id-2 div.sk-dashed-wrapped {border: 1px dashed gray;margin: 0 0.4em 0.5em 0.4em;box-sizing: border-box;padding-bottom: 0.4em;background-color: white;}#sk-container-id-2 div.sk-label label {font-family: monospace;font-weight: bold;display: inline-block;line-height: 1.2em;}#sk-container-id-2 div.sk-label-container {text-align: center;}#sk-container-id-2 div.sk-container {/* jupyter's `normalize.less` sets `[hidden] { display: none; }` but bootstrap.min.css set `[hidden] { display: none !important; }` so we also need the `!important` here to be able to override the default hidden behavior on the sphinx rendered scikit-learn.org. See: https://github.com/scikit-learn/scikit-learn/issues/21755 */display: inline-block !important;position: relative;}#sk-container-id-2 div.sk-text-repr-fallback {display: none;}</style><div id=\"sk-container-id-2\" class=\"sk-top-container\"><div class=\"sk-text-repr-fallback\"><pre>LGBMRegressor()</pre><b>In a Jupyter environment, please rerun this cell to show the HTML representation or trust the notebook. <br />On GitHub, the HTML representation is unable to render, please try loading this page with nbviewer.org.</b></div><div class=\"sk-container\" hidden><div class=\"sk-item\"><div class=\"sk-estimator sk-toggleable\"><input class=\"sk-toggleable__control sk-hidden--visually\" id=\"sk-estimator-id-2\" type=\"checkbox\" checked><label for=\"sk-estimator-id-2\" class=\"sk-toggleable__label sk-toggleable__label-arrow\">LGBMRegressor</label><div class=\"sk-toggleable__content\"><pre>LGBMRegressor()</pre></div></div></div></div></div>"
      ],
      "text/plain": [
       "LGBMRegressor()"
      ]
     },
     "execution_count": 19,
     "metadata": {},
     "output_type": "execute_result"
    }
   ],
   "source": [
    "LGBMRegmodel.fit(train_features, train_labels, eval_set=[(test_features, test_labels), (train_features, train_labels)],\n",
    "          verbose=20, eval_metric='mean_absolute_error')"
   ]
  },
  {
   "cell_type": "code",
   "execution_count": null,
   "id": "d266e145",
   "metadata": {},
   "outputs": [],
   "source": []
  },
  {
   "cell_type": "code",
   "execution_count": null,
   "id": "74326f15",
   "metadata": {},
   "outputs": [],
   "source": []
  },
  {
   "cell_type": "markdown",
   "id": "89b4dc43",
   "metadata": {
    "scrolled": false
   },
   "source": [
    "LGBMRegmodel = LGBMRegressor()"
   ]
  },
  {
   "cell_type": "markdown",
   "id": "d9e29fbf",
   "metadata": {},
   "source": [
    "Evaluate the model"
   ]
  },
  {
   "cell_type": "markdown",
   "id": "0c8197c4",
   "metadata": {
    "scrolled": false
   },
   "source": [
    "SEARCH_PARAMS = {'learning_rate': 0.4,\n",
    "                 'max_depth': 15,\n",
    "                 'num_leaves': 10,\n",
    "                 'feature_fraction': 0.8,\n",
    "                 'subsample': 0.2}"
   ]
  },
  {
   "cell_type": "markdown",
   "id": "9c26e15a",
   "metadata": {
    "scrolled": false
   },
   "source": [
    "lgb_train = lgb.Dataset(x_train, y_train)\n",
    "lgb_test = lgb.Dataset(x_test, y_test, reference=lgb_train)"
   ]
  },
  {
   "cell_type": "markdown",
   "id": "03cab3aa",
   "metadata": {
    "scrolled": false
   },
   "source": [
    "params = {'objective': 'regression',\n",
    "         'metric': {'l2','l1'},\n",
    "         'boosting':'gbdt',\n",
    "         'early_stopping_rounds':30,\n",
    "         **SEARCH_PARAMS}\n",
    "\n",
    "model = lgb.train(params, train_set=lgb_train,\n",
    "                  valid_sets=lgb_test,\n",
    "                  num_boost_round=300)\n",
    "\n",
    "# score = model.best_score['valid']['auc']"
   ]
  },
  {
   "cell_type": "markdown",
   "id": "2f33b139",
   "metadata": {
    "scrolled": true
   },
   "source": [
    "cv = RepeatedKFold(n_splits=10, n_repeats=3, random_state=1)\n",
    "n_scores = cross_val_score(model, X, Y, scoring='neg_mean_absolute_error', cv=cv, n_jobs=-1, error_score='raise')"
   ]
  },
  {
   "cell_type": "markdown",
   "id": "72185a03",
   "metadata": {},
   "source": [
    "Get the models to evaluate"
   ]
  },
  {
   "cell_type": "code",
   "execution_count": 305,
   "id": "f5cd70b7",
   "metadata": {
    "scrolled": false
   },
   "outputs": [],
   "source": [
    "models_NT = get_models_number_of_trees()\n",
    "models_TD = get_models_tree_depth()\n",
    "models_LR = get_models_learning_rate()\n",
    "\n",
    "models_BT = get_models_boosting_techniques()"
   ]
  },
  {
   "cell_type": "markdown",
   "id": "368e52aa",
   "metadata": {},
   "source": [
    "Evaluate the models and store results\n",
    "\n",
    "First for-loop for the number of trees"
   ]
  },
  {
   "cell_type": "code",
   "execution_count": 306,
   "id": "7c0ce5b6",
   "metadata": {
    "scrolled": false
   },
   "outputs": [
    {
     "name": "stdout",
     "output_type": "stream",
     "text": [
      ">10 -50.514 (28.297)\n",
      ">50 -56.716 (27.726)\n",
      ">100 -64.526 (27.380)\n",
      ">500 -86.038 (31.484)\n",
      ">1000 -92.473 (34.618)\n",
      ">5000 -95.199 (36.157)\n"
     ]
    }
   ],
   "source": [
    "results_NT, names_NT = list(), list()\n",
    "\n",
    "for name, model in models_NT.items():\n",
    "    scores = evaluate_model(model)\n",
    "    results_NT.append(scores)\n",
    "    names_NT.append(name)\n",
    "    print('>%s %.3f (%.3f)' % (name, mean(scores), std(scores)))\n"
   ]
  },
  {
   "cell_type": "markdown",
   "id": "329e5956",
   "metadata": {},
   "source": [
    "Plot model performance for comparison\n"
   ]
  },
  {
   "cell_type": "code",
   "execution_count": 307,
   "id": "68c12def",
   "metadata": {
    "scrolled": true
   },
   "outputs": [
    {
     "data": {
      "image/png": "[encoded data removed]",
      "text/plain": [
       "<Figure size 432x288 with 1 Axes>"
      ]
     },
     "metadata": {
      "needs_background": "light"
     },
     "output_type": "display_data"
    }
   ],
   "source": [
    "pyplot.boxplot(results_NT, labels=names_NT, showmeans=True)\n",
    "pyplot.show()"
   ]
  },
  {
   "cell_type": "markdown",
   "id": "7081d284",
   "metadata": {},
   "source": [
    "Second for-loop for the tree depth"
   ]
  },
  {
   "cell_type": "code",
   "execution_count": 308,
   "id": "4f125a82",
   "metadata": {
    "scrolled": false
   },
   "outputs": [
    {
     "name": "stdout",
     "output_type": "stream",
     "text": [
      ">1 -49.551 (28.282)\n",
      ">2 -62.223 (27.056)\n",
      ">3 -61.857 (27.516)\n",
      ">4 -62.136 (27.418)\n",
      ">5 -62.872 (27.011)\n",
      ">6 -63.332 (27.094)\n",
      ">7 -63.446 (27.458)\n",
      ">8 -63.842 (27.300)\n",
      ">9 -64.048 (27.276)\n",
      ">10 -63.955 (27.187)\n"
     ]
    }
   ],
   "source": [
    "results_TD, names_TD = list(), list()\n",
    "\n",
    "for name, model in models_TD.items():\n",
    "    scores = evaluate_model(model)\n",
    "    results_TD.append(scores)\n",
    "    names_TD.append(name)\n",
    "    print('>%s %.3f (%.3f)' % (name, mean(scores), std(scores)))"
   ]
  },
  {
   "cell_type": "markdown",
   "id": "995c99be",
   "metadata": {},
   "source": [
    "Plot model performance for comparison"
   ]
  },
  {
   "cell_type": "code",
   "execution_count": 309,
   "id": "51a942c5",
   "metadata": {
    "scrolled": false
   },
   "outputs": [
    {
     "data": {
      "image/png": "[encoded data removed]",
      "text/plain": [
       "<Figure size 432x288 with 1 Axes>"
      ]
     },
     "metadata": {
      "needs_background": "light"
     },
     "output_type": "display_data"
    }
   ],
   "source": [
    "pyplot.boxplot(results_TD, labels=names_TD, showmeans=True)\n",
    "pyplot.show()"
   ]
  },
  {
   "cell_type": "markdown",
   "id": "8715d43d",
   "metadata": {},
   "source": [
    "Evaluate the models and store results"
   ]
  },
  {
   "cell_type": "code",
   "execution_count": 310,
   "id": "dab2cd3d",
   "metadata": {
    "scrolled": false
   },
   "outputs": [
    {
     "name": "stdout",
     "output_type": "stream",
     "text": [
      ">0.0001 -49.240 (27.970)\n",
      ">0.0010 -49.374 (27.989)\n",
      ">0.0100 -50.497 (28.284)\n",
      ">0.1000 -64.526 (27.380)\n",
      ">1.0000 -99.217 (34.442)\n"
     ]
    }
   ],
   "source": [
    "results_LR, names_LR = list(), list()\n",
    "for name, model in models_LR.items():\n",
    "    scores = evaluate_model(model)\n",
    "    results_LR.append(scores)\n",
    "    names_LR.append(name)\n",
    "    print('>%s %.3f (%.3f)' % (name, mean(scores), std(scores)))"
   ]
  },
  {
   "cell_type": "markdown",
   "id": "2a06c925",
   "metadata": {},
   "source": [
    "Plot model performance for comparison"
   ]
  },
  {
   "cell_type": "code",
   "execution_count": 311,
   "id": "caea1167",
   "metadata": {
    "scrolled": false
   },
   "outputs": [
    {
     "data": {
      "image/png": "[encoded data removed]",
      "text/plain": [
       "<Figure size 432x288 with 1 Axes>"
      ]
     },
     "metadata": {
      "needs_background": "light"
     },
     "output_type": "display_data"
    }
   ],
   "source": [
    "pyplot.boxplot(results_LR, labels=names_LR, showmeans=True)\n",
    "pyplot.show()"
   ]
  },
  {
   "cell_type": "markdown",
   "id": "1206340b",
   "metadata": {},
   "source": [
    "Evaluate the models and store results"
   ]
  },
  {
   "cell_type": "code",
   "execution_count": 315,
   "id": "789d0176",
   "metadata": {
    "scrolled": false
   },
   "outputs": [
    {
     "name": "stdout",
     "output_type": "stream",
     "text": [
      ">gbdt -64.526 (27.380)\n",
      ">dart -52.953 (28.306)\n",
      ">goss -61.521 (27.199)\n"
     ]
    }
   ],
   "source": [
    "results_BT, names_BT = list(), list()\n",
    "for name, model in models_BT.items():\n",
    "    scores = evaluate_model(model)\n",
    "    results_BT.append(scores)\n",
    "    names_BT.append(name)\n",
    "    print('>%s %.3f (%.3f)' % (name, mean(scores), std(scores)))"
   ]
  },
  {
   "cell_type": "markdown",
   "id": "aff13bc7",
   "metadata": {},
   "source": [
    "Plot model performance for comparison\n"
   ]
  },
  {
   "cell_type": "code",
   "execution_count": 316,
   "id": "b034af05",
   "metadata": {
    "scrolled": false
   },
   "outputs": [
    {
     "data": {
      "image/png": "[encoded data removed]",
      "text/plain": [
       "<Figure size 432x288 with 1 Axes>"
      ]
     },
     "metadata": {
      "needs_background": "light"
     },
     "output_type": "display_data"
    }
   ],
   "source": [
    "pyplot.boxplot(results_BT, labels=names_BT, showmeans=True)\n",
    "pyplot.show()"
   ]
  },
  {
   "cell_type": "markdown",
   "id": "adc03682",
   "metadata": {},
   "source": [
    "# NOTES\n",
    "\n",
    "- define new data\n",
    "row = [0.00632,18.00,2.310,0,0.5380,6.5750,65.20,4.0900,1,296.0,15.30,396.90,4.98]\n",
    "new_data = asarray([row])\n",
    "\n",
    "- make a prediction\n",
    "yhat = model.predict(new_data)\n",
    "\n",
    "- summarize prediction\n",
    "print('Predicted: %.3f' % yhat)"
   ]
  },
  {
   "cell_type": "code",
   "execution_count": 181,
   "id": "caeadbe6",
   "metadata": {
    "scrolled": true
   },
   "outputs": [
    {
     "name": "stdout",
     "output_type": "stream",
     "text": [
      "[LightGBM] [Warning] Unknown parameter: learnnig_rae\n",
      "[1]\tvalid_0's l2: 5233.16\tvalid_0's l1: 23.437\n",
      "Training until validation scores don't improve for 30 rounds\n",
      "[2]\tvalid_0's l2: 5255.11\tvalid_0's l1: 23.5156\n",
      "[3]\tvalid_0's l2: 5282.15\tvalid_0's l1: 23.7875\n",
      "[4]\tvalid_0's l2: 5298.58\tvalid_0's l1: 23.8209\n",
      "[5]\tvalid_0's l2: 5329.66\tvalid_0's l1: 24.0082\n",
      "[6]\tvalid_0's l2: 5354.1\tvalid_0's l1: 24.169\n",
      "[7]\tvalid_0's l2: 5366.1\tvalid_0's l1: 24.1856\n",
      "[8]\tvalid_0's l2: 5400.87\tvalid_0's l1: 24.3395\n",
      "[9]\tvalid_0's l2: 5404.82\tvalid_0's l1: 24.2013\n",
      "[10]\tvalid_0's l2: 5413.52\tvalid_0's l1: 24.239\n",
      "[11]\tvalid_0's l2: 5435.24\tvalid_0's l1: 24.2411\n",
      "[12]\tvalid_0's l2: 5380.99\tvalid_0's l1: 24.2002\n",
      "[13]\tvalid_0's l2: 5408.95\tvalid_0's l1: 24.3144\n",
      "[14]\tvalid_0's l2: 5410.22\tvalid_0's l1: 24.319\n",
      "[15]\tvalid_0's l2: 5441.53\tvalid_0's l1: 24.4735\n",
      "[16]\tvalid_0's l2: 5436.29\tvalid_0's l1: 24.2616\n",
      "[17]\tvalid_0's l2: 5485.66\tvalid_0's l1: 24.4787\n",
      "[18]\tvalid_0's l2: 5479.35\tvalid_0's l1: 24.3949\n",
      "[19]\tvalid_0's l2: 5487.64\tvalid_0's l1: 24.6109\n",
      "[20]\tvalid_0's l2: 5489.87\tvalid_0's l1: 24.5911\n",
      "[21]\tvalid_0's l2: 5539.98\tvalid_0's l1: 24.8045\n",
      "[22]\tvalid_0's l2: 5551.2\tvalid_0's l1: 24.9897\n",
      "[23]\tvalid_0's l2: 5549.22\tvalid_0's l1: 24.991\n",
      "[24]\tvalid_0's l2: 5545.02\tvalid_0's l1: 24.9244\n",
      "[25]\tvalid_0's l2: 5546.96\tvalid_0's l1: 24.9014\n",
      "[26]\tvalid_0's l2: 5572.44\tvalid_0's l1: 24.9\n",
      "[27]\tvalid_0's l2: 5566.61\tvalid_0's l1: 24.8564\n",
      "[28]\tvalid_0's l2: 5599.06\tvalid_0's l1: 24.9121\n",
      "[29]\tvalid_0's l2: 5626.91\tvalid_0's l1: 25.0093\n",
      "[30]\tvalid_0's l2: 5617.17\tvalid_0's l1: 24.9813\n",
      "[31]\tvalid_0's l2: 5634.66\tvalid_0's l1: 24.9862\n",
      "Early stopping, best iteration is:\n",
      "[1]\tvalid_0's l2: 5233.16\tvalid_0's l1: 23.437\n",
      "MSE: 5233.16\n",
      "RMSE: 72.34\n"
     ]
    },
    {
     "data": {
      "image/png": "[encoded data removed]",
      "text/plain": [
       "<Figure size 864x432 with 1 Axes>"
      ]
     },
     "metadata": {
      "needs_background": "light"
     },
     "output_type": "display_data"
    },
    {
     "data": {
      "text/plain": [
       "<AxesSubplot:title={'center':'Feature importance'}, xlabel='Feature importance', ylabel='Features'>"
      ]
     },
     "execution_count": 181,
     "metadata": {},
     "output_type": "execute_result"
    },
    {
     "data": {
      "image/png": "[encoded data removed]",
      "text/plain": [
       "<Figure size 432x288 with 1 Axes>"
      ]
     },
     "metadata": {
      "needs_background": "light"
     },
     "output_type": "display_data"
    }
   ],
   "source": [
    "import lightgbm as lgb\n",
    "from sklearn.datasets import load_boston\n",
    "from sklearn.metrics import mean_squared_error\n",
    "from sklearn.model_selection import train_test_split\n",
    "import matplotlib.pyplot as plt\n",
    "from pandas import DataFrame\n",
    "\n",
    "x_train, x_test, y_train, y_test = train_test_split(X, Y, test_size=0.2)\n",
    "\n",
    "# defining parameters \n",
    "params = {\n",
    "    'task': 'train', \n",
    "    'boosting': 'gbdt',\n",
    "    'objective': 'regression',\n",
    "    'num_leaves': 10,\n",
    "    'learnnig_rae': 0.05,\n",
    "    'metric': {'l2','l1'},\n",
    "    'verbose': -1\n",
    "}\n",
    "\n",
    "# laoding data\n",
    "lgb_train = lgb.Dataset(x_train, y_train)\n",
    "lgb_eval = lgb.Dataset(x_test, y_test, reference=lgb_train)\n",
    "\n",
    "# fitting the model\n",
    "model = lgb.train(params,\n",
    "                 train_set=lgb_train,\n",
    "                 valid_sets=lgb_eval,\n",
    "                 early_stopping_rounds=30)\n",
    "\n",
    "# prediction\n",
    "y_pred = model.predict(x_test)\n",
    "\n",
    "# accuracy check\n",
    "mse = mean_squared_error(y_test, y_pred)\n",
    "rmse = mse**(0.5)\n",
    "print(\"MSE: %.2f\" % mse)\n",
    "print(\"RMSE: %.2f\" % rmse)\n",
    "\n",
    "# visualizing in a plot\n",
    "x_ax = range(len(y_test))\n",
    "plt.figure(figsize=(12, 6))\n",
    "plt.plot(x_ax, y_test, label=\"original\")\n",
    "plt.plot(x_ax, y_pred, label=\"predicted\")\n",
    "plt.title(\"Kaggle dataset test and predicted data\")\n",
    "plt.xlabel('X')\n",
    "plt.ylabel('TotalVotes')\n",
    "plt.legend(loc='best',fancybox=True, shadow=True)\n",
    "plt.grid(True)\n",
    "plt.show()  \n",
    "\n",
    "# plotting feature importance\n",
    "lgb.plot_importance(model, height=.5) "
   ]
  },
  {
   "cell_type": "code",
   "execution_count": null,
   "id": "25340be9",
   "metadata": {},
   "outputs": [],
   "source": []
  }
 ],
 "metadata": {
  "kernelspec": {
   "display_name": "Python 3 (ipykernel)",
   "language": "python",
   "name": "python3"
  },
  "language_info": {
   "codemirror_mode": {
    "name": "ipython",
    "version": 3
   },
   "file_extension": ".py",
   "mimetype": "text/x-python",
   "name": "python",
   "nbconvert_exporter": "python",
   "pygments_lexer": "ipython3",
   "version": "3.9.5"
  }
 },
 "nbformat": 4,
 "nbformat_minor": 5
}
