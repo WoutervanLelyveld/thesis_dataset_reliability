{
 "cells": [
  {
   "cell_type": "code",
   "execution_count": 1,
   "id": "997452d8",
   "metadata": {},
   "outputs": [],
   "source": [
    "import pandas as pd\n",
    "import matplotlib.pyplot as plt\n",
    "from matplotlib import pyplot\n",
    "%matplotlib inline\n",
    "\n",
    "import numpy as np\n",
    "import seaborn as sns\n",
    "from datetime import datetime\n",
    "import tensorflow as tf\n",
    "# import tensorflow.compat.v1.keras.backend as K \n",
    "# tf.compat.v1.disable_v2_behavior()\n",
    "# tf.compat.v1.disable_eager_execution()\n",
    "\n",
    "from tensorflow import keras\n",
    "from tensorflow.keras import layers  # TF model\n",
    "import shap as shap  # Visualizing tool\n",
    "from scipy.stats import norm\n",
    "from scipy import stats"
   ]
  },
  {
   "cell_type": "code",
   "execution_count": 2,
   "id": "26c8b448",
   "metadata": {},
   "outputs": [],
   "source": [
    "%store -r train_features\n",
    "%store -r test_features\n",
    "\n",
    "%store -r train_labels\n",
    "%store -r test_labels"
   ]
  },
  {
   "cell_type": "markdown",
   "id": "455b40e3",
   "metadata": {},
   "source": [
    "The tf.keras.layers.Normalization adding a feature normalization into the model.\n",
    "\n",
    "Create the layer"
   ]
  },
  {
   "cell_type": "code",
   "execution_count": 3,
   "id": "d92bdcc6",
   "metadata": {
    "scrolled": false
   },
   "outputs": [],
   "source": [
    "normalizer = tf.keras.layers.Normalization(axis=-1)"
   ]
  },
  {
   "cell_type": "markdown",
   "id": "d4a4ef9f",
   "metadata": {},
   "source": [
    "Fit the state of the preprocessing layer to the data"
   ]
  },
  {
   "cell_type": "code",
   "execution_count": 4,
   "id": "27f17c2f",
   "metadata": {},
   "outputs": [
    {
     "name": "stderr",
     "output_type": "stream",
     "text": [
      "2022-06-16 16:50:54.932072: W tensorflow/stream_executor/platform/default/dso_loader.cc:64] Could not load dynamic library 'libcuda.so.1'; dlerror: libcuda.so.1: cannot open shared object file: No such file or directory; LD_LIBRARY_PATH: /sw/arch/Debian10/EB_production/2021/software/Qhull/2020.2-GCCcore-10.3.0/lib:/sw/arch/Debian10/EB_production/2021/software/SciPy-bundle/2021.05-foss-2021a/lib/python3.9/site-packages/numpy/core/lib:/sw/arch/Debian10/EB_production/2021/software/PyTorch/1.10.0-foss-2021a-CUDA-11.3.1/lib/python3.9/site-packages/torch/lib:/sw/arch/Debian10/EB_production/2021/software/magma/2.6.1-foss-2021a-CUDA-11.3.1/lib:/sw/arch/Debian10/EB_production/2021/software/FFmpeg/4.3.2-GCCcore-10.3.0/lib:/sw/arch/Debian10/EB_production/2021/software/FriBidi/1.0.10-GCCcore-10.3.0/lib:/sw/arch/Debian10/EB_production/2021/software/x265/3.5-GCCcore-10.3.0/lib:/sw/arch/Debian10/EB_production/2021/software/LAME/3.100-GCCcore-10.3.0/lib:/sw/arch/Debian10/EB_production/2021/software/x264/20210414-GCCcore-10.3.0/lib:/sw/arch/Debian10/EB_production/2021/software/MPFR/4.1.0-GCCcore-10.3.0/lib:/sw/arch/Debian10/EB_production/2021/software/libyaml/0.2.5-GCCcore-10.3.0/lib:/sw/arch/Debian10/EB_production/2021/software/snappy/1.1.8-GCCcore-10.3.0/lib:/sw/arch/Debian10/EB_production/2021/software/protobuf/3.17.3-GCCcore-10.3.0/lib:/sw/arch/Debian10/EB_production/2021/software/nsync/1.24.0-GCCcore-10.3.0/lib:/sw/arch/Debian10/EB_production/2021/software/LMDB/0.9.28-GCCcore-10.3.0/lib:/sw/arch/Debian10/EB_production/2021/software/JsonCpp/1.9.4-GCCcore-10.3.0/lib:/sw/arch/Debian10/EB_production/2021/software/giflib/5.2.1-GCCcore-10.3.0/lib:/sw/arch/Debian10/EB_production/2021/software/flatbuffers/2.0.0-GCCcore-10.3.0/lib:/sw/arch/Debian10/EB_production/2021/software/double-conversion/3.1.5-GCCcore-10.3.0/lib:/sw/arch/Debian10/EB_production/2021/software/NCCL/2.10.3-GCCcore-10.3.0-CUDA-11.3.1/lib:/sw/arch/Debian10/EB_production/2021/software/GDRCopy/2.2-GCCcore-10.3.0/lib:/sw/arch/Debian10/EB_production/2021/software/cuDNN/8.2.1.32-CUDA-11.3.1/lib:/sw/arch/Debian10/EB_production/2021/software/CUDA/11.3.1/nvvm/lib64:/sw/arch/Debian10/EB_production/2021/software/CUDA/11.3.1/extras/CUPTI/lib64:/sw/arch/Debian10/EB_production/2021/software/CUDA/11.3.1/lib:/sw/arch/Debian10/EB_production/2021/software/R/4.1.0-foss-2021a/lib/R/lib:/sw/arch/Debian10/EB_production/2021/software/libgit2/1.1.0-GCCcore-10.3.0/lib:/sw/arch/Debian10/EB_production/2021/software/GDAL/3.3.0-foss-2021a/lib:/sw/arch/Debian10/EB_production/2021/software/HDF/4.2.15-GCCcore-10.3.0/lib:/sw/arch/Debian10/EB_production/2021/software/libtirpc/1.3.2-GCCcore-10.3.0/lib:/sw/arch/Debian10/EB_production/2021/software/libgeotiff/1.6.0-GCCcore-10.3.0/lib:/sw/arch/Debian10/EB_production/2021/software/PROJ/8.0.1-GCCcore-10.3.0/lib:/sw/arch/Debian10/EB_production/2021/software/PCRE/8.44-GCCcore-10.3.0/lib:/sw/arch/Debian10/EB_production/2021/software/GEOS/3.9.1-GCC-10.3.0/lib:/sw/arch/Debian10/EB_production/2021/software/netCDF/4.8.0-gompi-2021a/lib:/sw/arch/Debian10/EB_production/2021/software/GLPK/5.0-GCCcore-10.3.0/lib:/sw/arch/Debian10/EB_production/2021/software/ImageMagick/7.0.11-14-GCCcore-10.3.0/lib:/sw/arch/Debian10/EB_production/2021/software/LittleCMS/2.12-GCCcore-10.3.0/lib:/sw/arch/Debian10/EB_production/2021/software/JasPer/2.0.28-GCCcore-10.3.0/lib:/sw/arch/Debian10/EB_production/2021/software/Ghostscript/9.54.0-GCCcore-10.3.0/lib:/sw/arch/Debian10/EB_production/2021/software/GSL/2.7-GCC-10.3.0/lib:/sw/arch/Debian10/EB_production/2021/software/UDUNITS/2.2.28-GCCcore-10.3.0/lib:/sw/arch/Debian10/EB_production/2021/software/HDF5/1.10.7-gompi-2021a/lib:/sw/arch/Debian10/EB_production/2021/software/Szip/2.1.1-GCCcore-10.3.0/lib:/sw/arch/Debian10/EB_production/2021/software/ICU/69.1-GCCcore-10.3.0/lib:/sw/arch/Debian10/EB_production/2021/software/libsndfile/1.0.31-GCCcore-10.3.0/lib:/sw/arch/Debian10/EB_production/2021/software/libvorbis/1.3.7-GCCcore-10.3.0/lib:/sw/arch/Debian10/EB_production/2021/software/FLAC/1.3.3-GCCcore-10.3.0/lib:/sw/arch/Debian10/EB_production/2021/software/libogg/1.3.4-GCCcore-10.3.0/lib:/sw/arch/Debian10/EB_production/2021/software/NLopt/2.7.0-GCCcore-10.3.0/lib:/sw/arch/Debian10/EB_production/2021/software/cURL/7.76.0-GCCcore-10.3.0/lib:/sw/arch/Debian10/EB_production/2021/software/Tk/8.6.11-GCCcore-10.3.0/lib:/sw/arch/Debian10/EB_production/2021/software/Java/11.0.2/lib:/sw/arch/Debian10/EB_production/2021/software/LibTIFF/4.2.0-GCCcore-10.3.0/lib:/sw/arch/Debian10/EB_production/2021/software/libjpeg-turbo/2.0.6-GCCcore-10.3.0/lib:/sw/arch/Debian10/EB_production/2021/software/cairo/1.16.0-GCCcore-10.3.0/lib:/sw/arch/Debian10/EB_production/2021/software/GLib/2.68.2-GCCcore-10.3.0/lib:/sw/arch/Debian10/EB_production/2021/software/PCRE2/10.36-GCCcore-10.3.0/lib:/sw/arch/Debian10/EB_production/2021/software/gettext/0.21-GCCcore-10.3.0/lib:/sw/arch/Debian10/EB_production/2021/software/pixman/0.40.0-GCCcore-10.3.0/lib:/sw/arch/Debian10/EB_production/2021/software/libGLU/9.0.1-GCCcore-10.3.0/lib:/sw/arch/Debian10/EB_production/2021/software/Mesa/21.1.1-GCCcore-10.3.0/lib:/sw/arch/Debian10/EB_production/2021/software/LLVM/11.1.0-GCCcore-10.3.0/lib:/sw/arch/Debian10/EB_production/2021/software/libunwind/1.4.0-GCCcore-10.3.0/lib:/sw/arch/Debian10/EB_production/2021/software/libglvnd/1.3.3-GCCcore-10.3.0/lib:/sw/arch/Debian10/EB_production/2021/software/libdrm/2.4.106-GCCcore-10.3.0/lib:/sw/arch/Debian10/EB_production/2021/software/zstd/1.4.9-GCCcore-10.3.0/lib:/sw/arch/Debian10/EB_production/2021/software/lz4/1.9.3-GCCcore-10.3.0/lib:/sw/arch/Debian10/EB_production/2021/software/X11/20210518-GCCcore-10.3.0/lib:/sw/arch/Debian10/EB_production/2021/software/fontconfig/2.13.93-GCCcore-10.3.0/lib:/sw/arch/Debian10/EB_production/2021/software/freetype/2.10.4-GCCcore-10.3.0/lib:/sw/arch/Debian10/EB_production/2021/software/libpng/1.6.37-GCCcore-10.3.0/lib:/sw/arch/Debian10/EB_production/2021/software/expat/2.2.9-GCCcore-10.3.0/lib:/sw/arch/Debian10/EB_production/2021/software/ScaLAPACK/2.1.0-gompi-2021a-fb/lib:/sw/arch/Debian10/EB_production/2021/software/FFTW/3.3.9-gompi-2021a/lib:/sw/arch/Debian10/EB_production/2021/software/FlexiBLAS/3.0.4-GCC-10.3.0/lib:/sw/arch/Debian10/EB_production/2021/software/OpenBLAS/0.3.15-GCC-10.3.0/lib:/sw/arch/Debian10/EB_production/2021/software/OpenMPI/4.1.1-GCC-10.3.0/lib:/sw/arch/Debian10/EB_production/2021/software/libfabric/1.12.1-GCCcore-10.3.0/lib:/sw/arch/Debian10/EB_production/2021/software/UCX/1.10.0-GCCcore-10.3.0/lib:/sw/arch/Debian10/EB_production/2021/software/libevent/2.1.12-GCCcore-10.3.0/lib:/sw/arch/Debian10/EB_production/2021/software/hwloc/2.4.1-GCCcore-10.3.0/lib:/sw/arch/Debian10/EB_production/2021/software/libpciaccess/0.16-GCCcore-10.3.0/lib:/sw/arch/Debian10/EB_production/2021/software/libxml2/2.9.10-GCCcore-10.3.0/lib:/sw/arch/Debian10/EB_production/2021/software/numactl/2.0.14-GCCcore-10.3.0/lib:/sw/arch/Debian10/EB_production/2021/software/nodejs/14.17.0-GCCcore-10.3.0/lib:/sw/arch/Debian10/EB_production/2021/software/ZeroMQ/4.3.4-GCCcore-10.3.0/lib:/sw/arch/Debian10/EB_production/2021/software/util-linux/2.36-GCCcore-10.3.0/lib:/sw/arch/Debian10/EB_production/2021/software/libsodium/1.0.18-GCCcore-10.3.0/lib:/sw/arch/Debian10/EB_production/2021/software/OpenPGM/5.2.122-GCCcore-10.3.0/lib:/sw/arch/Debian10/EB_production/2021/software/Python/3.9.5-GCCcore-10.3.0/lib:/sw/arch/Debian10/EB_production/2021/software/OpenSSL/1.1/lib:/sw/arch/Debian10/EB_production/2021/software/libffi/3.3-GCCcore-10.3.0/lib64:/sw/arch/Debian10/EB_production/2021/software/GMP/6.2.1-GCCcore-10.3.0/lib:/sw/arch/Debian10/EB_production/2021/software/XZ/5.2.5-GCCcore-10.3.0/lib:/sw/arch/Debian10/EB_production/2021/software/SQLite/3.35.4-GCCcore-10.3.0/lib:/sw/arch/Debian10/EB_production/2021/software/Tcl/8.6.11-GCCcore-10.3.0/lib:/sw/arch/Debian10/EB_production/2021/software/libreadline/8.1-GCCcore-10.3.0/lib:/sw/arch/Debian10/EB_production/2021/software/ncurses/6.2-GCCcore-10.3.0/lib:/sw/arch/Debian10/EB_production/2021/software/bzip2/1.0.8-GCCcore-10.3.0/lib:/sw/arch/Debian10/EB_production/2021/software/binutils/2.36.1-GCCcore-10.3.0/lib:/sw/arch/Debian10/EB_production/2021/software/zlib/1.2.11-GCCcore-10.3.0/lib:/sw/arch/Debian10/EB_production/2021/software/GCCcore/10.3.0/lib64\n",
      "2022-06-16 16:50:54.932103: W tensorflow/stream_executor/cuda/cuda_driver.cc:269] failed call to cuInit: UNKNOWN ERROR (303)\n",
      "2022-06-16 16:50:54.932120: I tensorflow/stream_executor/cuda/cuda_diagnostics.cc:156] kernel driver does not appear to be running on this host (r11n1.lisa.surfsara.nl): /proc/driver/nvidia/version does not exist\n",
      "2022-06-16 16:50:54.938811: I tensorflow/core/common_runtime/process_util.cc:146] Creating new thread pool with default inter op setting: 2. Tune using inter_op_parallelism_threads for best performance.\n",
      "2022-06-16 16:50:55.047208: I tensorflow/compiler/mlir/mlir_graph_optimization_pass.cc:185] None of the MLIR Optimization Passes are enabled (registered 2)\n"
     ]
    }
   ],
   "source": [
    "normalizer.adapt(np.array(train_features))"
   ]
  },
  {
   "cell_type": "markdown",
   "id": "1efe5c80",
   "metadata": {},
   "source": [
    "Calculating the mean and variance, and storing them in the layer:"
   ]
  },
  {
   "cell_type": "code",
   "execution_count": 5,
   "id": "c714d17b",
   "metadata": {
    "scrolled": false
   },
   "outputs": [
    {
     "name": "stdout",
     "output_type": "stream",
     "text": [
      "[[4.5719843e+00 8.5137823e+02 7.1319043e+02 5.0751388e-01 5.8288473e-01\n",
      "  2.7596102e+04 2.2877213e+04]]\n",
      "First example: [[   0 1373 1144    1    1  167 3748]]\n",
      "\n",
      "Normalized: [[-0.09  1.05  0.31  0.99  0.85 -0.37 -0.18]]\n"
     ]
    }
   ],
   "source": [
    "print(normalizer.mean.numpy())\n",
    "\n",
    "first = np.array(train_features[:1])\n",
    "\n",
    "with np.printoptions(precision=2, suppress=True):\n",
    "    print('First example:', first)\n",
    "    print()\n",
    "    print('Normalized:', normalizer(first).numpy())"
   ]
  },
  {
   "cell_type": "markdown",
   "id": "3e37a1cd",
   "metadata": {},
   "source": [
    "# 4. Regression using a DNN and multiple inputs"
   ]
  },
  {
   "cell_type": "markdown",
   "id": "841d57e4",
   "metadata": {},
   "source": [
    "The normalization layer\n",
    "\n",
    "Two hidden, non-linear, Dense layers with the ReLU (relu) activation function nonlinearity.\n",
    "\n",
    "A linear Dense single-output layer."
   ]
  },
  {
   "cell_type": "markdown",
   "id": "5208e4d5",
   "metadata": {},
   "source": [
    "Mean Absolute Error"
   ]
  },
  {
   "cell_type": "code",
   "execution_count": 6,
   "id": "6de041e7",
   "metadata": {
    "scrolled": false
   },
   "outputs": [],
   "source": [
    "def build_and_compile_model(norm):\n",
    "    model = keras.Sequential([\n",
    "        norm,\n",
    "        layers.Dense(64, activation='relu'), #tanh\n",
    "        layers.Dense(64, activation='relu'), #tanh\n",
    "        layers.Dense(1)\n",
    "    ])\n",
    "\n",
    "    model.compile(loss='mean_absolute_error',\n",
    "                  optimizer=tf.keras.optimizers.Adam(0.001))\n",
    "    return model"
   ]
  },
  {
   "cell_type": "markdown",
   "id": "258cc621",
   "metadata": {},
   "source": [
    "Mean Squared Error"
   ]
  },
  {
   "cell_type": "code",
   "execution_count": 408,
   "id": "d56b4676",
   "metadata": {},
   "outputs": [],
   "source": [
    "def build_and_compile_model(norm):\n",
    "    model = keras.Sequential([\n",
    "        norm,\n",
    "        layers.Dense(64, activation='relu'),\n",
    "        layers.Dense(64, activation='relu'),\n",
    "        layers.Dense(1)\n",
    "    ])\n",
    "\n",
    "    model.compile(loss='mean_squared_error',\n",
    "                  optimizer=tf.keras.optimizers.Adam(0.001))\n",
    "    return model"
   ]
  },
  {
   "cell_type": "code",
   "execution_count": 7,
   "id": "e9cdd2f9",
   "metadata": {
    "scrolled": false
   },
   "outputs": [
    {
     "name": "stdout",
     "output_type": "stream",
     "text": [
      "Model: \"sequential\"\n",
      "_________________________________________________________________\n",
      "Layer (type)                 Output Shape              Param #   \n",
      "=================================================================\n",
      "normalization (Normalization (None, 7)                 15        \n",
      "_________________________________________________________________\n",
      "dense (Dense)                (None, 64)                512       \n",
      "_________________________________________________________________\n",
      "dense_1 (Dense)              (None, 64)                4160      \n",
      "_________________________________________________________________\n",
      "dense_2 (Dense)              (None, 1)                 65        \n",
      "=================================================================\n",
      "Total params: 4,752\n",
      "Trainable params: 4,737\n",
      "Non-trainable params: 15\n",
      "_________________________________________________________________\n"
     ]
    }
   ],
   "source": [
    "dnn_model = build_and_compile_model(normalizer)\n",
    "dnn_model.summary()"
   ]
  },
  {
   "cell_type": "code",
   "execution_count": 8,
   "id": "95ef38af",
   "metadata": {},
   "outputs": [],
   "source": [
    "#X = X.sample(10000)\n",
    "#Y = Y.sample(10000)\n",
    "\n",
    "train_features = train_features.sample(100)\n",
    "train_labels = train_labels.sample(100)\n",
    "\n",
    "test_labels = test_labels.sample(100)\n",
    "test_features = test_features.sample(100)"
   ]
  },
  {
   "cell_type": "code",
   "execution_count": 9,
   "id": "43bf3821",
   "metadata": {
    "scrolled": false
   },
   "outputs": [],
   "source": [
    "history = dnn_model.fit(\n",
    "    train_features,\n",
    "    train_labels,\n",
    "    validation_split=0.2,\n",
    "    verbose=0, epochs=100)"
   ]
  },
  {
   "cell_type": "code",
   "execution_count": 11,
   "id": "88261bd0",
   "metadata": {},
   "outputs": [],
   "source": [
    "def plot_loss(history):\n",
    "    plt.plot(history.history['loss'], label='loss')\n",
    "    plt.plot(history.history['val_loss'], label='val_loss')\n",
    "    # plt.ylim([0, 10])\n",
    "    plt.xlabel('Epoch')\n",
    "    plt.ylabel('Error [TotalVotes]')\n",
    "    plt.legend()\n",
    "    plt.grid(True)"
   ]
  },
  {
   "cell_type": "markdown",
   "id": "1f611bef",
   "metadata": {},
   "source": [
    "Mean Absolute Error"
   ]
  },
  {
   "cell_type": "code",
   "execution_count": 12,
   "id": "d3811e6b",
   "metadata": {
    "scrolled": false
   },
   "outputs": [
    {
     "data": {
      "image/png": "[encoded data removed]",
      "text/plain": [
       "<Figure size 432x288 with 1 Axes>"
      ]
     },
     "metadata": {
      "needs_background": "light"
     },
     "output_type": "display_data"
    }
   ],
   "source": [
    "plot_loss(history)\n",
    "plt.show()"
   ]
  },
  {
   "cell_type": "markdown",
   "id": "67cf1648",
   "metadata": {},
   "source": [
    "Mean Squared Error"
   ]
  },
  {
   "cell_type": "code",
   "execution_count": 411,
   "id": "9ff3e952",
   "metadata": {
    "scrolled": false
   },
   "outputs": [
    {
     "data": {
      "image/png": "[encoded data removed]",
      "text/plain": [
       "<Figure size 432x288 with 1 Axes>"
      ]
     },
     "metadata": {
      "needs_background": "light"
     },
     "output_type": "display_data"
    }
   ],
   "source": [
    "plot_loss(history)\n",
    "plt.show()"
   ]
  },
  {
   "cell_type": "markdown",
   "id": "8084970d",
   "metadata": {},
   "source": [
    "Collect the results on the test set"
   ]
  },
  {
   "cell_type": "markdown",
   "id": "e0cd6d63",
   "metadata": {},
   "source": [
    "Mean Absolute Error"
   ]
  },
  {
   "cell_type": "code",
   "execution_count": 12,
   "id": "2833b11a",
   "metadata": {},
   "outputs": [],
   "source": [
    "test_results = {}\n",
    "test_results['dnn_model'] = dnn_model.evaluate(test_features, test_labels, verbose=0)"
   ]
  },
  {
   "cell_type": "markdown",
   "id": "c0873d1e",
   "metadata": {},
   "source": [
    "Mean Squared Error"
   ]
  },
  {
   "cell_type": "code",
   "execution_count": 379,
   "id": "c0610ad3",
   "metadata": {},
   "outputs": [],
   "source": [
    "test_results_MSE['dnn_model'] = dnn_model.evaluate(test_features, test_labels, verbose=0)"
   ]
  },
  {
   "cell_type": "markdown",
   "id": "57a3cede",
   "metadata": {},
   "source": [
    "Shap presentation"
   ]
  },
  {
   "cell_type": "code",
   "execution_count": 13,
   "id": "f11e0626",
   "metadata": {},
   "outputs": [
    {
     "data": {
      "text/plain": [
       "(None, None)"
      ]
     },
     "execution_count": 13,
     "metadata": {},
     "output_type": "execute_result"
    }
   ],
   "source": [
    "dnn_model.input_shape"
   ]
  },
  {
   "cell_type": "code",
   "execution_count": 35,
   "id": "d2b8c669",
   "metadata": {},
   "outputs": [],
   "source": [
    "new_model_input = tf.keras.layers.Input(shape=(7,))\n",
    "new_model_output = dnn_model(new_model_input)\n",
    "new_dnn_model = tf.keras.models.Model(inputs=new_model_input, outputs=new_model_output)"
   ]
  },
  {
   "cell_type": "code",
   "execution_count": 37,
   "id": "4e06a0d1",
   "metadata": {},
   "outputs": [],
   "source": [
    "background = shap.maskers.Independent(train_features)"
   ]
  },
  {
   "cell_type": "code",
   "execution_count": 39,
   "id": "b64a1ad7",
   "metadata": {},
   "outputs": [],
   "source": [
    "explainer = shap.Explainer(dnn_model, background)"
   ]
  },
  {
   "cell_type": "code",
   "execution_count": 41,
   "id": "b6e4fedf",
   "metadata": {},
   "outputs": [
    {
     "name": "stderr",
     "output_type": "stream",
     "text": [
      "Exact explainer: 101it [00:43,  2.32it/s]                         \n"
     ]
    }
   ],
   "source": [
    "shap_values = explainer(test_features)"
   ]
  },
  {
   "cell_type": "code",
   "execution_count": 42,
   "id": "e72d415c",
   "metadata": {},
   "outputs": [
    {
     "data": {
      "image/png": "[encoded data removed]",
      "text/plain": [
       "<Figure size 576x360 with 1 Axes>"
      ]
     },
     "metadata": {},
     "output_type": "display_data"
    }
   ],
   "source": [
    "shap.plots.bar(shap_values, max_display=10)"
   ]
  },
  {
   "cell_type": "code",
   "execution_count": 23,
   "id": "1ded4a31",
   "metadata": {},
   "outputs": [
    {
     "ename": "AttributeError",
     "evalue": "'list' object has no attribute 'values'",
     "output_type": "error",
     "traceback": [
      "\u001b[0;31m---------------------------------------------------------------------------\u001b[0m",
      "\u001b[0;31mAttributeError\u001b[0m                            Traceback (most recent call last)",
      "\u001b[0;32m/tmp/ipykernel_31976/1968003510.py\u001b[0m in \u001b[0;36m<module>\u001b[0;34m\u001b[0m\n\u001b[0;32m----> 1\u001b[0;31m \u001b[0mshap\u001b[0m\u001b[0;34m.\u001b[0m\u001b[0mplots\u001b[0m\u001b[0;34m.\u001b[0m\u001b[0mheatmap\u001b[0m\u001b[0;34m(\u001b[0m\u001b[0mshap_values\u001b[0m\u001b[0;34m)\u001b[0m\u001b[0;34m\u001b[0m\u001b[0;34m\u001b[0m\u001b[0m\n\u001b[0m",
      "\u001b[0;32m~/.local/lib/python3.9/site-packages/shap/plots/_heatmap.py\u001b[0m in \u001b[0;36mheatmap\u001b[0;34m(shap_values, instance_order, feature_values, feature_order, max_display, cmap, show)\u001b[0m\n\u001b[1;32m     46\u001b[0m \u001b[0;34m\u001b[0m\u001b[0m\n\u001b[1;32m     47\u001b[0m     \u001b[0;31m# sort the SHAP values matrix by rows and columns\u001b[0m\u001b[0;34m\u001b[0m\u001b[0;34m\u001b[0m\u001b[0;34m\u001b[0m\u001b[0m\n\u001b[0;32m---> 48\u001b[0;31m     \u001b[0mvalues\u001b[0m \u001b[0;34m=\u001b[0m \u001b[0mshap_values\u001b[0m\u001b[0;34m.\u001b[0m\u001b[0mvalues\u001b[0m\u001b[0;34m\u001b[0m\u001b[0;34m\u001b[0m\u001b[0m\n\u001b[0m\u001b[1;32m     49\u001b[0m     \u001b[0;32mif\u001b[0m \u001b[0missubclass\u001b[0m\u001b[0;34m(\u001b[0m\u001b[0mtype\u001b[0m\u001b[0;34m(\u001b[0m\u001b[0mfeature_values\u001b[0m\u001b[0;34m)\u001b[0m\u001b[0;34m,\u001b[0m \u001b[0mOpChain\u001b[0m\u001b[0;34m)\u001b[0m\u001b[0;34m:\u001b[0m\u001b[0;34m\u001b[0m\u001b[0;34m\u001b[0m\u001b[0m\n\u001b[1;32m     50\u001b[0m         \u001b[0mfeature_values\u001b[0m \u001b[0;34m=\u001b[0m \u001b[0mfeature_values\u001b[0m\u001b[0;34m.\u001b[0m\u001b[0mapply\u001b[0m\u001b[0;34m(\u001b[0m\u001b[0mExplanation\u001b[0m\u001b[0;34m(\u001b[0m\u001b[0mvalues\u001b[0m\u001b[0;34m)\u001b[0m\u001b[0;34m)\u001b[0m\u001b[0;34m\u001b[0m\u001b[0;34m\u001b[0m\u001b[0m\n",
      "\u001b[0;31mAttributeError\u001b[0m: 'list' object has no attribute 'values'"
     ]
    }
   ],
   "source": [
    "shap.plots.heatmap(shap_values)"
   ]
  },
  {
   "cell_type": "code",
   "execution_count": 98,
   "id": "8369c60c",
   "metadata": {
    "scrolled": false
   },
   "outputs": [],
   "source": [
    "test_predictions = dnn_model.predict(test_features).flatten()"
   ]
  },
  {
   "cell_type": "code",
   "execution_count": 99,
   "id": "ce1e557f",
   "metadata": {
    "scrolled": false
   },
   "outputs": [
    {
     "data": {
      "image/png": "[encoded data removed]",
      "text/plain": [
       "<Figure size 432x288 with 1 Axes>"
      ]
     },
     "metadata": {
      "needs_background": "light"
     },
     "output_type": "display_data"
    }
   ],
   "source": [
    "a = plt.axes(aspect='equal')\n",
    "plt.scatter(test_labels, test_predictions)\n",
    "plt.xlabel('True Values [TotalVotes]')\n",
    "plt.ylabel('Predictions [TotalVotes]')\n",
    "lims = [0, 220]\n",
    "plt.xlim(lims)\n",
    "plt.ylim(lims)\n",
    "_ = plt.plot(lims, lims)\n",
    "\n",
    "plt.show()"
   ]
  },
  {
   "cell_type": "code",
   "execution_count": 100,
   "id": "bccae323",
   "metadata": {
    "scrolled": true
   },
   "outputs": [
    {
     "data": {
      "image/png": "[encoded data removed]",
      "text/plain": [
       "<Figure size 432x288 with 1 Axes>"
      ]
     },
     "metadata": {
      "needs_background": "light"
     },
     "output_type": "display_data"
    }
   ],
   "source": [
    "error = test_predictions - test_labels\n",
    "plt.hist(error, bins=25)\n",
    "plt.xlabel('Prediction Error [TotalVotes]')\n",
    "_ = plt.ylabel('Count')\n",
    "\n",
    "plt.show()"
   ]
  },
  {
   "cell_type": "code",
   "execution_count": 19,
   "id": "d475f768",
   "metadata": {
    "scrolled": false
   },
   "outputs": [
    {
     "data": {
      "text/html": [
       "<div>\n",
       "<style scoped>\n",
       "    .dataframe tbody tr th:only-of-type {\n",
       "        vertical-align: middle;\n",
       "    }\n",
       "\n",
       "    .dataframe tbody tr th {\n",
       "        vertical-align: top;\n",
       "    }\n",
       "\n",
       "    .dataframe thead th {\n",
       "        text-align: right;\n",
       "    }\n",
       "</style>\n",
       "<table border=\"1\" class=\"dataframe\">\n",
       "  <thead>\n",
       "    <tr style=\"text-align: right;\">\n",
       "      <th></th>\n",
       "      <th>Mean absolute error [TotalVotes]</th>\n",
       "    </tr>\n",
       "  </thead>\n",
       "  <tbody>\n",
       "    <tr>\n",
       "      <th>dnn_model</th>\n",
       "      <td>3.276978</td>\n",
       "    </tr>\n",
       "  </tbody>\n",
       "</table>\n",
       "</div>"
      ],
      "text/plain": [
       "           Mean absolute error [TotalVotes]\n",
       "dnn_model                          3.276978"
      ]
     },
     "execution_count": 19,
     "metadata": {},
     "output_type": "execute_result"
    }
   ],
   "source": [
    "pd.DataFrame(test_results, index=['Mean absolute error [TotalVotes]']).T"
   ]
  },
  {
   "cell_type": "code",
   "execution_count": 443,
   "id": "95b63f76",
   "metadata": {
    "scrolled": false
   },
   "outputs": [
    {
     "data": {
      "text/html": [
       "<div>\n",
       "<style scoped>\n",
       "    .dataframe tbody tr th:only-of-type {\n",
       "        vertical-align: middle;\n",
       "    }\n",
       "\n",
       "    .dataframe tbody tr th {\n",
       "        vertical-align: top;\n",
       "    }\n",
       "\n",
       "    .dataframe thead th {\n",
       "        text-align: right;\n",
       "    }\n",
       "</style>\n",
       "<table border=\"1\" class=\"dataframe\">\n",
       "  <thead>\n",
       "    <tr style=\"text-align: right;\">\n",
       "      <th></th>\n",
       "      <th>Mean squared error [TotalVotes]</th>\n",
       "    </tr>\n",
       "  </thead>\n",
       "  <tbody>\n",
       "    <tr>\n",
       "      <th>totalviews_model</th>\n",
       "      <td>25636.134766</td>\n",
       "    </tr>\n",
       "    <tr>\n",
       "      <th>linear_model</th>\n",
       "      <td>25100.847656</td>\n",
       "    </tr>\n",
       "    <tr>\n",
       "      <th>dnn_totalviews_model</th>\n",
       "      <td>5957.702637</td>\n",
       "    </tr>\n",
       "    <tr>\n",
       "      <th>dnn_model</th>\n",
       "      <td>2424.900879</td>\n",
       "    </tr>\n",
       "    <tr>\n",
       "      <th>xgb_model</th>\n",
       "      <td>146.553059</td>\n",
       "    </tr>\n",
       "    <tr>\n",
       "      <th>xgb_model_without_usage</th>\n",
       "      <td>3166.495272</td>\n",
       "    </tr>\n",
       "  </tbody>\n",
       "</table>\n",
       "</div>"
      ],
      "text/plain": [
       "                         Mean squared error [TotalVotes]\n",
       "totalviews_model                            25636.134766\n",
       "linear_model                                25100.847656\n",
       "dnn_totalviews_model                         5957.702637\n",
       "dnn_model                                    2424.900879\n",
       "xgb_model                                     146.553059\n",
       "xgb_model_without_usage                      3166.495272"
      ]
     },
     "execution_count": 443,
     "metadata": {},
     "output_type": "execute_result"
    }
   ],
   "source": [
    "pd.DataFrame(test_results_MSE, index=['Mean squared error [TotalVotes]']).T"
   ]
  },
  {
   "cell_type": "code",
   "execution_count": null,
   "id": "7381f4de",
   "metadata": {},
   "outputs": [],
   "source": [
    "pd.DataFrame(test_results, index=['Mean absolute error [TotalVotes]']).T\n",
    "\n",
    "pd.DataFrame(test_results_MSE, index=['Mean squared error [TotalVotes]']).T"
   ]
  }
 ],
 "metadata": {
  "kernelspec": {
   "display_name": "Python 3 (ipykernel)",
   "language": "python",
   "name": "python3"
  },
  "language_info": {
   "codemirror_mode": {
    "name": "ipython",
    "version": 3
   },
   "file_extension": ".py",
   "mimetype": "text/x-python",
   "name": "python",
   "nbconvert_exporter": "python",
   "pygments_lexer": "ipython3",
   "version": "3.9.5"
  }
 },
 "nbformat": 4,
 "nbformat_minor": 5
}
